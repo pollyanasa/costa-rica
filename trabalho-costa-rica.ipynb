{
 "cells": [
  {
   "cell_type": "code",
   "execution_count": 1,
   "metadata": {
    "_cell_guid": "b1076dfc-b9ad-4769-8c92-a6c4dae69d19",
    "_uuid": "8f2839f25d086af736a60e9eeb907d3b93b6e0e5",
    "execution": {
     "iopub.execute_input": "2021-03-29T15:21:43.535108Z",
     "iopub.status.busy": "2021-03-29T15:21:43.534195Z",
     "iopub.status.idle": "2021-03-29T15:21:43.541742Z",
     "shell.execute_reply": "2021-03-29T15:21:43.540935Z"
    },
    "papermill": {
     "duration": 0.076523,
     "end_time": "2021-03-29T15:21:43.541946",
     "exception": false,
     "start_time": "2021-03-29T15:21:43.465423",
     "status": "completed"
    },
    "tags": []
   },
   "outputs": [
    {
     "name": "stdout",
     "output_type": "stream",
     "text": [
      "/kaggle/input/costa-rican-household-poverty-prediction/sample_submission.csv\n",
      "/kaggle/input/costa-rican-household-poverty-prediction/codebook.csv\n",
      "/kaggle/input/costa-rican-household-poverty-prediction/train.csv.zip\n",
      "/kaggle/input/costa-rican-household-poverty-prediction/sample_submission.csv.zip\n",
      "/kaggle/input/costa-rican-household-poverty-prediction/codebook.xlsx\n",
      "/kaggle/input/costa-rican-household-poverty-prediction/train.csv\n",
      "/kaggle/input/costa-rican-household-poverty-prediction/test.csv\n",
      "/kaggle/input/costa-rican-household-poverty-prediction/test.csv.zip\n"
     ]
    }
   ],
   "source": [
    "# This Python 3 environment comes with many helpful analytics libraries installed\n",
    "# It is defined by the kaggle/python Docker image: https://github.com/kaggle/docker-python\n",
    "# For example, here's several helpful packages to load\n",
    "\n",
    "import numpy as np # linear algebra\n",
    "import pandas as pd # data processing, CSV file I/O (e.g. pd.read_csv)\n",
    "\n",
    "# Input data files are available in the read-only \"../input/\" directory\n",
    "# For example, running this (by clicking run or pressing Shift+Enter) will list all files under the input directory\n",
    "\n",
    "import os\n",
    "for dirname, _, filenames in os.walk('/kaggle/input'):\n",
    "    for filename in filenames:\n",
    "        print(os.path.join(dirname, filename))\n",
    "\n",
    "# You can write up to 20GB to the current directory (/kaggle/working/) that gets preserved as output when you create a version using \"Save & Run All\" \n",
    "# You can also write temporary files to /kaggle/temp/, but they won't be saved outside of the current session"
   ]
  },
  {
   "cell_type": "code",
   "execution_count": 2,
   "metadata": {
    "execution": {
     "iopub.execute_input": "2021-03-29T15:21:43.672395Z",
     "iopub.status.busy": "2021-03-29T15:21:43.671577Z",
     "iopub.status.idle": "2021-03-29T15:21:44.248879Z",
     "shell.execute_reply": "2021-03-29T15:21:44.248316Z"
    },
    "papermill": {
     "duration": 0.645239,
     "end_time": "2021-03-29T15:21:44.249048",
     "exception": false,
     "start_time": "2021-03-29T15:21:43.603809",
     "status": "completed"
    },
    "tags": []
   },
   "outputs": [
    {
     "data": {
      "text/plain": [
       "((9557, 143), (23856, 142))"
      ]
     },
     "execution_count": 2,
     "metadata": {},
     "output_type": "execute_result"
    }
   ],
   "source": [
    "# Carregando os dados\n",
    "df = pd.read_csv('/kaggle/input/costa-rican-household-poverty-prediction/train.csv')\n",
    "test = pd.read_csv('/kaggle/input/costa-rican-household-poverty-prediction/test.csv')\n",
    "\n",
    "df.shape, test.shape"
   ]
  },
  {
   "cell_type": "code",
   "execution_count": 3,
   "metadata": {
    "execution": {
     "iopub.execute_input": "2021-03-29T15:21:44.388080Z",
     "iopub.status.busy": "2021-03-29T15:21:44.387407Z",
     "iopub.status.idle": "2021-03-29T15:21:44.443159Z",
     "shell.execute_reply": "2021-03-29T15:21:44.443696Z"
    },
    "papermill": {
     "duration": 0.12942,
     "end_time": "2021-03-29T15:21:44.443907",
     "exception": false,
     "start_time": "2021-03-29T15:21:44.314487",
     "status": "completed"
    },
    "tags": []
   },
   "outputs": [
    {
     "data": {
      "text/plain": [
       "(33413, 143)"
      ]
     },
     "execution_count": 3,
     "metadata": {},
     "output_type": "execute_result"
    }
   ],
   "source": [
    "# Juntando os dataframes de treino e teste\n",
    "df_all = df.append(test)\n",
    "\n",
    "df_all.shape"
   ]
  },
  {
   "cell_type": "code",
   "execution_count": 4,
   "metadata": {
    "execution": {
     "iopub.execute_input": "2021-03-29T15:21:44.573091Z",
     "iopub.status.busy": "2021-03-29T15:21:44.572049Z",
     "iopub.status.idle": "2021-03-29T15:21:44.630614Z",
     "shell.execute_reply": "2021-03-29T15:21:44.631104Z"
    },
    "papermill": {
     "duration": 0.124845,
     "end_time": "2021-03-29T15:21:44.631325",
     "exception": false,
     "start_time": "2021-03-29T15:21:44.506480",
     "status": "completed"
    },
    "tags": []
   },
   "outputs": [
    {
     "name": "stdout",
     "output_type": "stream",
     "text": [
      "<class 'pandas.core.frame.DataFrame'>\n",
      "Int64Index: 33413 entries, 0 to 23855\n",
      "Data columns (total 143 columns):\n",
      " #    Column           Non-Null Count  Dtype  \n",
      "---   ------           --------------  -----  \n",
      " 0    Id               33413 non-null  object \n",
      " 1    v2a1             9150 non-null   float64\n",
      " 2    hacdor           33413 non-null  int64  \n",
      " 3    rooms            33413 non-null  int64  \n",
      " 4    hacapo           33413 non-null  int64  \n",
      " 5    v14a             33413 non-null  int64  \n",
      " 6    refrig           33413 non-null  int64  \n",
      " 7    v18q             33413 non-null  int64  \n",
      " 8    v18q1            7945 non-null   float64\n",
      " 9    r4h1             33413 non-null  int64  \n",
      " 10   r4h2             33413 non-null  int64  \n",
      " 11   r4h3             33413 non-null  int64  \n",
      " 12   r4m1             33413 non-null  int64  \n",
      " 13   r4m2             33413 non-null  int64  \n",
      " 14   r4m3             33413 non-null  int64  \n",
      " 15   r4t1             33413 non-null  int64  \n",
      " 16   r4t2             33413 non-null  int64  \n",
      " 17   r4t3             33413 non-null  int64  \n",
      " 18   tamhog           33413 non-null  int64  \n",
      " 19   tamviv           33413 non-null  int64  \n",
      " 20   escolari         33413 non-null  int64  \n",
      " 21   rez_esc          5832 non-null   float64\n",
      " 22   hhsize           33413 non-null  int64  \n",
      " 23   paredblolad      33413 non-null  int64  \n",
      " 24   paredzocalo      33413 non-null  int64  \n",
      " 25   paredpreb        33413 non-null  int64  \n",
      " 26   pareddes         33413 non-null  int64  \n",
      " 27   paredmad         33413 non-null  int64  \n",
      " 28   paredzinc        33413 non-null  int64  \n",
      " 29   paredfibras      33413 non-null  int64  \n",
      " 30   paredother       33413 non-null  int64  \n",
      " 31   pisomoscer       33413 non-null  int64  \n",
      " 32   pisocemento      33413 non-null  int64  \n",
      " 33   pisoother        33413 non-null  int64  \n",
      " 34   pisonatur        33413 non-null  int64  \n",
      " 35   pisonotiene      33413 non-null  int64  \n",
      " 36   pisomadera       33413 non-null  int64  \n",
      " 37   techozinc        33413 non-null  int64  \n",
      " 38   techoentrepiso   33413 non-null  int64  \n",
      " 39   techocane        33413 non-null  int64  \n",
      " 40   techootro        33413 non-null  int64  \n",
      " 41   cielorazo        33413 non-null  int64  \n",
      " 42   abastaguadentro  33413 non-null  int64  \n",
      " 43   abastaguafuera   33413 non-null  int64  \n",
      " 44   abastaguano      33413 non-null  int64  \n",
      " 45   public           33413 non-null  int64  \n",
      " 46   planpri          33413 non-null  int64  \n",
      " 47   noelec           33413 non-null  int64  \n",
      " 48   coopele          33413 non-null  int64  \n",
      " 49   sanitario1       33413 non-null  int64  \n",
      " 50   sanitario2       33413 non-null  int64  \n",
      " 51   sanitario3       33413 non-null  int64  \n",
      " 52   sanitario5       33413 non-null  int64  \n",
      " 53   sanitario6       33413 non-null  int64  \n",
      " 54   energcocinar1    33413 non-null  int64  \n",
      " 55   energcocinar2    33413 non-null  int64  \n",
      " 56   energcocinar3    33413 non-null  int64  \n",
      " 57   energcocinar4    33413 non-null  int64  \n",
      " 58   elimbasu1        33413 non-null  int64  \n",
      " 59   elimbasu2        33413 non-null  int64  \n",
      " 60   elimbasu3        33413 non-null  int64  \n",
      " 61   elimbasu4        33413 non-null  int64  \n",
      " 62   elimbasu5        33413 non-null  int64  \n",
      " 63   elimbasu6        33413 non-null  int64  \n",
      " 64   epared1          33413 non-null  int64  \n",
      " 65   epared2          33413 non-null  int64  \n",
      " 66   epared3          33413 non-null  int64  \n",
      " 67   etecho1          33413 non-null  int64  \n",
      " 68   etecho2          33413 non-null  int64  \n",
      " 69   etecho3          33413 non-null  int64  \n",
      " 70   eviv1            33413 non-null  int64  \n",
      " 71   eviv2            33413 non-null  int64  \n",
      " 72   eviv3            33413 non-null  int64  \n",
      " 73   dis              33413 non-null  int64  \n",
      " 74   male             33413 non-null  int64  \n",
      " 75   female           33413 non-null  int64  \n",
      " 76   estadocivil1     33413 non-null  int64  \n",
      " 77   estadocivil2     33413 non-null  int64  \n",
      " 78   estadocivil3     33413 non-null  int64  \n",
      " 79   estadocivil4     33413 non-null  int64  \n",
      " 80   estadocivil5     33413 non-null  int64  \n",
      " 81   estadocivil6     33413 non-null  int64  \n",
      " 82   estadocivil7     33413 non-null  int64  \n",
      " 83   parentesco1      33413 non-null  int64  \n",
      " 84   parentesco2      33413 non-null  int64  \n",
      " 85   parentesco3      33413 non-null  int64  \n",
      " 86   parentesco4      33413 non-null  int64  \n",
      " 87   parentesco5      33413 non-null  int64  \n",
      " 88   parentesco6      33413 non-null  int64  \n",
      " 89   parentesco7      33413 non-null  int64  \n",
      " 90   parentesco8      33413 non-null  int64  \n",
      " 91   parentesco9      33413 non-null  int64  \n",
      " 92   parentesco10     33413 non-null  int64  \n",
      " 93   parentesco11     33413 non-null  int64  \n",
      " 94   parentesco12     33413 non-null  int64  \n",
      " 95   idhogar          33413 non-null  object \n",
      " 96   hogar_nin        33413 non-null  int64  \n",
      " 97   hogar_adul       33413 non-null  int64  \n",
      " 98   hogar_mayor      33413 non-null  int64  \n",
      " 99   hogar_total      33413 non-null  int64  \n",
      " 100  dependency       33413 non-null  object \n",
      " 101  edjefe           33413 non-null  object \n",
      " 102  edjefa           33413 non-null  object \n",
      " 103  meaneduc         33377 non-null  float64\n",
      " 104  instlevel1       33413 non-null  int64  \n",
      " 105  instlevel2       33413 non-null  int64  \n",
      " 106  instlevel3       33413 non-null  int64  \n",
      " 107  instlevel4       33413 non-null  int64  \n",
      " 108  instlevel5       33413 non-null  int64  \n",
      " 109  instlevel6       33413 non-null  int64  \n",
      " 110  instlevel7       33413 non-null  int64  \n",
      " 111  instlevel8       33413 non-null  int64  \n",
      " 112  instlevel9       33413 non-null  int64  \n",
      " 113  bedrooms         33413 non-null  int64  \n",
      " 114  overcrowding     33413 non-null  float64\n",
      " 115  tipovivi1        33413 non-null  int64  \n",
      " 116  tipovivi2        33413 non-null  int64  \n",
      " 117  tipovivi3        33413 non-null  int64  \n",
      " 118  tipovivi4        33413 non-null  int64  \n",
      " 119  tipovivi5        33413 non-null  int64  \n",
      " 120  computer         33413 non-null  int64  \n",
      " 121  television       33413 non-null  int64  \n",
      " 122  mobilephone      33413 non-null  int64  \n",
      " 123  qmobilephone     33413 non-null  int64  \n",
      " 124  lugar1           33413 non-null  int64  \n",
      " 125  lugar2           33413 non-null  int64  \n",
      " 126  lugar3           33413 non-null  int64  \n",
      " 127  lugar4           33413 non-null  int64  \n",
      " 128  lugar5           33413 non-null  int64  \n",
      " 129  lugar6           33413 non-null  int64  \n",
      " 130  area1            33413 non-null  int64  \n",
      " 131  area2            33413 non-null  int64  \n",
      " 132  age              33413 non-null  int64  \n",
      " 133  SQBescolari      33413 non-null  int64  \n",
      " 134  SQBage           33413 non-null  int64  \n",
      " 135  SQBhogar_total   33413 non-null  int64  \n",
      " 136  SQBedjefe        33413 non-null  int64  \n",
      " 137  SQBhogar_nin     33413 non-null  int64  \n",
      " 138  SQBovercrowding  33413 non-null  float64\n",
      " 139  SQBdependency    33413 non-null  float64\n",
      " 140  SQBmeaned        33377 non-null  float64\n",
      " 141  agesq            33413 non-null  int64  \n",
      " 142  Target           9557 non-null   float64\n",
      "dtypes: float64(9), int64(129), object(5)\n",
      "memory usage: 36.7+ MB\n"
     ]
    }
   ],
   "source": [
    "# Entender os dados\n",
    "df_all.info(max_cols=145)"
   ]
  },
  {
   "cell_type": "markdown",
   "metadata": {
    "papermill": {
     "duration": 0.062424,
     "end_time": "2021-03-29T15:21:44.757731",
     "exception": false,
     "start_time": "2021-03-29T15:21:44.695307",
     "status": "completed"
    },
    "tags": []
   },
   "source": [
    "## Pré-processamento e limpeza dos dados"
   ]
  },
  {
   "cell_type": "code",
   "execution_count": 5,
   "metadata": {
    "execution": {
     "iopub.execute_input": "2021-03-29T15:21:44.891282Z",
     "iopub.status.busy": "2021-03-29T15:21:44.890586Z",
     "iopub.status.idle": "2021-03-29T15:21:44.938713Z",
     "shell.execute_reply": "2021-03-29T15:21:44.939345Z"
    },
    "papermill": {
     "duration": 0.118667,
     "end_time": "2021-03-29T15:21:44.939529",
     "exception": false,
     "start_time": "2021-03-29T15:21:44.820862",
     "status": "completed"
    },
    "tags": []
   },
   "outputs": [
    {
     "data": {
      "text/html": [
       "<div>\n",
       "<style scoped>\n",
       "    .dataframe tbody tr th:only-of-type {\n",
       "        vertical-align: middle;\n",
       "    }\n",
       "\n",
       "    .dataframe tbody tr th {\n",
       "        vertical-align: top;\n",
       "    }\n",
       "\n",
       "    .dataframe thead th {\n",
       "        text-align: right;\n",
       "    }\n",
       "</style>\n",
       "<table border=\"1\" class=\"dataframe\">\n",
       "  <thead>\n",
       "    <tr style=\"text-align: right;\">\n",
       "      <th></th>\n",
       "      <th>Id</th>\n",
       "      <th>idhogar</th>\n",
       "      <th>dependency</th>\n",
       "      <th>edjefe</th>\n",
       "      <th>edjefa</th>\n",
       "    </tr>\n",
       "  </thead>\n",
       "  <tbody>\n",
       "    <tr>\n",
       "      <th>0</th>\n",
       "      <td>ID_279628684</td>\n",
       "      <td>21eb7fcc1</td>\n",
       "      <td>no</td>\n",
       "      <td>10</td>\n",
       "      <td>no</td>\n",
       "    </tr>\n",
       "    <tr>\n",
       "      <th>1</th>\n",
       "      <td>ID_f29eb3ddd</td>\n",
       "      <td>0e5d7a658</td>\n",
       "      <td>8</td>\n",
       "      <td>12</td>\n",
       "      <td>no</td>\n",
       "    </tr>\n",
       "    <tr>\n",
       "      <th>2</th>\n",
       "      <td>ID_68de51c94</td>\n",
       "      <td>2c7317ea8</td>\n",
       "      <td>8</td>\n",
       "      <td>no</td>\n",
       "      <td>11</td>\n",
       "    </tr>\n",
       "    <tr>\n",
       "      <th>3</th>\n",
       "      <td>ID_d671db89c</td>\n",
       "      <td>2b58d945f</td>\n",
       "      <td>yes</td>\n",
       "      <td>11</td>\n",
       "      <td>no</td>\n",
       "    </tr>\n",
       "    <tr>\n",
       "      <th>4</th>\n",
       "      <td>ID_d56d6f5f5</td>\n",
       "      <td>2b58d945f</td>\n",
       "      <td>yes</td>\n",
       "      <td>11</td>\n",
       "      <td>no</td>\n",
       "    </tr>\n",
       "  </tbody>\n",
       "</table>\n",
       "</div>"
      ],
      "text/plain": [
       "             Id    idhogar dependency edjefe edjefa\n",
       "0  ID_279628684  21eb7fcc1         no     10     no\n",
       "1  ID_f29eb3ddd  0e5d7a658          8     12     no\n",
       "2  ID_68de51c94  2c7317ea8          8     no     11\n",
       "3  ID_d671db89c  2b58d945f        yes     11     no\n",
       "4  ID_d56d6f5f5  2b58d945f        yes     11     no"
      ]
     },
     "execution_count": 5,
     "metadata": {},
     "output_type": "execute_result"
    }
   ],
   "source": [
    "# Quais colunas do dataframe são do tipo object\n",
    "df_all.select_dtypes('object').head()"
   ]
  },
  {
   "cell_type": "code",
   "execution_count": 6,
   "metadata": {
    "execution": {
     "iopub.execute_input": "2021-03-29T15:21:45.072771Z",
     "iopub.status.busy": "2021-03-29T15:21:45.072115Z",
     "iopub.status.idle": "2021-03-29T15:21:45.088721Z",
     "shell.execute_reply": "2021-03-29T15:21:45.088160Z"
    },
    "papermill": {
     "duration": 0.082677,
     "end_time": "2021-03-29T15:21:45.088882",
     "exception": false,
     "start_time": "2021-03-29T15:21:45.006205",
     "status": "completed"
    },
    "tags": []
   },
   "outputs": [
    {
     "data": {
      "text/plain": [
       "yes          7580\n",
       "no           6036\n",
       ".5           5175\n",
       "2            2499\n",
       "1.5          2471\n",
       ".33333334    2131\n",
       ".66666669    1617\n",
       "8            1415\n",
       ".25           944\n",
       "3             832\n",
       "1.3333334     362\n",
       ".2            306\n",
       "2.5           301\n",
       ".75           301\n",
       "4             295\n",
       ".40000001     259\n",
       ".60000002     136\n",
       "1.6666666     128\n",
       "5             120\n",
       "1.25           72\n",
       ".80000001      63\n",
       ".16666667      63\n",
       "3.5            36\n",
       ".83333331      33\n",
       ".14285715      32\n",
       "2.3333333      30\n",
       "2.25           26\n",
       "1.2            22\n",
       ".2857143       18\n",
       "7              16\n",
       "6              14\n",
       ".85714287      13\n",
       "3.3333333      13\n",
       ".71428573      12\n",
       ".375           11\n",
       ".22222222      11\n",
       "1.75           11\n",
       ".125            9\n",
       "Name: dependency, dtype: int64"
      ]
     },
     "execution_count": 6,
     "metadata": {},
     "output_type": "execute_result"
    }
   ],
   "source": [
    "# Olhando a coluna dependency\n",
    "df_all['dependency'].value_counts()"
   ]
  },
  {
   "cell_type": "markdown",
   "metadata": {
    "papermill": {
     "duration": 0.065107,
     "end_time": "2021-03-29T15:21:45.217888",
     "exception": false,
     "start_time": "2021-03-29T15:21:45.152781",
     "status": "completed"
    },
    "tags": []
   },
   "source": [
    "##### coluna dependency, Dependency rate, calculated = (number of members of the household younger than 19 or older than 64)/(number of member of household between 19 and 64)"
   ]
  },
  {
   "cell_type": "markdown",
   "metadata": {
    "papermill": {
     "duration": 0.066614,
     "end_time": "2021-03-29T15:21:45.348793",
     "exception": false,
     "start_time": "2021-03-29T15:21:45.282179",
     "status": "completed"
    },
    "tags": []
   },
   "source": [
    "### Investigando o valor 'yes' na coluna dependency"
   ]
  },
  {
   "cell_type": "code",
   "execution_count": 7,
   "metadata": {
    "execution": {
     "iopub.execute_input": "2021-03-29T15:21:45.488627Z",
     "iopub.status.busy": "2021-03-29T15:21:45.487891Z",
     "iopub.status.idle": "2021-03-29T15:21:45.501614Z",
     "shell.execute_reply": "2021-03-29T15:21:45.501028Z"
    },
    "papermill": {
     "duration": 0.087462,
     "end_time": "2021-03-29T15:21:45.501778",
     "exception": false,
     "start_time": "2021-03-29T15:21:45.414316",
     "status": "completed"
    },
    "tags": []
   },
   "outputs": [
    {
     "data": {
      "text/plain": [
       "3    2b58d945f\n",
       "4    2b58d945f\n",
       "5    2b58d945f\n",
       "6    2b58d945f\n",
       "7    d6dae86b7\n",
       "Name: idhogar, dtype: object"
      ]
     },
     "execution_count": 7,
     "metadata": {},
     "output_type": "execute_result"
    }
   ],
   "source": [
    "# Vamos obter o idhogar de alguns casos\n",
    "df_all[df_all['dependency'] == 'yes']['idhogar'].head()"
   ]
  },
  {
   "cell_type": "code",
   "execution_count": 8,
   "metadata": {
    "execution": {
     "iopub.execute_input": "2021-03-29T15:21:45.632539Z",
     "iopub.status.busy": "2021-03-29T15:21:45.631830Z",
     "iopub.status.idle": "2021-03-29T15:21:45.648387Z",
     "shell.execute_reply": "2021-03-29T15:21:45.648920Z"
    },
    "papermill": {
     "duration": 0.08365,
     "end_time": "2021-03-29T15:21:45.649087",
     "exception": false,
     "start_time": "2021-03-29T15:21:45.565437",
     "status": "completed"
    },
    "tags": []
   },
   "outputs": [
    {
     "data": {
      "text/html": [
       "<div>\n",
       "<style scoped>\n",
       "    .dataframe tbody tr th:only-of-type {\n",
       "        vertical-align: middle;\n",
       "    }\n",
       "\n",
       "    .dataframe tbody tr th {\n",
       "        vertical-align: top;\n",
       "    }\n",
       "\n",
       "    .dataframe thead th {\n",
       "        text-align: right;\n",
       "    }\n",
       "</style>\n",
       "<table border=\"1\" class=\"dataframe\">\n",
       "  <thead>\n",
       "    <tr style=\"text-align: right;\">\n",
       "      <th></th>\n",
       "      <th>hogar_nin</th>\n",
       "      <th>hogar_adul</th>\n",
       "      <th>hogar_mayor</th>\n",
       "      <th>hogar_total</th>\n",
       "    </tr>\n",
       "  </thead>\n",
       "  <tbody>\n",
       "    <tr>\n",
       "      <th>3</th>\n",
       "      <td>2</td>\n",
       "      <td>2</td>\n",
       "      <td>0</td>\n",
       "      <td>4</td>\n",
       "    </tr>\n",
       "    <tr>\n",
       "      <th>4</th>\n",
       "      <td>2</td>\n",
       "      <td>2</td>\n",
       "      <td>0</td>\n",
       "      <td>4</td>\n",
       "    </tr>\n",
       "    <tr>\n",
       "      <th>5</th>\n",
       "      <td>2</td>\n",
       "      <td>2</td>\n",
       "      <td>0</td>\n",
       "      <td>4</td>\n",
       "    </tr>\n",
       "    <tr>\n",
       "      <th>6</th>\n",
       "      <td>2</td>\n",
       "      <td>2</td>\n",
       "      <td>0</td>\n",
       "      <td>4</td>\n",
       "    </tr>\n",
       "  </tbody>\n",
       "</table>\n",
       "</div>"
      ],
      "text/plain": [
       "   hogar_nin  hogar_adul  hogar_mayor  hogar_total\n",
       "3          2           2            0            4\n",
       "4          2           2            0            4\n",
       "5          2           2            0            4\n",
       "6          2           2            0            4"
      ]
     },
     "execution_count": 8,
     "metadata": {},
     "output_type": "execute_result"
    }
   ],
   "source": [
    "# Vamos investigar o idhogar 2b58d945f pegando as variáveis de cálculo da coluna dependency\n",
    "df_all[df_all['idhogar'] == '2b58d945f'][['hogar_nin', 'hogar_adul', 'hogar_mayor', 'hogar_total']]"
   ]
  },
  {
   "cell_type": "code",
   "execution_count": 9,
   "metadata": {
    "execution": {
     "iopub.execute_input": "2021-03-29T15:21:45.780666Z",
     "iopub.status.busy": "2021-03-29T15:21:45.780021Z",
     "iopub.status.idle": "2021-03-29T15:21:45.797564Z",
     "shell.execute_reply": "2021-03-29T15:21:45.798058Z"
    },
    "papermill": {
     "duration": 0.085372,
     "end_time": "2021-03-29T15:21:45.798263",
     "exception": false,
     "start_time": "2021-03-29T15:21:45.712891",
     "status": "completed"
    },
    "tags": []
   },
   "outputs": [
    {
     "data": {
      "text/html": [
       "<div>\n",
       "<style scoped>\n",
       "    .dataframe tbody tr th:only-of-type {\n",
       "        vertical-align: middle;\n",
       "    }\n",
       "\n",
       "    .dataframe tbody tr th {\n",
       "        vertical-align: top;\n",
       "    }\n",
       "\n",
       "    .dataframe thead th {\n",
       "        text-align: right;\n",
       "    }\n",
       "</style>\n",
       "<table border=\"1\" class=\"dataframe\">\n",
       "  <thead>\n",
       "    <tr style=\"text-align: right;\">\n",
       "      <th></th>\n",
       "      <th>hogar_nin</th>\n",
       "      <th>hogar_adul</th>\n",
       "      <th>hogar_mayor</th>\n",
       "      <th>hogar_total</th>\n",
       "    </tr>\n",
       "  </thead>\n",
       "  <tbody>\n",
       "    <tr>\n",
       "      <th>7</th>\n",
       "      <td>2</td>\n",
       "      <td>2</td>\n",
       "      <td>0</td>\n",
       "      <td>4</td>\n",
       "    </tr>\n",
       "    <tr>\n",
       "      <th>8</th>\n",
       "      <td>2</td>\n",
       "      <td>2</td>\n",
       "      <td>0</td>\n",
       "      <td>4</td>\n",
       "    </tr>\n",
       "    <tr>\n",
       "      <th>9</th>\n",
       "      <td>2</td>\n",
       "      <td>2</td>\n",
       "      <td>0</td>\n",
       "      <td>4</td>\n",
       "    </tr>\n",
       "    <tr>\n",
       "      <th>10</th>\n",
       "      <td>2</td>\n",
       "      <td>2</td>\n",
       "      <td>0</td>\n",
       "      <td>4</td>\n",
       "    </tr>\n",
       "  </tbody>\n",
       "</table>\n",
       "</div>"
      ],
      "text/plain": [
       "    hogar_nin  hogar_adul  hogar_mayor  hogar_total\n",
       "7           2           2            0            4\n",
       "8           2           2            0            4\n",
       "9           2           2            0            4\n",
       "10          2           2            0            4"
      ]
     },
     "execution_count": 9,
     "metadata": {},
     "output_type": "execute_result"
    }
   ],
   "source": [
    "# Vamos investigar o idhogar d6dae86b7 pegando as variáveis de cálculo da coluna dependency\n",
    "df_all[df_all['idhogar'] == 'd6dae86b7'][['hogar_nin', 'hogar_adul', 'hogar_mayor', 'hogar_total']]"
   ]
  },
  {
   "cell_type": "markdown",
   "metadata": {
    "papermill": {
     "duration": 0.066028,
     "end_time": "2021-03-29T15:21:45.930705",
     "exception": false,
     "start_time": "2021-03-29T15:21:45.864677",
     "status": "completed"
    },
    "tags": []
   },
   "source": [
    "### dependency Yes está dando 1\n",
    "#### avaliar o no agora"
   ]
  },
  {
   "cell_type": "code",
   "execution_count": 10,
   "metadata": {
    "execution": {
     "iopub.execute_input": "2021-03-29T15:21:46.078099Z",
     "iopub.status.busy": "2021-03-29T15:21:46.077389Z",
     "iopub.status.idle": "2021-03-29T15:21:46.090768Z",
     "shell.execute_reply": "2021-03-29T15:21:46.090059Z"
    },
    "papermill": {
     "duration": 0.090285,
     "end_time": "2021-03-29T15:21:46.090924",
     "exception": false,
     "start_time": "2021-03-29T15:21:46.000639",
     "status": "completed"
    },
    "tags": []
   },
   "outputs": [
    {
     "data": {
      "text/plain": [
       "0     21eb7fcc1\n",
       "19    d29058053\n",
       "20    d29058053\n",
       "23    3e16fab89\n",
       "24    3e16fab89\n",
       "Name: idhogar, dtype: object"
      ]
     },
     "execution_count": 10,
     "metadata": {},
     "output_type": "execute_result"
    }
   ],
   "source": [
    "# Vamos obter o idhogar de alguns casos\n",
    "df_all[df_all['dependency'] == 'no']['idhogar'].head()"
   ]
  },
  {
   "cell_type": "code",
   "execution_count": 11,
   "metadata": {
    "execution": {
     "iopub.execute_input": "2021-03-29T15:21:46.226766Z",
     "iopub.status.busy": "2021-03-29T15:21:46.225882Z",
     "iopub.status.idle": "2021-03-29T15:21:46.244011Z",
     "shell.execute_reply": "2021-03-29T15:21:46.243499Z"
    },
    "papermill": {
     "duration": 0.087298,
     "end_time": "2021-03-29T15:21:46.244157",
     "exception": false,
     "start_time": "2021-03-29T15:21:46.156859",
     "status": "completed"
    },
    "tags": []
   },
   "outputs": [
    {
     "data": {
      "text/html": [
       "<div>\n",
       "<style scoped>\n",
       "    .dataframe tbody tr th:only-of-type {\n",
       "        vertical-align: middle;\n",
       "    }\n",
       "\n",
       "    .dataframe tbody tr th {\n",
       "        vertical-align: top;\n",
       "    }\n",
       "\n",
       "    .dataframe thead th {\n",
       "        text-align: right;\n",
       "    }\n",
       "</style>\n",
       "<table border=\"1\" class=\"dataframe\">\n",
       "  <thead>\n",
       "    <tr style=\"text-align: right;\">\n",
       "      <th></th>\n",
       "      <th>hogar_nin</th>\n",
       "      <th>hogar_adul</th>\n",
       "      <th>hogar_mayor</th>\n",
       "      <th>hogar_total</th>\n",
       "    </tr>\n",
       "  </thead>\n",
       "  <tbody>\n",
       "    <tr>\n",
       "      <th>23</th>\n",
       "      <td>0</td>\n",
       "      <td>3</td>\n",
       "      <td>0</td>\n",
       "      <td>3</td>\n",
       "    </tr>\n",
       "    <tr>\n",
       "      <th>24</th>\n",
       "      <td>0</td>\n",
       "      <td>3</td>\n",
       "      <td>0</td>\n",
       "      <td>3</td>\n",
       "    </tr>\n",
       "    <tr>\n",
       "      <th>25</th>\n",
       "      <td>0</td>\n",
       "      <td>3</td>\n",
       "      <td>0</td>\n",
       "      <td>3</td>\n",
       "    </tr>\n",
       "  </tbody>\n",
       "</table>\n",
       "</div>"
      ],
      "text/plain": [
       "    hogar_nin  hogar_adul  hogar_mayor  hogar_total\n",
       "23          0           3            0            3\n",
       "24          0           3            0            3\n",
       "25          0           3            0            3"
      ]
     },
     "execution_count": 11,
     "metadata": {},
     "output_type": "execute_result"
    }
   ],
   "source": [
    "# Vamos investigar o idhogar 3e16fab89 pegando as variáveis de cálculo da coluna dependency\n",
    "df_all[df_all['idhogar'] == '3e16fab89'][['hogar_nin', 'hogar_adul', 'hogar_mayor', 'hogar_total']]"
   ]
  },
  {
   "cell_type": "code",
   "execution_count": 12,
   "metadata": {
    "execution": {
     "iopub.execute_input": "2021-03-29T15:21:46.394700Z",
     "iopub.status.busy": "2021-03-29T15:21:46.381102Z",
     "iopub.status.idle": "2021-03-29T15:21:46.397989Z",
     "shell.execute_reply": "2021-03-29T15:21:46.398522Z"
    },
    "papermill": {
     "duration": 0.087661,
     "end_time": "2021-03-29T15:21:46.398700",
     "exception": false,
     "start_time": "2021-03-29T15:21:46.311039",
     "status": "completed"
    },
    "tags": []
   },
   "outputs": [
    {
     "data": {
      "text/html": [
       "<div>\n",
       "<style scoped>\n",
       "    .dataframe tbody tr th:only-of-type {\n",
       "        vertical-align: middle;\n",
       "    }\n",
       "\n",
       "    .dataframe tbody tr th {\n",
       "        vertical-align: top;\n",
       "    }\n",
       "\n",
       "    .dataframe thead th {\n",
       "        text-align: right;\n",
       "    }\n",
       "</style>\n",
       "<table border=\"1\" class=\"dataframe\">\n",
       "  <thead>\n",
       "    <tr style=\"text-align: right;\">\n",
       "      <th></th>\n",
       "      <th>hogar_nin</th>\n",
       "      <th>hogar_adul</th>\n",
       "      <th>hogar_mayor</th>\n",
       "      <th>hogar_total</th>\n",
       "    </tr>\n",
       "  </thead>\n",
       "  <tbody>\n",
       "    <tr>\n",
       "      <th>19</th>\n",
       "      <td>0</td>\n",
       "      <td>2</td>\n",
       "      <td>0</td>\n",
       "      <td>2</td>\n",
       "    </tr>\n",
       "    <tr>\n",
       "      <th>20</th>\n",
       "      <td>0</td>\n",
       "      <td>2</td>\n",
       "      <td>0</td>\n",
       "      <td>2</td>\n",
       "    </tr>\n",
       "  </tbody>\n",
       "</table>\n",
       "</div>"
      ],
      "text/plain": [
       "    hogar_nin  hogar_adul  hogar_mayor  hogar_total\n",
       "19          0           2            0            2\n",
       "20          0           2            0            2"
      ]
     },
     "execution_count": 12,
     "metadata": {},
     "output_type": "execute_result"
    }
   ],
   "source": [
    "# Vamos investigar o idhogar d29058053 pegando as variáveis de cálculo da coluna dependency\n",
    "df_all[df_all['idhogar'] == 'd29058053'][['hogar_nin', 'hogar_adul', 'hogar_mayor', 'hogar_total']]"
   ]
  },
  {
   "cell_type": "markdown",
   "metadata": {
    "papermill": {
     "duration": 0.067515,
     "end_time": "2021-03-29T15:21:46.532365",
     "exception": false,
     "start_time": "2021-03-29T15:21:46.464850",
     "status": "completed"
    },
    "tags": []
   },
   "source": [
    "### dependency 'no' está dando 0"
   ]
  },
  {
   "cell_type": "markdown",
   "metadata": {
    "papermill": {
     "duration": 0.065468,
     "end_time": "2021-03-29T15:21:46.665043",
     "exception": false,
     "start_time": "2021-03-29T15:21:46.599575",
     "status": "completed"
    },
    "tags": []
   },
   "source": [
    "* edjefe, years of education of male head of household, based on the interaction of escolari (years of education), head of household and gender, yes=1 and no=0\n",
    "* edjefa, years of education of female head of household, based on the interaction of escolari (years of education), head of household and gender, yes=1 and no=0"
   ]
  },
  {
   "cell_type": "code",
   "execution_count": 13,
   "metadata": {
    "execution": {
     "iopub.execute_input": "2021-03-29T15:21:46.818655Z",
     "iopub.status.busy": "2021-03-29T15:21:46.816104Z",
     "iopub.status.idle": "2021-03-29T15:21:46.823614Z",
     "shell.execute_reply": "2021-03-29T15:21:46.824186Z"
    },
    "papermill": {
     "duration": 0.091946,
     "end_time": "2021-03-29T15:21:46.824400",
     "exception": false,
     "start_time": "2021-03-29T15:21:46.732454",
     "status": "completed"
    },
    "tags": []
   },
   "outputs": [
    {
     "data": {
      "text/plain": [
       "no     22075\n",
       "6       3401\n",
       "11      1350\n",
       "9        735\n",
       "15       656\n",
       "8        627\n",
       "5        623\n",
       "7        561\n",
       "3        533\n",
       "4        399\n",
       "16       393\n",
       "14       384\n",
       "2        347\n",
       "10       324\n",
       "17       311\n",
       "12       227\n",
       "yes      214\n",
       "13       194\n",
       "21        29\n",
       "19        14\n",
       "18         9\n",
       "20         7\n",
       "Name: edjefa, dtype: int64"
      ]
     },
     "execution_count": 13,
     "metadata": {},
     "output_type": "execute_result"
    }
   ],
   "source": [
    "# Analisando os dados da coluna edjefa\n",
    "df_all['edjefa'].value_counts()"
   ]
  },
  {
   "cell_type": "code",
   "execution_count": 14,
   "metadata": {
    "execution": {
     "iopub.execute_input": "2021-03-29T15:21:46.981963Z",
     "iopub.status.busy": "2021-03-29T15:21:46.979806Z",
     "iopub.status.idle": "2021-03-29T15:21:46.987085Z",
     "shell.execute_reply": "2021-03-29T15:21:46.986423Z"
    },
    "papermill": {
     "duration": 0.090848,
     "end_time": "2021-03-29T15:21:46.987228",
     "exception": false,
     "start_time": "2021-03-29T15:21:46.896380",
     "status": "completed"
    },
    "tags": []
   },
   "outputs": [
    {
     "data": {
      "text/plain": [
       "no     12818\n",
       "6       6958\n",
       "11      2507\n",
       "9       1564\n",
       "3       1046\n",
       "8       1020\n",
       "15       910\n",
       "14       804\n",
       "7        797\n",
       "17       702\n",
       "5        685\n",
       "2        617\n",
       "16       609\n",
       "4        505\n",
       "12       494\n",
       "yes      416\n",
       "10       395\n",
       "13       341\n",
       "21       111\n",
       "19        44\n",
       "18        39\n",
       "20        31\n",
       "Name: edjefe, dtype: int64"
      ]
     },
     "execution_count": 14,
     "metadata": {},
     "output_type": "execute_result"
    }
   ],
   "source": [
    "# Analisando os dados da coluna edjefe\n",
    "df_all['edjefe'].value_counts()"
   ]
  },
  {
   "cell_type": "code",
   "execution_count": 15,
   "metadata": {
    "execution": {
     "iopub.execute_input": "2021-03-29T15:21:47.174098Z",
     "iopub.status.busy": "2021-03-29T15:21:47.168630Z",
     "iopub.status.idle": "2021-03-29T15:21:47.193286Z",
     "shell.execute_reply": "2021-03-29T15:21:47.192582Z"
    },
    "papermill": {
     "duration": 0.117655,
     "end_time": "2021-03-29T15:21:47.193436",
     "exception": false,
     "start_time": "2021-03-29T15:21:47.075781",
     "status": "completed"
    },
    "tags": []
   },
   "outputs": [],
   "source": [
    "# Vamos transformar 'yes' em 1 e 'no' em 0\n",
    "# nas colunas edjefa e edjefe\n",
    "mapeamento = {'yes': 1, 'no': 0}\n",
    "\n",
    "df_all['edjefa'] = df_all['edjefa'].replace(mapeamento).astype(int)\n",
    "df_all['edjefe'] = df_all['edjefe'].replace(mapeamento).astype(int)"
   ]
  },
  {
   "cell_type": "code",
   "execution_count": 16,
   "metadata": {
    "execution": {
     "iopub.execute_input": "2021-03-29T15:21:47.348378Z",
     "iopub.status.busy": "2021-03-29T15:21:47.344003Z",
     "iopub.status.idle": "2021-03-29T15:21:47.359899Z",
     "shell.execute_reply": "2021-03-29T15:21:47.359197Z"
    },
    "papermill": {
     "duration": 0.094376,
     "end_time": "2021-03-29T15:21:47.360043",
     "exception": false,
     "start_time": "2021-03-29T15:21:47.265667",
     "status": "completed"
    },
    "tags": []
   },
   "outputs": [],
   "source": [
    "# Vamos transformar 'yes' em 1 e 'no' em 0\n",
    "# na coluna dependency\n",
    "df_all['dependency'] = df_all['dependency'].replace(mapeamento).astype(float)"
   ]
  },
  {
   "cell_type": "code",
   "execution_count": 17,
   "metadata": {
    "execution": {
     "iopub.execute_input": "2021-03-29T15:21:47.506136Z",
     "iopub.status.busy": "2021-03-29T15:21:47.504895Z",
     "iopub.status.idle": "2021-03-29T15:21:47.544880Z",
     "shell.execute_reply": "2021-03-29T15:21:47.544183Z"
    },
    "papermill": {
     "duration": 0.117536,
     "end_time": "2021-03-29T15:21:47.545027",
     "exception": false,
     "start_time": "2021-03-29T15:21:47.427491",
     "status": "completed"
    },
    "tags": []
   },
   "outputs": [
    {
     "data": {
      "text/html": [
       "<div>\n",
       "<style scoped>\n",
       "    .dataframe tbody tr th:only-of-type {\n",
       "        vertical-align: middle;\n",
       "    }\n",
       "\n",
       "    .dataframe tbody tr th {\n",
       "        vertical-align: top;\n",
       "    }\n",
       "\n",
       "    .dataframe thead th {\n",
       "        text-align: right;\n",
       "    }\n",
       "</style>\n",
       "<table border=\"1\" class=\"dataframe\">\n",
       "  <thead>\n",
       "    <tr style=\"text-align: right;\">\n",
       "      <th></th>\n",
       "      <th>Id</th>\n",
       "      <th>idhogar</th>\n",
       "    </tr>\n",
       "  </thead>\n",
       "  <tbody>\n",
       "    <tr>\n",
       "      <th>0</th>\n",
       "      <td>ID_279628684</td>\n",
       "      <td>21eb7fcc1</td>\n",
       "    </tr>\n",
       "    <tr>\n",
       "      <th>1</th>\n",
       "      <td>ID_f29eb3ddd</td>\n",
       "      <td>0e5d7a658</td>\n",
       "    </tr>\n",
       "    <tr>\n",
       "      <th>2</th>\n",
       "      <td>ID_68de51c94</td>\n",
       "      <td>2c7317ea8</td>\n",
       "    </tr>\n",
       "    <tr>\n",
       "      <th>3</th>\n",
       "      <td>ID_d671db89c</td>\n",
       "      <td>2b58d945f</td>\n",
       "    </tr>\n",
       "    <tr>\n",
       "      <th>4</th>\n",
       "      <td>ID_d56d6f5f5</td>\n",
       "      <td>2b58d945f</td>\n",
       "    </tr>\n",
       "  </tbody>\n",
       "</table>\n",
       "</div>"
      ],
      "text/plain": [
       "             Id    idhogar\n",
       "0  ID_279628684  21eb7fcc1\n",
       "1  ID_f29eb3ddd  0e5d7a658\n",
       "2  ID_68de51c94  2c7317ea8\n",
       "3  ID_d671db89c  2b58d945f\n",
       "4  ID_d56d6f5f5  2b58d945f"
      ]
     },
     "execution_count": 17,
     "metadata": {},
     "output_type": "execute_result"
    }
   ],
   "source": [
    "# Quais colunas do dataframe são do tipo object\n",
    "df_all.select_dtypes('object').head()"
   ]
  },
  {
   "cell_type": "code",
   "execution_count": 18,
   "metadata": {
    "execution": {
     "iopub.execute_input": "2021-03-29T15:21:47.694400Z",
     "iopub.status.busy": "2021-03-29T15:21:47.693040Z",
     "iopub.status.idle": "2021-03-29T15:21:47.731060Z",
     "shell.execute_reply": "2021-03-29T15:21:47.730507Z"
    },
    "papermill": {
     "duration": 0.114373,
     "end_time": "2021-03-29T15:21:47.731216",
     "exception": false,
     "start_time": "2021-03-29T15:21:47.616843",
     "status": "completed"
    },
    "tags": []
   },
   "outputs": [
    {
     "name": "stdout",
     "output_type": "stream",
     "text": [
      "<class 'pandas.core.frame.DataFrame'>\n",
      "Int64Index: 33413 entries, 0 to 23855\n",
      "Data columns (total 143 columns):\n",
      " #    Column           Non-Null Count  Dtype  \n",
      "---   ------           --------------  -----  \n",
      " 0    Id               33413 non-null  object \n",
      " 1    v2a1             9150 non-null   float64\n",
      " 2    hacdor           33413 non-null  int64  \n",
      " 3    rooms            33413 non-null  int64  \n",
      " 4    hacapo           33413 non-null  int64  \n",
      " 5    v14a             33413 non-null  int64  \n",
      " 6    refrig           33413 non-null  int64  \n",
      " 7    v18q             33413 non-null  int64  \n",
      " 8    v18q1            7945 non-null   float64\n",
      " 9    r4h1             33413 non-null  int64  \n",
      " 10   r4h2             33413 non-null  int64  \n",
      " 11   r4h3             33413 non-null  int64  \n",
      " 12   r4m1             33413 non-null  int64  \n",
      " 13   r4m2             33413 non-null  int64  \n",
      " 14   r4m3             33413 non-null  int64  \n",
      " 15   r4t1             33413 non-null  int64  \n",
      " 16   r4t2             33413 non-null  int64  \n",
      " 17   r4t3             33413 non-null  int64  \n",
      " 18   tamhog           33413 non-null  int64  \n",
      " 19   tamviv           33413 non-null  int64  \n",
      " 20   escolari         33413 non-null  int64  \n",
      " 21   rez_esc          5832 non-null   float64\n",
      " 22   hhsize           33413 non-null  int64  \n",
      " 23   paredblolad      33413 non-null  int64  \n",
      " 24   paredzocalo      33413 non-null  int64  \n",
      " 25   paredpreb        33413 non-null  int64  \n",
      " 26   pareddes         33413 non-null  int64  \n",
      " 27   paredmad         33413 non-null  int64  \n",
      " 28   paredzinc        33413 non-null  int64  \n",
      " 29   paredfibras      33413 non-null  int64  \n",
      " 30   paredother       33413 non-null  int64  \n",
      " 31   pisomoscer       33413 non-null  int64  \n",
      " 32   pisocemento      33413 non-null  int64  \n",
      " 33   pisoother        33413 non-null  int64  \n",
      " 34   pisonatur        33413 non-null  int64  \n",
      " 35   pisonotiene      33413 non-null  int64  \n",
      " 36   pisomadera       33413 non-null  int64  \n",
      " 37   techozinc        33413 non-null  int64  \n",
      " 38   techoentrepiso   33413 non-null  int64  \n",
      " 39   techocane        33413 non-null  int64  \n",
      " 40   techootro        33413 non-null  int64  \n",
      " 41   cielorazo        33413 non-null  int64  \n",
      " 42   abastaguadentro  33413 non-null  int64  \n",
      " 43   abastaguafuera   33413 non-null  int64  \n",
      " 44   abastaguano      33413 non-null  int64  \n",
      " 45   public           33413 non-null  int64  \n",
      " 46   planpri          33413 non-null  int64  \n",
      " 47   noelec           33413 non-null  int64  \n",
      " 48   coopele          33413 non-null  int64  \n",
      " 49   sanitario1       33413 non-null  int64  \n",
      " 50   sanitario2       33413 non-null  int64  \n",
      " 51   sanitario3       33413 non-null  int64  \n",
      " 52   sanitario5       33413 non-null  int64  \n",
      " 53   sanitario6       33413 non-null  int64  \n",
      " 54   energcocinar1    33413 non-null  int64  \n",
      " 55   energcocinar2    33413 non-null  int64  \n",
      " 56   energcocinar3    33413 non-null  int64  \n",
      " 57   energcocinar4    33413 non-null  int64  \n",
      " 58   elimbasu1        33413 non-null  int64  \n",
      " 59   elimbasu2        33413 non-null  int64  \n",
      " 60   elimbasu3        33413 non-null  int64  \n",
      " 61   elimbasu4        33413 non-null  int64  \n",
      " 62   elimbasu5        33413 non-null  int64  \n",
      " 63   elimbasu6        33413 non-null  int64  \n",
      " 64   epared1          33413 non-null  int64  \n",
      " 65   epared2          33413 non-null  int64  \n",
      " 66   epared3          33413 non-null  int64  \n",
      " 67   etecho1          33413 non-null  int64  \n",
      " 68   etecho2          33413 non-null  int64  \n",
      " 69   etecho3          33413 non-null  int64  \n",
      " 70   eviv1            33413 non-null  int64  \n",
      " 71   eviv2            33413 non-null  int64  \n",
      " 72   eviv3            33413 non-null  int64  \n",
      " 73   dis              33413 non-null  int64  \n",
      " 74   male             33413 non-null  int64  \n",
      " 75   female           33413 non-null  int64  \n",
      " 76   estadocivil1     33413 non-null  int64  \n",
      " 77   estadocivil2     33413 non-null  int64  \n",
      " 78   estadocivil3     33413 non-null  int64  \n",
      " 79   estadocivil4     33413 non-null  int64  \n",
      " 80   estadocivil5     33413 non-null  int64  \n",
      " 81   estadocivil6     33413 non-null  int64  \n",
      " 82   estadocivil7     33413 non-null  int64  \n",
      " 83   parentesco1      33413 non-null  int64  \n",
      " 84   parentesco2      33413 non-null  int64  \n",
      " 85   parentesco3      33413 non-null  int64  \n",
      " 86   parentesco4      33413 non-null  int64  \n",
      " 87   parentesco5      33413 non-null  int64  \n",
      " 88   parentesco6      33413 non-null  int64  \n",
      " 89   parentesco7      33413 non-null  int64  \n",
      " 90   parentesco8      33413 non-null  int64  \n",
      " 91   parentesco9      33413 non-null  int64  \n",
      " 92   parentesco10     33413 non-null  int64  \n",
      " 93   parentesco11     33413 non-null  int64  \n",
      " 94   parentesco12     33413 non-null  int64  \n",
      " 95   idhogar          33413 non-null  object \n",
      " 96   hogar_nin        33413 non-null  int64  \n",
      " 97   hogar_adul       33413 non-null  int64  \n",
      " 98   hogar_mayor      33413 non-null  int64  \n",
      " 99   hogar_total      33413 non-null  int64  \n",
      " 100  dependency       33413 non-null  float64\n",
      " 101  edjefe           33413 non-null  int64  \n",
      " 102  edjefa           33413 non-null  int64  \n",
      " 103  meaneduc         33377 non-null  float64\n",
      " 104  instlevel1       33413 non-null  int64  \n",
      " 105  instlevel2       33413 non-null  int64  \n",
      " 106  instlevel3       33413 non-null  int64  \n",
      " 107  instlevel4       33413 non-null  int64  \n",
      " 108  instlevel5       33413 non-null  int64  \n",
      " 109  instlevel6       33413 non-null  int64  \n",
      " 110  instlevel7       33413 non-null  int64  \n",
      " 111  instlevel8       33413 non-null  int64  \n",
      " 112  instlevel9       33413 non-null  int64  \n",
      " 113  bedrooms         33413 non-null  int64  \n",
      " 114  overcrowding     33413 non-null  float64\n",
      " 115  tipovivi1        33413 non-null  int64  \n",
      " 116  tipovivi2        33413 non-null  int64  \n",
      " 117  tipovivi3        33413 non-null  int64  \n",
      " 118  tipovivi4        33413 non-null  int64  \n",
      " 119  tipovivi5        33413 non-null  int64  \n",
      " 120  computer         33413 non-null  int64  \n",
      " 121  television       33413 non-null  int64  \n",
      " 122  mobilephone      33413 non-null  int64  \n",
      " 123  qmobilephone     33413 non-null  int64  \n",
      " 124  lugar1           33413 non-null  int64  \n",
      " 125  lugar2           33413 non-null  int64  \n",
      " 126  lugar3           33413 non-null  int64  \n",
      " 127  lugar4           33413 non-null  int64  \n",
      " 128  lugar5           33413 non-null  int64  \n",
      " 129  lugar6           33413 non-null  int64  \n",
      " 130  area1            33413 non-null  int64  \n",
      " 131  area2            33413 non-null  int64  \n",
      " 132  age              33413 non-null  int64  \n",
      " 133  SQBescolari      33413 non-null  int64  \n",
      " 134  SQBage           33413 non-null  int64  \n",
      " 135  SQBhogar_total   33413 non-null  int64  \n",
      " 136  SQBedjefe        33413 non-null  int64  \n",
      " 137  SQBhogar_nin     33413 non-null  int64  \n",
      " 138  SQBovercrowding  33413 non-null  float64\n",
      " 139  SQBdependency    33413 non-null  float64\n",
      " 140  SQBmeaned        33377 non-null  float64\n",
      " 141  agesq            33413 non-null  int64  \n",
      " 142  Target           9557 non-null   float64\n",
      "dtypes: float64(10), int64(131), object(2)\n",
      "memory usage: 36.7+ MB\n"
     ]
    }
   ],
   "source": [
    "# Visualizando do comando info\n",
    "df_all.info(max_cols=145)"
   ]
  },
  {
   "cell_type": "code",
   "execution_count": 19,
   "metadata": {
    "execution": {
     "iopub.execute_input": "2021-03-29T15:21:47.877513Z",
     "iopub.status.busy": "2021-03-29T15:21:47.876821Z",
     "iopub.status.idle": "2021-03-29T15:21:47.899509Z",
     "shell.execute_reply": "2021-03-29T15:21:47.898842Z"
    },
    "papermill": {
     "duration": 0.098527,
     "end_time": "2021-03-29T15:21:47.899656",
     "exception": false,
     "start_time": "2021-03-29T15:21:47.801129",
     "status": "completed"
    },
    "tags": []
   },
   "outputs": [
    {
     "data": {
      "text/plain": [
       "Id                     0\n",
       "v2a1               24263\n",
       "hacdor                 0\n",
       "rooms                  0\n",
       "hacapo                 0\n",
       "                   ...  \n",
       "SQBovercrowding        0\n",
       "SQBdependency          0\n",
       "SQBmeaned             36\n",
       "agesq                  0\n",
       "Target             23856\n",
       "Length: 143, dtype: int64"
      ]
     },
     "execution_count": 19,
     "metadata": {},
     "output_type": "execute_result"
    }
   ],
   "source": [
    "# Verificando os valores nulos\n",
    "df_all.isnull().sum()"
   ]
  },
  {
   "cell_type": "markdown",
   "metadata": {
    "papermill": {
     "duration": 0.071682,
     "end_time": "2021-03-29T15:21:48.043590",
     "exception": false,
     "start_time": "2021-03-29T15:21:47.971908",
     "status": "completed"
    },
    "tags": []
   },
   "source": [
    "### avaliando Colunas com NA\n",
    "\n",
    "* v2a1, Monthly rent payment\n",
    "* v18q, owns a tablet\n",
    "* v18q1, number of tablets household owns\n",
    "* rez_esc, Years behind in school\n",
    "* meaneduc,average years of education for adults (18+)\n",
    "* SQBmeaned, square of the mean years of education of adults (>=18) in the household"
   ]
  },
  {
   "cell_type": "code",
   "execution_count": 20,
   "metadata": {
    "execution": {
     "iopub.execute_input": "2021-03-29T15:21:48.195610Z",
     "iopub.status.busy": "2021-03-29T15:21:48.194921Z",
     "iopub.status.idle": "2021-03-29T15:21:48.226400Z",
     "shell.execute_reply": "2021-03-29T15:21:48.226974Z"
    },
    "papermill": {
     "duration": 0.109015,
     "end_time": "2021-03-29T15:21:48.227149",
     "exception": false,
     "start_time": "2021-03-29T15:21:48.118134",
     "status": "completed"
    },
    "tags": []
   },
   "outputs": [
    {
     "data": {
      "text/plain": [
       "7556"
      ]
     },
     "execution_count": 20,
     "metadata": {},
     "output_type": "execute_result"
    }
   ],
   "source": [
    "# Verificando os valores de aluguel (v2a1) para os chefes/as de familia (parentesco1 = 1)\n",
    "df_all[df_all['parentesco1'] == 1]['v2a1'].isnull().sum()"
   ]
  },
  {
   "cell_type": "code",
   "execution_count": 21,
   "metadata": {
    "execution": {
     "iopub.execute_input": "2021-03-29T15:21:48.378430Z",
     "iopub.status.busy": "2021-03-29T15:21:48.377129Z",
     "iopub.status.idle": "2021-03-29T15:21:48.392104Z",
     "shell.execute_reply": "2021-03-29T15:21:48.391457Z"
    },
    "papermill": {
     "duration": 0.091586,
     "end_time": "2021-03-29T15:21:48.392296",
     "exception": false,
     "start_time": "2021-03-29T15:21:48.300710",
     "status": "completed"
    },
    "tags": []
   },
   "outputs": [
    {
     "data": {
      "text/plain": [
       "4444"
      ]
     },
     "execution_count": 21,
     "metadata": {},
     "output_type": "execute_result"
    }
   ],
   "source": [
    "# Verificando os valores de aluguel (v2a1) para \n",
    "df_all[df_all['parentesco2'] == 1]['v2a1'].isnull().sum()"
   ]
  },
  {
   "cell_type": "code",
   "execution_count": 22,
   "metadata": {
    "execution": {
     "iopub.execute_input": "2021-03-29T15:21:48.544684Z",
     "iopub.status.busy": "2021-03-29T15:21:48.543436Z",
     "iopub.status.idle": "2021-03-29T15:21:48.559569Z",
     "shell.execute_reply": "2021-03-29T15:21:48.558866Z"
    },
    "papermill": {
     "duration": 0.093993,
     "end_time": "2021-03-29T15:21:48.559725",
     "exception": false,
     "start_time": "2021-03-29T15:21:48.465732",
     "status": "completed"
    },
    "tags": []
   },
   "outputs": [
    {
     "data": {
      "text/plain": [
       "9215"
      ]
     },
     "execution_count": 22,
     "metadata": {},
     "output_type": "execute_result"
    }
   ],
   "source": [
    "# Verificando os valores de aluguel (v2a1) para \n",
    "df_all[df_all['parentesco3'] == 1]['v2a1'].isnull().sum()"
   ]
  },
  {
   "cell_type": "code",
   "execution_count": 23,
   "metadata": {
    "execution": {
     "iopub.execute_input": "2021-03-29T15:21:48.706017Z",
     "iopub.status.busy": "2021-03-29T15:21:48.704994Z",
     "iopub.status.idle": "2021-03-29T15:21:48.715703Z",
     "shell.execute_reply": "2021-03-29T15:21:48.716148Z"
    },
    "papermill": {
     "duration": 0.085973,
     "end_time": "2021-03-29T15:21:48.716346",
     "exception": false,
     "start_time": "2021-03-29T15:21:48.630373",
     "status": "completed"
    },
    "tags": []
   },
   "outputs": [
    {
     "data": {
      "text/plain": [
       "148"
      ]
     },
     "execution_count": 23,
     "metadata": {},
     "output_type": "execute_result"
    }
   ],
   "source": [
    "# Verificando os valores de aluguel (v2a1) para \n",
    "df_all[df_all['parentesco12'] == 1]['v2a1'].isnull().sum()"
   ]
  },
  {
   "cell_type": "code",
   "execution_count": 24,
   "metadata": {
    "execution": {
     "iopub.execute_input": "2021-03-29T15:21:48.863947Z",
     "iopub.status.busy": "2021-03-29T15:21:48.863274Z",
     "iopub.status.idle": "2021-03-29T15:21:48.870848Z",
     "shell.execute_reply": "2021-03-29T15:21:48.870157Z"
    },
    "papermill": {
     "duration": 0.083874,
     "end_time": "2021-03-29T15:21:48.871012",
     "exception": false,
     "start_time": "2021-03-29T15:21:48.787138",
     "status": "completed"
    },
    "tags": []
   },
   "outputs": [
    {
     "data": {
      "text/plain": [
       "0    25468\n",
       "1     7945\n",
       "Name: v18q, dtype: int64"
      ]
     },
     "execution_count": 24,
     "metadata": {},
     "output_type": "execute_result"
    }
   ],
   "source": [
    "# Qual a cara dos dados de v18q\n",
    "df_all['v18q'].value_counts()"
   ]
  },
  {
   "cell_type": "markdown",
   "metadata": {
    "papermill": {
     "duration": 0.074809,
     "end_time": "2021-03-29T15:21:49.021227",
     "exception": false,
     "start_time": "2021-03-29T15:21:48.946418",
     "status": "completed"
    },
    "tags": []
   },
   "source": [
    "### v18q1 tem 7945 valores, ou seja, as colunas com NA é quando o valor de tablet é 0"
   ]
  },
  {
   "cell_type": "code",
   "execution_count": 25,
   "metadata": {
    "execution": {
     "iopub.execute_input": "2021-03-29T15:21:49.174573Z",
     "iopub.status.busy": "2021-03-29T15:21:49.173619Z",
     "iopub.status.idle": "2021-03-29T15:21:49.178781Z",
     "shell.execute_reply": "2021-03-29T15:21:49.178190Z"
    },
    "papermill": {
     "duration": 0.082518,
     "end_time": "2021-03-29T15:21:49.178929",
     "exception": false,
     "start_time": "2021-03-29T15:21:49.096411",
     "status": "completed"
    },
    "tags": []
   },
   "outputs": [],
   "source": [
    "# Prenchendo com 0 os valores nulos de v18q1\n",
    "df_all['v18q1'].fillna(0, inplace=True)"
   ]
  },
  {
   "cell_type": "code",
   "execution_count": 26,
   "metadata": {
    "execution": {
     "iopub.execute_input": "2021-03-29T15:21:49.340589Z",
     "iopub.status.busy": "2021-03-29T15:21:49.339806Z",
     "iopub.status.idle": "2021-03-29T15:21:49.347802Z",
     "shell.execute_reply": "2021-03-29T15:21:49.347013Z"
    },
    "papermill": {
     "duration": 0.091028,
     "end_time": "2021-03-29T15:21:49.347970",
     "exception": false,
     "start_time": "2021-03-29T15:21:49.256942",
     "status": "completed"
    },
    "tags": []
   },
   "outputs": [
    {
     "data": {
      "text/plain": [
       "6     6951\n",
       "0     4469\n",
       "11    3899\n",
       "9     2175\n",
       "8     1799\n",
       "7     1635\n",
       "3     1452\n",
       "15    1375\n",
       "5     1227\n",
       "14    1114\n",
       "2     1087\n",
       "10    1020\n",
       "4     1019\n",
       "12    1010\n",
       "1      964\n",
       "16     715\n",
       "13     681\n",
       "17     675\n",
       "21      75\n",
       "18      29\n",
       "19      26\n",
       "20      16\n",
       "Name: escolari, dtype: int64"
      ]
     },
     "execution_count": 26,
     "metadata": {},
     "output_type": "execute_result"
    }
   ],
   "source": [
    "# Qual a cara dos dados de escolari\n",
    "df_all['escolari'].value_counts()"
   ]
  },
  {
   "cell_type": "code",
   "execution_count": 27,
   "metadata": {
    "execution": {
     "iopub.execute_input": "2021-03-29T15:21:49.509766Z",
     "iopub.status.busy": "2021-03-29T15:21:49.508745Z",
     "iopub.status.idle": "2021-03-29T15:21:49.517735Z",
     "shell.execute_reply": "2021-03-29T15:21:49.517047Z"
    },
    "papermill": {
     "duration": 0.093764,
     "end_time": "2021-03-29T15:21:49.517888",
     "exception": false,
     "start_time": "2021-03-29T15:21:49.424124",
     "status": "completed"
    },
    "tags": []
   },
   "outputs": [
    {
     "data": {
      "text/plain": [
       "0.0     4474\n",
       "1.0      728\n",
       "2.0      336\n",
       "3.0      174\n",
       "4.0       80\n",
       "5.0       39\n",
       "99.0       1\n",
       "Name: rez_esc, dtype: int64"
      ]
     },
     "execution_count": 27,
     "metadata": {},
     "output_type": "execute_result"
    }
   ],
   "source": [
    "# Qual a cara dos dados de rez_esc\n",
    "df_all['rez_esc'].value_counts()"
   ]
  },
  {
   "cell_type": "code",
   "execution_count": 28,
   "metadata": {
    "execution": {
     "iopub.execute_input": "2021-03-29T15:21:49.677453Z",
     "iopub.status.busy": "2021-03-29T15:21:49.676796Z",
     "iopub.status.idle": "2021-03-29T15:21:49.686316Z",
     "shell.execute_reply": "2021-03-29T15:21:49.685511Z"
    },
    "papermill": {
     "duration": 0.093012,
     "end_time": "2021-03-29T15:21:49.686467",
     "exception": false,
     "start_time": "2021-03-29T15:21:49.593455",
     "status": "completed"
    },
    "tags": []
   },
   "outputs": [
    {
     "data": {
      "text/plain": [
       "6.0     3025\n",
       "11.0    1514\n",
       "7.0     1454\n",
       "9.0     1450\n",
       "8.5     1192\n",
       "        ... \n",
       "37.0       3\n",
       "36.0       3\n",
       "33.0       3\n",
       "23.5       3\n",
       "32.0       2\n",
       "Name: meaneduc, Length: 211, dtype: int64"
      ]
     },
     "execution_count": 28,
     "metadata": {},
     "output_type": "execute_result"
    }
   ],
   "source": [
    "\n",
    "df_all['meaneduc'].value_counts()"
   ]
  },
  {
   "cell_type": "code",
   "execution_count": 29,
   "metadata": {
    "execution": {
     "iopub.execute_input": "2021-03-29T15:21:49.850901Z",
     "iopub.status.busy": "2021-03-29T15:21:49.850011Z",
     "iopub.status.idle": "2021-03-29T15:21:49.854977Z",
     "shell.execute_reply": "2021-03-29T15:21:49.855451Z"
    },
    "papermill": {
     "duration": 0.096132,
     "end_time": "2021-03-29T15:21:49.855633",
     "exception": false,
     "start_time": "2021-03-29T15:21:49.759501",
     "status": "completed"
    },
    "tags": []
   },
   "outputs": [
    {
     "data": {
      "text/html": [
       "<div>\n",
       "<style scoped>\n",
       "    .dataframe tbody tr th:only-of-type {\n",
       "        vertical-align: middle;\n",
       "    }\n",
       "\n",
       "    .dataframe tbody tr th {\n",
       "        vertical-align: top;\n",
       "    }\n",
       "\n",
       "    .dataframe thead th {\n",
       "        text-align: right;\n",
       "    }\n",
       "</style>\n",
       "<table border=\"1\" class=\"dataframe\">\n",
       "  <thead>\n",
       "    <tr style=\"text-align: right;\">\n",
       "      <th></th>\n",
       "      <th>hogar_nin</th>\n",
       "      <th>hogar_adul</th>\n",
       "      <th>hogar_mayor</th>\n",
       "      <th>hogar_total</th>\n",
       "    </tr>\n",
       "  </thead>\n",
       "  <tbody>\n",
       "    <tr>\n",
       "      <th>1291</th>\n",
       "      <td>1</td>\n",
       "      <td>0</td>\n",
       "      <td>0</td>\n",
       "      <td>1</td>\n",
       "    </tr>\n",
       "    <tr>\n",
       "      <th>1840</th>\n",
       "      <td>2</td>\n",
       "      <td>0</td>\n",
       "      <td>0</td>\n",
       "      <td>2</td>\n",
       "    </tr>\n",
       "    <tr>\n",
       "      <th>1841</th>\n",
       "      <td>2</td>\n",
       "      <td>0</td>\n",
       "      <td>0</td>\n",
       "      <td>2</td>\n",
       "    </tr>\n",
       "    <tr>\n",
       "      <th>2049</th>\n",
       "      <td>2</td>\n",
       "      <td>0</td>\n",
       "      <td>0</td>\n",
       "      <td>2</td>\n",
       "    </tr>\n",
       "    <tr>\n",
       "      <th>2050</th>\n",
       "      <td>2</td>\n",
       "      <td>0</td>\n",
       "      <td>0</td>\n",
       "      <td>2</td>\n",
       "    </tr>\n",
       "    <tr>\n",
       "      <th>4</th>\n",
       "      <td>1</td>\n",
       "      <td>0</td>\n",
       "      <td>0</td>\n",
       "      <td>1</td>\n",
       "    </tr>\n",
       "    <tr>\n",
       "      <th>535</th>\n",
       "      <td>1</td>\n",
       "      <td>0</td>\n",
       "      <td>0</td>\n",
       "      <td>1</td>\n",
       "    </tr>\n",
       "    <tr>\n",
       "      <th>536</th>\n",
       "      <td>2</td>\n",
       "      <td>0</td>\n",
       "      <td>0</td>\n",
       "      <td>2</td>\n",
       "    </tr>\n",
       "    <tr>\n",
       "      <th>537</th>\n",
       "      <td>2</td>\n",
       "      <td>0</td>\n",
       "      <td>0</td>\n",
       "      <td>2</td>\n",
       "    </tr>\n",
       "    <tr>\n",
       "      <th>2612</th>\n",
       "      <td>2</td>\n",
       "      <td>0</td>\n",
       "      <td>0</td>\n",
       "      <td>2</td>\n",
       "    </tr>\n",
       "    <tr>\n",
       "      <th>2613</th>\n",
       "      <td>2</td>\n",
       "      <td>0</td>\n",
       "      <td>0</td>\n",
       "      <td>2</td>\n",
       "    </tr>\n",
       "    <tr>\n",
       "      <th>6809</th>\n",
       "      <td>2</td>\n",
       "      <td>0</td>\n",
       "      <td>0</td>\n",
       "      <td>2</td>\n",
       "    </tr>\n",
       "    <tr>\n",
       "      <th>6810</th>\n",
       "      <td>2</td>\n",
       "      <td>0</td>\n",
       "      <td>0</td>\n",
       "      <td>2</td>\n",
       "    </tr>\n",
       "    <tr>\n",
       "      <th>7266</th>\n",
       "      <td>2</td>\n",
       "      <td>0</td>\n",
       "      <td>0</td>\n",
       "      <td>2</td>\n",
       "    </tr>\n",
       "    <tr>\n",
       "      <th>7267</th>\n",
       "      <td>2</td>\n",
       "      <td>0</td>\n",
       "      <td>0</td>\n",
       "      <td>2</td>\n",
       "    </tr>\n",
       "    <tr>\n",
       "      <th>15808</th>\n",
       "      <td>3</td>\n",
       "      <td>0</td>\n",
       "      <td>0</td>\n",
       "      <td>3</td>\n",
       "    </tr>\n",
       "    <tr>\n",
       "      <th>15809</th>\n",
       "      <td>3</td>\n",
       "      <td>0</td>\n",
       "      <td>0</td>\n",
       "      <td>3</td>\n",
       "    </tr>\n",
       "    <tr>\n",
       "      <th>15810</th>\n",
       "      <td>3</td>\n",
       "      <td>0</td>\n",
       "      <td>0</td>\n",
       "      <td>3</td>\n",
       "    </tr>\n",
       "    <tr>\n",
       "      <th>16096</th>\n",
       "      <td>2</td>\n",
       "      <td>0</td>\n",
       "      <td>0</td>\n",
       "      <td>2</td>\n",
       "    </tr>\n",
       "    <tr>\n",
       "      <th>16097</th>\n",
       "      <td>2</td>\n",
       "      <td>0</td>\n",
       "      <td>0</td>\n",
       "      <td>2</td>\n",
       "    </tr>\n",
       "    <tr>\n",
       "      <th>16291</th>\n",
       "      <td>1</td>\n",
       "      <td>0</td>\n",
       "      <td>0</td>\n",
       "      <td>1</td>\n",
       "    </tr>\n",
       "    <tr>\n",
       "      <th>19421</th>\n",
       "      <td>1</td>\n",
       "      <td>0</td>\n",
       "      <td>0</td>\n",
       "      <td>1</td>\n",
       "    </tr>\n",
       "    <tr>\n",
       "      <th>19985</th>\n",
       "      <td>1</td>\n",
       "      <td>0</td>\n",
       "      <td>0</td>\n",
       "      <td>1</td>\n",
       "    </tr>\n",
       "    <tr>\n",
       "      <th>21136</th>\n",
       "      <td>2</td>\n",
       "      <td>0</td>\n",
       "      <td>0</td>\n",
       "      <td>2</td>\n",
       "    </tr>\n",
       "    <tr>\n",
       "      <th>21137</th>\n",
       "      <td>2</td>\n",
       "      <td>0</td>\n",
       "      <td>0</td>\n",
       "      <td>2</td>\n",
       "    </tr>\n",
       "    <tr>\n",
       "      <th>21644</th>\n",
       "      <td>2</td>\n",
       "      <td>0</td>\n",
       "      <td>0</td>\n",
       "      <td>2</td>\n",
       "    </tr>\n",
       "    <tr>\n",
       "      <th>21645</th>\n",
       "      <td>2</td>\n",
       "      <td>0</td>\n",
       "      <td>0</td>\n",
       "      <td>2</td>\n",
       "    </tr>\n",
       "    <tr>\n",
       "      <th>21824</th>\n",
       "      <td>2</td>\n",
       "      <td>0</td>\n",
       "      <td>0</td>\n",
       "      <td>2</td>\n",
       "    </tr>\n",
       "    <tr>\n",
       "      <th>21825</th>\n",
       "      <td>2</td>\n",
       "      <td>0</td>\n",
       "      <td>0</td>\n",
       "      <td>2</td>\n",
       "    </tr>\n",
       "    <tr>\n",
       "      <th>21826</th>\n",
       "      <td>2</td>\n",
       "      <td>0</td>\n",
       "      <td>0</td>\n",
       "      <td>2</td>\n",
       "    </tr>\n",
       "    <tr>\n",
       "      <th>21827</th>\n",
       "      <td>2</td>\n",
       "      <td>0</td>\n",
       "      <td>0</td>\n",
       "      <td>2</td>\n",
       "    </tr>\n",
       "    <tr>\n",
       "      <th>22125</th>\n",
       "      <td>2</td>\n",
       "      <td>0</td>\n",
       "      <td>0</td>\n",
       "      <td>2</td>\n",
       "    </tr>\n",
       "    <tr>\n",
       "      <th>22126</th>\n",
       "      <td>2</td>\n",
       "      <td>0</td>\n",
       "      <td>0</td>\n",
       "      <td>2</td>\n",
       "    </tr>\n",
       "    <tr>\n",
       "      <th>22336</th>\n",
       "      <td>3</td>\n",
       "      <td>0</td>\n",
       "      <td>0</td>\n",
       "      <td>3</td>\n",
       "    </tr>\n",
       "    <tr>\n",
       "      <th>22337</th>\n",
       "      <td>3</td>\n",
       "      <td>0</td>\n",
       "      <td>0</td>\n",
       "      <td>3</td>\n",
       "    </tr>\n",
       "    <tr>\n",
       "      <th>22338</th>\n",
       "      <td>3</td>\n",
       "      <td>0</td>\n",
       "      <td>0</td>\n",
       "      <td>3</td>\n",
       "    </tr>\n",
       "  </tbody>\n",
       "</table>\n",
       "</div>"
      ],
      "text/plain": [
       "       hogar_nin  hogar_adul  hogar_mayor  hogar_total\n",
       "1291           1           0            0            1\n",
       "1840           2           0            0            2\n",
       "1841           2           0            0            2\n",
       "2049           2           0            0            2\n",
       "2050           2           0            0            2\n",
       "4              1           0            0            1\n",
       "535            1           0            0            1\n",
       "536            2           0            0            2\n",
       "537            2           0            0            2\n",
       "2612           2           0            0            2\n",
       "2613           2           0            0            2\n",
       "6809           2           0            0            2\n",
       "6810           2           0            0            2\n",
       "7266           2           0            0            2\n",
       "7267           2           0            0            2\n",
       "15808          3           0            0            3\n",
       "15809          3           0            0            3\n",
       "15810          3           0            0            3\n",
       "16096          2           0            0            2\n",
       "16097          2           0            0            2\n",
       "16291          1           0            0            1\n",
       "19421          1           0            0            1\n",
       "19985          1           0            0            1\n",
       "21136          2           0            0            2\n",
       "21137          2           0            0            2\n",
       "21644          2           0            0            2\n",
       "21645          2           0            0            2\n",
       "21824          2           0            0            2\n",
       "21825          2           0            0            2\n",
       "21826          2           0            0            2\n",
       "21827          2           0            0            2\n",
       "22125          2           0            0            2\n",
       "22126          2           0            0            2\n",
       "22336          3           0            0            3\n",
       "22337          3           0            0            3\n",
       "22338          3           0            0            3"
      ]
     },
     "execution_count": 29,
     "metadata": {},
     "output_type": "execute_result"
    }
   ],
   "source": [
    "df_all[df_all['meaneduc'].isnull()][['hogar_nin', 'hogar_adul', 'hogar_mayor', 'hogar_total']]"
   ]
  },
  {
   "cell_type": "code",
   "execution_count": 30,
   "metadata": {
    "execution": {
     "iopub.execute_input": "2021-03-29T15:21:50.017973Z",
     "iopub.status.busy": "2021-03-29T15:21:50.017001Z",
     "iopub.status.idle": "2021-03-29T15:21:50.021991Z",
     "shell.execute_reply": "2021-03-29T15:21:50.021352Z"
    },
    "papermill": {
     "duration": 0.092442,
     "end_time": "2021-03-29T15:21:50.022132",
     "exception": false,
     "start_time": "2021-03-29T15:21:49.929690",
     "status": "completed"
    },
    "tags": []
   },
   "outputs": [
    {
     "data": {
      "text/html": [
       "<div>\n",
       "<style scoped>\n",
       "    .dataframe tbody tr th:only-of-type {\n",
       "        vertical-align: middle;\n",
       "    }\n",
       "\n",
       "    .dataframe tbody tr th {\n",
       "        vertical-align: top;\n",
       "    }\n",
       "\n",
       "    .dataframe thead th {\n",
       "        text-align: right;\n",
       "    }\n",
       "</style>\n",
       "<table border=\"1\" class=\"dataframe\">\n",
       "  <thead>\n",
       "    <tr style=\"text-align: right;\">\n",
       "      <th></th>\n",
       "      <th>escolari</th>\n",
       "      <th>SQBmeaned</th>\n",
       "    </tr>\n",
       "  </thead>\n",
       "  <tbody>\n",
       "    <tr>\n",
       "      <th>1291</th>\n",
       "      <td>10</td>\n",
       "      <td>NaN</td>\n",
       "    </tr>\n",
       "    <tr>\n",
       "      <th>1840</th>\n",
       "      <td>6</td>\n",
       "      <td>NaN</td>\n",
       "    </tr>\n",
       "    <tr>\n",
       "      <th>1841</th>\n",
       "      <td>4</td>\n",
       "      <td>NaN</td>\n",
       "    </tr>\n",
       "    <tr>\n",
       "      <th>2049</th>\n",
       "      <td>12</td>\n",
       "      <td>NaN</td>\n",
       "    </tr>\n",
       "    <tr>\n",
       "      <th>2050</th>\n",
       "      <td>12</td>\n",
       "      <td>NaN</td>\n",
       "    </tr>\n",
       "    <tr>\n",
       "      <th>4</th>\n",
       "      <td>11</td>\n",
       "      <td>NaN</td>\n",
       "    </tr>\n",
       "    <tr>\n",
       "      <th>535</th>\n",
       "      <td>11</td>\n",
       "      <td>NaN</td>\n",
       "    </tr>\n",
       "    <tr>\n",
       "      <th>536</th>\n",
       "      <td>12</td>\n",
       "      <td>NaN</td>\n",
       "    </tr>\n",
       "    <tr>\n",
       "      <th>537</th>\n",
       "      <td>12</td>\n",
       "      <td>NaN</td>\n",
       "    </tr>\n",
       "    <tr>\n",
       "      <th>2612</th>\n",
       "      <td>8</td>\n",
       "      <td>NaN</td>\n",
       "    </tr>\n",
       "    <tr>\n",
       "      <th>2613</th>\n",
       "      <td>6</td>\n",
       "      <td>NaN</td>\n",
       "    </tr>\n",
       "    <tr>\n",
       "      <th>6809</th>\n",
       "      <td>12</td>\n",
       "      <td>NaN</td>\n",
       "    </tr>\n",
       "    <tr>\n",
       "      <th>6810</th>\n",
       "      <td>12</td>\n",
       "      <td>NaN</td>\n",
       "    </tr>\n",
       "    <tr>\n",
       "      <th>7266</th>\n",
       "      <td>12</td>\n",
       "      <td>NaN</td>\n",
       "    </tr>\n",
       "    <tr>\n",
       "      <th>7267</th>\n",
       "      <td>10</td>\n",
       "      <td>NaN</td>\n",
       "    </tr>\n",
       "    <tr>\n",
       "      <th>15808</th>\n",
       "      <td>6</td>\n",
       "      <td>NaN</td>\n",
       "    </tr>\n",
       "    <tr>\n",
       "      <th>15809</th>\n",
       "      <td>8</td>\n",
       "      <td>NaN</td>\n",
       "    </tr>\n",
       "    <tr>\n",
       "      <th>15810</th>\n",
       "      <td>0</td>\n",
       "      <td>NaN</td>\n",
       "    </tr>\n",
       "    <tr>\n",
       "      <th>16096</th>\n",
       "      <td>0</td>\n",
       "      <td>NaN</td>\n",
       "    </tr>\n",
       "    <tr>\n",
       "      <th>16097</th>\n",
       "      <td>7</td>\n",
       "      <td>NaN</td>\n",
       "    </tr>\n",
       "    <tr>\n",
       "      <th>16291</th>\n",
       "      <td>9</td>\n",
       "      <td>NaN</td>\n",
       "    </tr>\n",
       "    <tr>\n",
       "      <th>19421</th>\n",
       "      <td>11</td>\n",
       "      <td>NaN</td>\n",
       "    </tr>\n",
       "    <tr>\n",
       "      <th>19985</th>\n",
       "      <td>10</td>\n",
       "      <td>NaN</td>\n",
       "    </tr>\n",
       "    <tr>\n",
       "      <th>21136</th>\n",
       "      <td>6</td>\n",
       "      <td>NaN</td>\n",
       "    </tr>\n",
       "    <tr>\n",
       "      <th>21137</th>\n",
       "      <td>0</td>\n",
       "      <td>NaN</td>\n",
       "    </tr>\n",
       "    <tr>\n",
       "      <th>21644</th>\n",
       "      <td>9</td>\n",
       "      <td>NaN</td>\n",
       "    </tr>\n",
       "    <tr>\n",
       "      <th>21645</th>\n",
       "      <td>0</td>\n",
       "      <td>NaN</td>\n",
       "    </tr>\n",
       "    <tr>\n",
       "      <th>21824</th>\n",
       "      <td>7</td>\n",
       "      <td>NaN</td>\n",
       "    </tr>\n",
       "    <tr>\n",
       "      <th>21825</th>\n",
       "      <td>9</td>\n",
       "      <td>NaN</td>\n",
       "    </tr>\n",
       "    <tr>\n",
       "      <th>21826</th>\n",
       "      <td>0</td>\n",
       "      <td>NaN</td>\n",
       "    </tr>\n",
       "    <tr>\n",
       "      <th>21827</th>\n",
       "      <td>6</td>\n",
       "      <td>NaN</td>\n",
       "    </tr>\n",
       "    <tr>\n",
       "      <th>22125</th>\n",
       "      <td>0</td>\n",
       "      <td>NaN</td>\n",
       "    </tr>\n",
       "    <tr>\n",
       "      <th>22126</th>\n",
       "      <td>9</td>\n",
       "      <td>NaN</td>\n",
       "    </tr>\n",
       "    <tr>\n",
       "      <th>22336</th>\n",
       "      <td>7</td>\n",
       "      <td>NaN</td>\n",
       "    </tr>\n",
       "    <tr>\n",
       "      <th>22337</th>\n",
       "      <td>0</td>\n",
       "      <td>NaN</td>\n",
       "    </tr>\n",
       "    <tr>\n",
       "      <th>22338</th>\n",
       "      <td>6</td>\n",
       "      <td>NaN</td>\n",
       "    </tr>\n",
       "  </tbody>\n",
       "</table>\n",
       "</div>"
      ],
      "text/plain": [
       "       escolari  SQBmeaned\n",
       "1291         10        NaN\n",
       "1840          6        NaN\n",
       "1841          4        NaN\n",
       "2049         12        NaN\n",
       "2050         12        NaN\n",
       "4            11        NaN\n",
       "535          11        NaN\n",
       "536          12        NaN\n",
       "537          12        NaN\n",
       "2612          8        NaN\n",
       "2613          6        NaN\n",
       "6809         12        NaN\n",
       "6810         12        NaN\n",
       "7266         12        NaN\n",
       "7267         10        NaN\n",
       "15808         6        NaN\n",
       "15809         8        NaN\n",
       "15810         0        NaN\n",
       "16096         0        NaN\n",
       "16097         7        NaN\n",
       "16291         9        NaN\n",
       "19421        11        NaN\n",
       "19985        10        NaN\n",
       "21136         6        NaN\n",
       "21137         0        NaN\n",
       "21644         9        NaN\n",
       "21645         0        NaN\n",
       "21824         7        NaN\n",
       "21825         9        NaN\n",
       "21826         0        NaN\n",
       "21827         6        NaN\n",
       "22125         0        NaN\n",
       "22126         9        NaN\n",
       "22336         7        NaN\n",
       "22337         0        NaN\n",
       "22338         6        NaN"
      ]
     },
     "execution_count": 30,
     "metadata": {},
     "output_type": "execute_result"
    }
   ],
   "source": [
    "df_all[df_all['meaneduc'].isnull()][['escolari', 'SQBmeaned']]"
   ]
  },
  {
   "cell_type": "code",
   "execution_count": 31,
   "metadata": {
    "execution": {
     "iopub.execute_input": "2021-03-29T15:21:50.187925Z",
     "iopub.status.busy": "2021-03-29T15:21:50.187279Z",
     "iopub.status.idle": "2021-03-29T15:21:50.191319Z",
     "shell.execute_reply": "2021-03-29T15:21:50.191772Z"
    },
    "papermill": {
     "duration": 0.093312,
     "end_time": "2021-03-29T15:21:50.191960",
     "exception": false,
     "start_time": "2021-03-29T15:21:50.098648",
     "status": "completed"
    },
    "tags": []
   },
   "outputs": [
    {
     "data": {
      "text/html": [
       "<div>\n",
       "<style scoped>\n",
       "    .dataframe tbody tr th:only-of-type {\n",
       "        vertical-align: middle;\n",
       "    }\n",
       "\n",
       "    .dataframe tbody tr th {\n",
       "        vertical-align: top;\n",
       "    }\n",
       "\n",
       "    .dataframe thead th {\n",
       "        text-align: right;\n",
       "    }\n",
       "</style>\n",
       "<table border=\"1\" class=\"dataframe\">\n",
       "  <thead>\n",
       "    <tr style=\"text-align: right;\">\n",
       "      <th></th>\n",
       "      <th>meaneduc</th>\n",
       "      <th>escolari</th>\n",
       "    </tr>\n",
       "  </thead>\n",
       "  <tbody>\n",
       "    <tr>\n",
       "      <th>15810</th>\n",
       "      <td>NaN</td>\n",
       "      <td>0</td>\n",
       "    </tr>\n",
       "    <tr>\n",
       "      <th>16096</th>\n",
       "      <td>NaN</td>\n",
       "      <td>0</td>\n",
       "    </tr>\n",
       "    <tr>\n",
       "      <th>21137</th>\n",
       "      <td>NaN</td>\n",
       "      <td>0</td>\n",
       "    </tr>\n",
       "    <tr>\n",
       "      <th>21645</th>\n",
       "      <td>NaN</td>\n",
       "      <td>0</td>\n",
       "    </tr>\n",
       "    <tr>\n",
       "      <th>21826</th>\n",
       "      <td>NaN</td>\n",
       "      <td>0</td>\n",
       "    </tr>\n",
       "    <tr>\n",
       "      <th>22125</th>\n",
       "      <td>NaN</td>\n",
       "      <td>0</td>\n",
       "    </tr>\n",
       "    <tr>\n",
       "      <th>22337</th>\n",
       "      <td>NaN</td>\n",
       "      <td>0</td>\n",
       "    </tr>\n",
       "  </tbody>\n",
       "</table>\n",
       "</div>"
      ],
      "text/plain": [
       "       meaneduc  escolari\n",
       "15810       NaN         0\n",
       "16096       NaN         0\n",
       "21137       NaN         0\n",
       "21645       NaN         0\n",
       "21826       NaN         0\n",
       "22125       NaN         0\n",
       "22337       NaN         0"
      ]
     },
     "execution_count": 31,
     "metadata": {},
     "output_type": "execute_result"
    }
   ],
   "source": [
    "df_all.loc[(df_all['meaneduc'].isnull()) & (df_all['escolari'] == 0)][['meaneduc', 'escolari']]"
   ]
  },
  {
   "cell_type": "code",
   "execution_count": 32,
   "metadata": {
    "execution": {
     "iopub.execute_input": "2021-03-29T15:21:50.354773Z",
     "iopub.status.busy": "2021-03-29T15:21:50.353743Z",
     "iopub.status.idle": "2021-03-29T15:21:50.360518Z",
     "shell.execute_reply": "2021-03-29T15:21:50.359843Z"
    },
    "papermill": {
     "duration": 0.088939,
     "end_time": "2021-03-29T15:21:50.360665",
     "exception": false,
     "start_time": "2021-03-29T15:21:50.271726",
     "status": "completed"
    },
    "tags": []
   },
   "outputs": [],
   "source": [
    "mask = (df_all['meaneduc'].isnull()) & (df_all['escolari'] == 0)\n",
    "\n",
    "df_all.loc[mask, 'meaneduc'] = 0\n",
    "df_all.loc[mask, 'SQBmeaned'] = 0"
   ]
  },
  {
   "cell_type": "code",
   "execution_count": 33,
   "metadata": {
    "execution": {
     "iopub.execute_input": "2021-03-29T15:21:50.529720Z",
     "iopub.status.busy": "2021-03-29T15:21:50.524147Z",
     "iopub.status.idle": "2021-03-29T15:21:50.534730Z",
     "shell.execute_reply": "2021-03-29T15:21:50.534090Z"
    },
    "papermill": {
     "duration": 0.097399,
     "end_time": "2021-03-29T15:21:50.534871",
     "exception": false,
     "start_time": "2021-03-29T15:21:50.437472",
     "status": "completed"
    },
    "tags": []
   },
   "outputs": [
    {
     "data": {
      "text/html": [
       "<div>\n",
       "<style scoped>\n",
       "    .dataframe tbody tr th:only-of-type {\n",
       "        vertical-align: middle;\n",
       "    }\n",
       "\n",
       "    .dataframe tbody tr th {\n",
       "        vertical-align: top;\n",
       "    }\n",
       "\n",
       "    .dataframe thead th {\n",
       "        text-align: right;\n",
       "    }\n",
       "</style>\n",
       "<table border=\"1\" class=\"dataframe\">\n",
       "  <thead>\n",
       "    <tr style=\"text-align: right;\">\n",
       "      <th></th>\n",
       "      <th>hogar_nin</th>\n",
       "      <th>hogar_adul</th>\n",
       "      <th>hogar_mayor</th>\n",
       "      <th>hogar_total</th>\n",
       "    </tr>\n",
       "  </thead>\n",
       "  <tbody>\n",
       "    <tr>\n",
       "      <th>1291</th>\n",
       "      <td>1</td>\n",
       "      <td>0</td>\n",
       "      <td>0</td>\n",
       "      <td>1</td>\n",
       "    </tr>\n",
       "    <tr>\n",
       "      <th>1840</th>\n",
       "      <td>2</td>\n",
       "      <td>0</td>\n",
       "      <td>0</td>\n",
       "      <td>2</td>\n",
       "    </tr>\n",
       "    <tr>\n",
       "      <th>1841</th>\n",
       "      <td>2</td>\n",
       "      <td>0</td>\n",
       "      <td>0</td>\n",
       "      <td>2</td>\n",
       "    </tr>\n",
       "    <tr>\n",
       "      <th>2049</th>\n",
       "      <td>2</td>\n",
       "      <td>0</td>\n",
       "      <td>0</td>\n",
       "      <td>2</td>\n",
       "    </tr>\n",
       "    <tr>\n",
       "      <th>2050</th>\n",
       "      <td>2</td>\n",
       "      <td>0</td>\n",
       "      <td>0</td>\n",
       "      <td>2</td>\n",
       "    </tr>\n",
       "    <tr>\n",
       "      <th>4</th>\n",
       "      <td>1</td>\n",
       "      <td>0</td>\n",
       "      <td>0</td>\n",
       "      <td>1</td>\n",
       "    </tr>\n",
       "    <tr>\n",
       "      <th>535</th>\n",
       "      <td>1</td>\n",
       "      <td>0</td>\n",
       "      <td>0</td>\n",
       "      <td>1</td>\n",
       "    </tr>\n",
       "    <tr>\n",
       "      <th>536</th>\n",
       "      <td>2</td>\n",
       "      <td>0</td>\n",
       "      <td>0</td>\n",
       "      <td>2</td>\n",
       "    </tr>\n",
       "    <tr>\n",
       "      <th>537</th>\n",
       "      <td>2</td>\n",
       "      <td>0</td>\n",
       "      <td>0</td>\n",
       "      <td>2</td>\n",
       "    </tr>\n",
       "    <tr>\n",
       "      <th>2612</th>\n",
       "      <td>2</td>\n",
       "      <td>0</td>\n",
       "      <td>0</td>\n",
       "      <td>2</td>\n",
       "    </tr>\n",
       "    <tr>\n",
       "      <th>2613</th>\n",
       "      <td>2</td>\n",
       "      <td>0</td>\n",
       "      <td>0</td>\n",
       "      <td>2</td>\n",
       "    </tr>\n",
       "    <tr>\n",
       "      <th>6809</th>\n",
       "      <td>2</td>\n",
       "      <td>0</td>\n",
       "      <td>0</td>\n",
       "      <td>2</td>\n",
       "    </tr>\n",
       "    <tr>\n",
       "      <th>6810</th>\n",
       "      <td>2</td>\n",
       "      <td>0</td>\n",
       "      <td>0</td>\n",
       "      <td>2</td>\n",
       "    </tr>\n",
       "    <tr>\n",
       "      <th>7266</th>\n",
       "      <td>2</td>\n",
       "      <td>0</td>\n",
       "      <td>0</td>\n",
       "      <td>2</td>\n",
       "    </tr>\n",
       "    <tr>\n",
       "      <th>7267</th>\n",
       "      <td>2</td>\n",
       "      <td>0</td>\n",
       "      <td>0</td>\n",
       "      <td>2</td>\n",
       "    </tr>\n",
       "    <tr>\n",
       "      <th>15808</th>\n",
       "      <td>3</td>\n",
       "      <td>0</td>\n",
       "      <td>0</td>\n",
       "      <td>3</td>\n",
       "    </tr>\n",
       "    <tr>\n",
       "      <th>15809</th>\n",
       "      <td>3</td>\n",
       "      <td>0</td>\n",
       "      <td>0</td>\n",
       "      <td>3</td>\n",
       "    </tr>\n",
       "    <tr>\n",
       "      <th>16097</th>\n",
       "      <td>2</td>\n",
       "      <td>0</td>\n",
       "      <td>0</td>\n",
       "      <td>2</td>\n",
       "    </tr>\n",
       "    <tr>\n",
       "      <th>16291</th>\n",
       "      <td>1</td>\n",
       "      <td>0</td>\n",
       "      <td>0</td>\n",
       "      <td>1</td>\n",
       "    </tr>\n",
       "    <tr>\n",
       "      <th>19421</th>\n",
       "      <td>1</td>\n",
       "      <td>0</td>\n",
       "      <td>0</td>\n",
       "      <td>1</td>\n",
       "    </tr>\n",
       "    <tr>\n",
       "      <th>19985</th>\n",
       "      <td>1</td>\n",
       "      <td>0</td>\n",
       "      <td>0</td>\n",
       "      <td>1</td>\n",
       "    </tr>\n",
       "    <tr>\n",
       "      <th>21136</th>\n",
       "      <td>2</td>\n",
       "      <td>0</td>\n",
       "      <td>0</td>\n",
       "      <td>2</td>\n",
       "    </tr>\n",
       "    <tr>\n",
       "      <th>21644</th>\n",
       "      <td>2</td>\n",
       "      <td>0</td>\n",
       "      <td>0</td>\n",
       "      <td>2</td>\n",
       "    </tr>\n",
       "    <tr>\n",
       "      <th>21824</th>\n",
       "      <td>2</td>\n",
       "      <td>0</td>\n",
       "      <td>0</td>\n",
       "      <td>2</td>\n",
       "    </tr>\n",
       "    <tr>\n",
       "      <th>21825</th>\n",
       "      <td>2</td>\n",
       "      <td>0</td>\n",
       "      <td>0</td>\n",
       "      <td>2</td>\n",
       "    </tr>\n",
       "    <tr>\n",
       "      <th>21827</th>\n",
       "      <td>2</td>\n",
       "      <td>0</td>\n",
       "      <td>0</td>\n",
       "      <td>2</td>\n",
       "    </tr>\n",
       "    <tr>\n",
       "      <th>22126</th>\n",
       "      <td>2</td>\n",
       "      <td>0</td>\n",
       "      <td>0</td>\n",
       "      <td>2</td>\n",
       "    </tr>\n",
       "    <tr>\n",
       "      <th>22336</th>\n",
       "      <td>3</td>\n",
       "      <td>0</td>\n",
       "      <td>0</td>\n",
       "      <td>3</td>\n",
       "    </tr>\n",
       "    <tr>\n",
       "      <th>22338</th>\n",
       "      <td>3</td>\n",
       "      <td>0</td>\n",
       "      <td>0</td>\n",
       "      <td>3</td>\n",
       "    </tr>\n",
       "  </tbody>\n",
       "</table>\n",
       "</div>"
      ],
      "text/plain": [
       "       hogar_nin  hogar_adul  hogar_mayor  hogar_total\n",
       "1291           1           0            0            1\n",
       "1840           2           0            0            2\n",
       "1841           2           0            0            2\n",
       "2049           2           0            0            2\n",
       "2050           2           0            0            2\n",
       "4              1           0            0            1\n",
       "535            1           0            0            1\n",
       "536            2           0            0            2\n",
       "537            2           0            0            2\n",
       "2612           2           0            0            2\n",
       "2613           2           0            0            2\n",
       "6809           2           0            0            2\n",
       "6810           2           0            0            2\n",
       "7266           2           0            0            2\n",
       "7267           2           0            0            2\n",
       "15808          3           0            0            3\n",
       "15809          3           0            0            3\n",
       "16097          2           0            0            2\n",
       "16291          1           0            0            1\n",
       "19421          1           0            0            1\n",
       "19985          1           0            0            1\n",
       "21136          2           0            0            2\n",
       "21644          2           0            0            2\n",
       "21824          2           0            0            2\n",
       "21825          2           0            0            2\n",
       "21827          2           0            0            2\n",
       "22126          2           0            0            2\n",
       "22336          3           0            0            3\n",
       "22338          3           0            0            3"
      ]
     },
     "execution_count": 33,
     "metadata": {},
     "output_type": "execute_result"
    }
   ],
   "source": [
    "df_all[df_all['meaneduc'].isnull()][['hogar_nin', 'hogar_adul', 'hogar_mayor', 'hogar_total']]"
   ]
  },
  {
   "cell_type": "code",
   "execution_count": 34,
   "metadata": {
    "execution": {
     "iopub.execute_input": "2021-03-29T15:21:50.706922Z",
     "iopub.status.busy": "2021-03-29T15:21:50.706215Z",
     "iopub.status.idle": "2021-03-29T15:21:50.710678Z",
     "shell.execute_reply": "2021-03-29T15:21:50.710048Z"
    },
    "papermill": {
     "duration": 0.09519,
     "end_time": "2021-03-29T15:21:50.710844",
     "exception": false,
     "start_time": "2021-03-29T15:21:50.615654",
     "status": "completed"
    },
    "tags": []
   },
   "outputs": [
    {
     "data": {
      "text/html": [
       "<div>\n",
       "<style scoped>\n",
       "    .dataframe tbody tr th:only-of-type {\n",
       "        vertical-align: middle;\n",
       "    }\n",
       "\n",
       "    .dataframe tbody tr th {\n",
       "        vertical-align: top;\n",
       "    }\n",
       "\n",
       "    .dataframe thead th {\n",
       "        text-align: right;\n",
       "    }\n",
       "</style>\n",
       "<table border=\"1\" class=\"dataframe\">\n",
       "  <thead>\n",
       "    <tr style=\"text-align: right;\">\n",
       "      <th></th>\n",
       "      <th>escolari</th>\n",
       "      <th>SQBmeaned</th>\n",
       "    </tr>\n",
       "  </thead>\n",
       "  <tbody>\n",
       "    <tr>\n",
       "      <th>1291</th>\n",
       "      <td>10</td>\n",
       "      <td>NaN</td>\n",
       "    </tr>\n",
       "    <tr>\n",
       "      <th>1840</th>\n",
       "      <td>6</td>\n",
       "      <td>NaN</td>\n",
       "    </tr>\n",
       "    <tr>\n",
       "      <th>1841</th>\n",
       "      <td>4</td>\n",
       "      <td>NaN</td>\n",
       "    </tr>\n",
       "    <tr>\n",
       "      <th>2049</th>\n",
       "      <td>12</td>\n",
       "      <td>NaN</td>\n",
       "    </tr>\n",
       "    <tr>\n",
       "      <th>2050</th>\n",
       "      <td>12</td>\n",
       "      <td>NaN</td>\n",
       "    </tr>\n",
       "    <tr>\n",
       "      <th>4</th>\n",
       "      <td>11</td>\n",
       "      <td>NaN</td>\n",
       "    </tr>\n",
       "    <tr>\n",
       "      <th>535</th>\n",
       "      <td>11</td>\n",
       "      <td>NaN</td>\n",
       "    </tr>\n",
       "    <tr>\n",
       "      <th>536</th>\n",
       "      <td>12</td>\n",
       "      <td>NaN</td>\n",
       "    </tr>\n",
       "    <tr>\n",
       "      <th>537</th>\n",
       "      <td>12</td>\n",
       "      <td>NaN</td>\n",
       "    </tr>\n",
       "    <tr>\n",
       "      <th>2612</th>\n",
       "      <td>8</td>\n",
       "      <td>NaN</td>\n",
       "    </tr>\n",
       "    <tr>\n",
       "      <th>2613</th>\n",
       "      <td>6</td>\n",
       "      <td>NaN</td>\n",
       "    </tr>\n",
       "    <tr>\n",
       "      <th>6809</th>\n",
       "      <td>12</td>\n",
       "      <td>NaN</td>\n",
       "    </tr>\n",
       "    <tr>\n",
       "      <th>6810</th>\n",
       "      <td>12</td>\n",
       "      <td>NaN</td>\n",
       "    </tr>\n",
       "    <tr>\n",
       "      <th>7266</th>\n",
       "      <td>12</td>\n",
       "      <td>NaN</td>\n",
       "    </tr>\n",
       "    <tr>\n",
       "      <th>7267</th>\n",
       "      <td>10</td>\n",
       "      <td>NaN</td>\n",
       "    </tr>\n",
       "    <tr>\n",
       "      <th>15808</th>\n",
       "      <td>6</td>\n",
       "      <td>NaN</td>\n",
       "    </tr>\n",
       "    <tr>\n",
       "      <th>15809</th>\n",
       "      <td>8</td>\n",
       "      <td>NaN</td>\n",
       "    </tr>\n",
       "    <tr>\n",
       "      <th>16097</th>\n",
       "      <td>7</td>\n",
       "      <td>NaN</td>\n",
       "    </tr>\n",
       "    <tr>\n",
       "      <th>16291</th>\n",
       "      <td>9</td>\n",
       "      <td>NaN</td>\n",
       "    </tr>\n",
       "    <tr>\n",
       "      <th>19421</th>\n",
       "      <td>11</td>\n",
       "      <td>NaN</td>\n",
       "    </tr>\n",
       "    <tr>\n",
       "      <th>19985</th>\n",
       "      <td>10</td>\n",
       "      <td>NaN</td>\n",
       "    </tr>\n",
       "    <tr>\n",
       "      <th>21136</th>\n",
       "      <td>6</td>\n",
       "      <td>NaN</td>\n",
       "    </tr>\n",
       "    <tr>\n",
       "      <th>21644</th>\n",
       "      <td>9</td>\n",
       "      <td>NaN</td>\n",
       "    </tr>\n",
       "    <tr>\n",
       "      <th>21824</th>\n",
       "      <td>7</td>\n",
       "      <td>NaN</td>\n",
       "    </tr>\n",
       "    <tr>\n",
       "      <th>21825</th>\n",
       "      <td>9</td>\n",
       "      <td>NaN</td>\n",
       "    </tr>\n",
       "    <tr>\n",
       "      <th>21827</th>\n",
       "      <td>6</td>\n",
       "      <td>NaN</td>\n",
       "    </tr>\n",
       "    <tr>\n",
       "      <th>22126</th>\n",
       "      <td>9</td>\n",
       "      <td>NaN</td>\n",
       "    </tr>\n",
       "    <tr>\n",
       "      <th>22336</th>\n",
       "      <td>7</td>\n",
       "      <td>NaN</td>\n",
       "    </tr>\n",
       "    <tr>\n",
       "      <th>22338</th>\n",
       "      <td>6</td>\n",
       "      <td>NaN</td>\n",
       "    </tr>\n",
       "  </tbody>\n",
       "</table>\n",
       "</div>"
      ],
      "text/plain": [
       "       escolari  SQBmeaned\n",
       "1291         10        NaN\n",
       "1840          6        NaN\n",
       "1841          4        NaN\n",
       "2049         12        NaN\n",
       "2050         12        NaN\n",
       "4            11        NaN\n",
       "535          11        NaN\n",
       "536          12        NaN\n",
       "537          12        NaN\n",
       "2612          8        NaN\n",
       "2613          6        NaN\n",
       "6809         12        NaN\n",
       "6810         12        NaN\n",
       "7266         12        NaN\n",
       "7267         10        NaN\n",
       "15808         6        NaN\n",
       "15809         8        NaN\n",
       "16097         7        NaN\n",
       "16291         9        NaN\n",
       "19421        11        NaN\n",
       "19985        10        NaN\n",
       "21136         6        NaN\n",
       "21644         9        NaN\n",
       "21824         7        NaN\n",
       "21825         9        NaN\n",
       "21827         6        NaN\n",
       "22126         9        NaN\n",
       "22336         7        NaN\n",
       "22338         6        NaN"
      ]
     },
     "execution_count": 34,
     "metadata": {},
     "output_type": "execute_result"
    }
   ],
   "source": [
    "df_all[df_all['meaneduc'].isnull()][['escolari', 'SQBmeaned']]"
   ]
  },
  {
   "cell_type": "markdown",
   "metadata": {
    "papermill": {
     "duration": 0.07649,
     "end_time": "2021-03-29T15:21:50.865494",
     "exception": false,
     "start_time": "2021-03-29T15:21:50.789004",
     "status": "completed"
    },
    "tags": []
   },
   "source": [
    "* as colunas que 'escolari' era zero, substitui o NA do 'meaneduc' e do 'SQBmeaned' para 0"
   ]
  },
  {
   "cell_type": "code",
   "execution_count": 35,
   "metadata": {
    "execution": {
     "iopub.execute_input": "2021-03-29T15:21:51.041783Z",
     "iopub.status.busy": "2021-03-29T15:21:51.034001Z",
     "iopub.status.idle": "2021-03-29T15:21:51.046673Z",
     "shell.execute_reply": "2021-03-29T15:21:51.047152Z"
    },
    "papermill": {
     "duration": 0.105031,
     "end_time": "2021-03-29T15:21:51.047356",
     "exception": false,
     "start_time": "2021-03-29T15:21:50.942325",
     "status": "completed"
    },
    "tags": []
   },
   "outputs": [
    {
     "data": {
      "text/html": [
       "<div>\n",
       "<style scoped>\n",
       "    .dataframe tbody tr th:only-of-type {\n",
       "        vertical-align: middle;\n",
       "    }\n",
       "\n",
       "    .dataframe tbody tr th {\n",
       "        vertical-align: top;\n",
       "    }\n",
       "\n",
       "    .dataframe thead th {\n",
       "        text-align: right;\n",
       "    }\n",
       "</style>\n",
       "<table border=\"1\" class=\"dataframe\">\n",
       "  <thead>\n",
       "    <tr style=\"text-align: right;\">\n",
       "      <th></th>\n",
       "      <th>escolari</th>\n",
       "      <th>meaneduc</th>\n",
       "      <th>hogar_nin</th>\n",
       "      <th>hogar_adul</th>\n",
       "      <th>hogar_mayor</th>\n",
       "      <th>hogar_total</th>\n",
       "      <th>age</th>\n",
       "      <th>idhogar</th>\n",
       "    </tr>\n",
       "  </thead>\n",
       "  <tbody>\n",
       "    <tr>\n",
       "      <th>0</th>\n",
       "      <td>10</td>\n",
       "      <td>10.00</td>\n",
       "      <td>0</td>\n",
       "      <td>1</td>\n",
       "      <td>0</td>\n",
       "      <td>1</td>\n",
       "      <td>43</td>\n",
       "      <td>21eb7fcc1</td>\n",
       "    </tr>\n",
       "    <tr>\n",
       "      <th>1</th>\n",
       "      <td>12</td>\n",
       "      <td>12.00</td>\n",
       "      <td>0</td>\n",
       "      <td>1</td>\n",
       "      <td>1</td>\n",
       "      <td>1</td>\n",
       "      <td>67</td>\n",
       "      <td>0e5d7a658</td>\n",
       "    </tr>\n",
       "    <tr>\n",
       "      <th>2</th>\n",
       "      <td>11</td>\n",
       "      <td>11.00</td>\n",
       "      <td>0</td>\n",
       "      <td>1</td>\n",
       "      <td>1</td>\n",
       "      <td>1</td>\n",
       "      <td>92</td>\n",
       "      <td>2c7317ea8</td>\n",
       "    </tr>\n",
       "    <tr>\n",
       "      <th>3</th>\n",
       "      <td>9</td>\n",
       "      <td>11.00</td>\n",
       "      <td>2</td>\n",
       "      <td>2</td>\n",
       "      <td>0</td>\n",
       "      <td>4</td>\n",
       "      <td>17</td>\n",
       "      <td>2b58d945f</td>\n",
       "    </tr>\n",
       "    <tr>\n",
       "      <th>4</th>\n",
       "      <td>11</td>\n",
       "      <td>11.00</td>\n",
       "      <td>2</td>\n",
       "      <td>2</td>\n",
       "      <td>0</td>\n",
       "      <td>4</td>\n",
       "      <td>37</td>\n",
       "      <td>2b58d945f</td>\n",
       "    </tr>\n",
       "    <tr>\n",
       "      <th>...</th>\n",
       "      <td>...</td>\n",
       "      <td>...</td>\n",
       "      <td>...</td>\n",
       "      <td>...</td>\n",
       "      <td>...</td>\n",
       "      <td>...</td>\n",
       "      <td>...</td>\n",
       "      <td>...</td>\n",
       "    </tr>\n",
       "    <tr>\n",
       "      <th>23851</th>\n",
       "      <td>3</td>\n",
       "      <td>5.75</td>\n",
       "      <td>2</td>\n",
       "      <td>4</td>\n",
       "      <td>0</td>\n",
       "      <td>6</td>\n",
       "      <td>10</td>\n",
       "      <td>3aa78c56b</td>\n",
       "    </tr>\n",
       "    <tr>\n",
       "      <th>23852</th>\n",
       "      <td>6</td>\n",
       "      <td>6.00</td>\n",
       "      <td>2</td>\n",
       "      <td>2</td>\n",
       "      <td>0</td>\n",
       "      <td>4</td>\n",
       "      <td>54</td>\n",
       "      <td>d237404b6</td>\n",
       "    </tr>\n",
       "    <tr>\n",
       "      <th>23853</th>\n",
       "      <td>4</td>\n",
       "      <td>6.00</td>\n",
       "      <td>2</td>\n",
       "      <td>2</td>\n",
       "      <td>0</td>\n",
       "      <td>4</td>\n",
       "      <td>12</td>\n",
       "      <td>d237404b6</td>\n",
       "    </tr>\n",
       "    <tr>\n",
       "      <th>23854</th>\n",
       "      <td>5</td>\n",
       "      <td>6.00</td>\n",
       "      <td>2</td>\n",
       "      <td>2</td>\n",
       "      <td>0</td>\n",
       "      <td>4</td>\n",
       "      <td>12</td>\n",
       "      <td>d237404b6</td>\n",
       "    </tr>\n",
       "    <tr>\n",
       "      <th>23855</th>\n",
       "      <td>6</td>\n",
       "      <td>6.00</td>\n",
       "      <td>2</td>\n",
       "      <td>2</td>\n",
       "      <td>0</td>\n",
       "      <td>4</td>\n",
       "      <td>51</td>\n",
       "      <td>d237404b6</td>\n",
       "    </tr>\n",
       "  </tbody>\n",
       "</table>\n",
       "<p>33413 rows × 8 columns</p>\n",
       "</div>"
      ],
      "text/plain": [
       "       escolari  meaneduc  hogar_nin  hogar_adul  hogar_mayor  hogar_total  \\\n",
       "0            10     10.00          0           1            0            1   \n",
       "1            12     12.00          0           1            1            1   \n",
       "2            11     11.00          0           1            1            1   \n",
       "3             9     11.00          2           2            0            4   \n",
       "4            11     11.00          2           2            0            4   \n",
       "...         ...       ...        ...         ...          ...          ...   \n",
       "23851         3      5.75          2           4            0            6   \n",
       "23852         6      6.00          2           2            0            4   \n",
       "23853         4      6.00          2           2            0            4   \n",
       "23854         5      6.00          2           2            0            4   \n",
       "23855         6      6.00          2           2            0            4   \n",
       "\n",
       "       age    idhogar  \n",
       "0       43  21eb7fcc1  \n",
       "1       67  0e5d7a658  \n",
       "2       92  2c7317ea8  \n",
       "3       17  2b58d945f  \n",
       "4       37  2b58d945f  \n",
       "...    ...        ...  \n",
       "23851   10  3aa78c56b  \n",
       "23852   54  d237404b6  \n",
       "23853   12  d237404b6  \n",
       "23854   12  d237404b6  \n",
       "23855   51  d237404b6  \n",
       "\n",
       "[33413 rows x 8 columns]"
      ]
     },
     "execution_count": 35,
     "metadata": {},
     "output_type": "execute_result"
    }
   ],
   "source": [
    "df_all[['escolari', 'meaneduc', 'hogar_nin', 'hogar_adul', 'hogar_mayor', 'hogar_total', 'age', 'idhogar']]"
   ]
  },
  {
   "cell_type": "code",
   "execution_count": 36,
   "metadata": {
    "execution": {
     "iopub.execute_input": "2021-03-29T15:21:51.215253Z",
     "iopub.status.busy": "2021-03-29T15:21:51.214571Z",
     "iopub.status.idle": "2021-03-29T15:21:51.227570Z",
     "shell.execute_reply": "2021-03-29T15:21:51.226894Z"
    },
    "papermill": {
     "duration": 0.101714,
     "end_time": "2021-03-29T15:21:51.227743",
     "exception": false,
     "start_time": "2021-03-29T15:21:51.126029",
     "status": "completed"
    },
    "tags": []
   },
   "outputs": [
    {
     "data": {
      "text/html": [
       "<div>\n",
       "<style scoped>\n",
       "    .dataframe tbody tr th:only-of-type {\n",
       "        vertical-align: middle;\n",
       "    }\n",
       "\n",
       "    .dataframe tbody tr th {\n",
       "        vertical-align: top;\n",
       "    }\n",
       "\n",
       "    .dataframe thead th {\n",
       "        text-align: right;\n",
       "    }\n",
       "</style>\n",
       "<table border=\"1\" class=\"dataframe\">\n",
       "  <thead>\n",
       "    <tr style=\"text-align: right;\">\n",
       "      <th></th>\n",
       "      <th>hogar_nin</th>\n",
       "      <th>hogar_adul</th>\n",
       "      <th>hogar_mayor</th>\n",
       "      <th>hogar_total</th>\n",
       "      <th>age</th>\n",
       "      <th>escolari</th>\n",
       "      <th>idhogar</th>\n",
       "      <th>meaneduc</th>\n",
       "    </tr>\n",
       "  </thead>\n",
       "  <tbody>\n",
       "    <tr>\n",
       "      <th>23846</th>\n",
       "      <td>2</td>\n",
       "      <td>4</td>\n",
       "      <td>0</td>\n",
       "      <td>6</td>\n",
       "      <td>24</td>\n",
       "      <td>5</td>\n",
       "      <td>3aa78c56b</td>\n",
       "      <td>5.75</td>\n",
       "    </tr>\n",
       "    <tr>\n",
       "      <th>23847</th>\n",
       "      <td>2</td>\n",
       "      <td>4</td>\n",
       "      <td>0</td>\n",
       "      <td>6</td>\n",
       "      <td>57</td>\n",
       "      <td>5</td>\n",
       "      <td>3aa78c56b</td>\n",
       "      <td>5.75</td>\n",
       "    </tr>\n",
       "    <tr>\n",
       "      <th>23848</th>\n",
       "      <td>2</td>\n",
       "      <td>4</td>\n",
       "      <td>0</td>\n",
       "      <td>6</td>\n",
       "      <td>18</td>\n",
       "      <td>0</td>\n",
       "      <td>3aa78c56b</td>\n",
       "      <td>5.75</td>\n",
       "    </tr>\n",
       "    <tr>\n",
       "      <th>23849</th>\n",
       "      <td>2</td>\n",
       "      <td>4</td>\n",
       "      <td>0</td>\n",
       "      <td>6</td>\n",
       "      <td>47</td>\n",
       "      <td>5</td>\n",
       "      <td>3aa78c56b</td>\n",
       "      <td>5.75</td>\n",
       "    </tr>\n",
       "    <tr>\n",
       "      <th>23850</th>\n",
       "      <td>2</td>\n",
       "      <td>4</td>\n",
       "      <td>0</td>\n",
       "      <td>6</td>\n",
       "      <td>27</td>\n",
       "      <td>8</td>\n",
       "      <td>3aa78c56b</td>\n",
       "      <td>5.75</td>\n",
       "    </tr>\n",
       "    <tr>\n",
       "      <th>23851</th>\n",
       "      <td>2</td>\n",
       "      <td>4</td>\n",
       "      <td>0</td>\n",
       "      <td>6</td>\n",
       "      <td>10</td>\n",
       "      <td>3</td>\n",
       "      <td>3aa78c56b</td>\n",
       "      <td>5.75</td>\n",
       "    </tr>\n",
       "  </tbody>\n",
       "</table>\n",
       "</div>"
      ],
      "text/plain": [
       "       hogar_nin  hogar_adul  hogar_mayor  hogar_total  age  escolari  \\\n",
       "23846          2           4            0            6   24         5   \n",
       "23847          2           4            0            6   57         5   \n",
       "23848          2           4            0            6   18         0   \n",
       "23849          2           4            0            6   47         5   \n",
       "23850          2           4            0            6   27         8   \n",
       "23851          2           4            0            6   10         3   \n",
       "\n",
       "         idhogar  meaneduc  \n",
       "23846  3aa78c56b      5.75  \n",
       "23847  3aa78c56b      5.75  \n",
       "23848  3aa78c56b      5.75  \n",
       "23849  3aa78c56b      5.75  \n",
       "23850  3aa78c56b      5.75  \n",
       "23851  3aa78c56b      5.75  "
      ]
     },
     "execution_count": 36,
     "metadata": {},
     "output_type": "execute_result"
    }
   ],
   "source": [
    "df_all[df_all['idhogar'] == '3aa78c56b'][['hogar_nin', 'hogar_adul', 'hogar_mayor', 'hogar_total','age', 'escolari', 'idhogar', 'meaneduc']]"
   ]
  },
  {
   "cell_type": "markdown",
   "metadata": {
    "papermill": {
     "duration": 0.078236,
     "end_time": "2021-03-29T15:21:51.387741",
     "exception": false,
     "start_time": "2021-03-29T15:21:51.309505",
     "status": "completed"
    },
    "tags": []
   },
   "source": [
    "'meaneduc' é a soma da escolaridade dos adultos > 19 anos / pelo numero de adultos\n",
    "(5+5+5+8)/4 =5.75"
   ]
  },
  {
   "cell_type": "code",
   "execution_count": 37,
   "metadata": {
    "execution": {
     "iopub.execute_input": "2021-03-29T15:21:51.565532Z",
     "iopub.status.busy": "2021-03-29T15:21:51.564588Z",
     "iopub.status.idle": "2021-03-29T15:21:51.569644Z",
     "shell.execute_reply": "2021-03-29T15:21:51.569124Z"
    },
    "papermill": {
     "duration": 0.1038,
     "end_time": "2021-03-29T15:21:51.569790",
     "exception": false,
     "start_time": "2021-03-29T15:21:51.465990",
     "status": "completed"
    },
    "tags": []
   },
   "outputs": [
    {
     "data": {
      "text/html": [
       "<div>\n",
       "<style scoped>\n",
       "    .dataframe tbody tr th:only-of-type {\n",
       "        vertical-align: middle;\n",
       "    }\n",
       "\n",
       "    .dataframe tbody tr th {\n",
       "        vertical-align: top;\n",
       "    }\n",
       "\n",
       "    .dataframe thead th {\n",
       "        text-align: right;\n",
       "    }\n",
       "</style>\n",
       "<table border=\"1\" class=\"dataframe\">\n",
       "  <thead>\n",
       "    <tr style=\"text-align: right;\">\n",
       "      <th></th>\n",
       "      <th>hogar_nin</th>\n",
       "      <th>hogar_adul</th>\n",
       "      <th>hogar_mayor</th>\n",
       "      <th>hogar_total</th>\n",
       "      <th>age</th>\n",
       "      <th>escolari</th>\n",
       "      <th>meaneduc</th>\n",
       "      <th>SQBmeaned</th>\n",
       "    </tr>\n",
       "  </thead>\n",
       "  <tbody>\n",
       "    <tr>\n",
       "      <th>1291</th>\n",
       "      <td>1</td>\n",
       "      <td>0</td>\n",
       "      <td>0</td>\n",
       "      <td>1</td>\n",
       "      <td>18</td>\n",
       "      <td>10</td>\n",
       "      <td>NaN</td>\n",
       "      <td>NaN</td>\n",
       "    </tr>\n",
       "    <tr>\n",
       "      <th>1840</th>\n",
       "      <td>2</td>\n",
       "      <td>0</td>\n",
       "      <td>0</td>\n",
       "      <td>2</td>\n",
       "      <td>18</td>\n",
       "      <td>6</td>\n",
       "      <td>NaN</td>\n",
       "      <td>NaN</td>\n",
       "    </tr>\n",
       "    <tr>\n",
       "      <th>1841</th>\n",
       "      <td>2</td>\n",
       "      <td>0</td>\n",
       "      <td>0</td>\n",
       "      <td>2</td>\n",
       "      <td>18</td>\n",
       "      <td>4</td>\n",
       "      <td>NaN</td>\n",
       "      <td>NaN</td>\n",
       "    </tr>\n",
       "    <tr>\n",
       "      <th>2049</th>\n",
       "      <td>2</td>\n",
       "      <td>0</td>\n",
       "      <td>0</td>\n",
       "      <td>2</td>\n",
       "      <td>19</td>\n",
       "      <td>12</td>\n",
       "      <td>NaN</td>\n",
       "      <td>NaN</td>\n",
       "    </tr>\n",
       "    <tr>\n",
       "      <th>2050</th>\n",
       "      <td>2</td>\n",
       "      <td>0</td>\n",
       "      <td>0</td>\n",
       "      <td>2</td>\n",
       "      <td>19</td>\n",
       "      <td>12</td>\n",
       "      <td>NaN</td>\n",
       "      <td>NaN</td>\n",
       "    </tr>\n",
       "    <tr>\n",
       "      <th>4</th>\n",
       "      <td>1</td>\n",
       "      <td>0</td>\n",
       "      <td>0</td>\n",
       "      <td>1</td>\n",
       "      <td>18</td>\n",
       "      <td>11</td>\n",
       "      <td>NaN</td>\n",
       "      <td>NaN</td>\n",
       "    </tr>\n",
       "    <tr>\n",
       "      <th>535</th>\n",
       "      <td>1</td>\n",
       "      <td>0</td>\n",
       "      <td>0</td>\n",
       "      <td>1</td>\n",
       "      <td>18</td>\n",
       "      <td>11</td>\n",
       "      <td>NaN</td>\n",
       "      <td>NaN</td>\n",
       "    </tr>\n",
       "    <tr>\n",
       "      <th>536</th>\n",
       "      <td>2</td>\n",
       "      <td>0</td>\n",
       "      <td>0</td>\n",
       "      <td>2</td>\n",
       "      <td>19</td>\n",
       "      <td>12</td>\n",
       "      <td>NaN</td>\n",
       "      <td>NaN</td>\n",
       "    </tr>\n",
       "    <tr>\n",
       "      <th>537</th>\n",
       "      <td>2</td>\n",
       "      <td>0</td>\n",
       "      <td>0</td>\n",
       "      <td>2</td>\n",
       "      <td>19</td>\n",
       "      <td>12</td>\n",
       "      <td>NaN</td>\n",
       "      <td>NaN</td>\n",
       "    </tr>\n",
       "    <tr>\n",
       "      <th>2612</th>\n",
       "      <td>2</td>\n",
       "      <td>0</td>\n",
       "      <td>0</td>\n",
       "      <td>2</td>\n",
       "      <td>19</td>\n",
       "      <td>8</td>\n",
       "      <td>NaN</td>\n",
       "      <td>NaN</td>\n",
       "    </tr>\n",
       "    <tr>\n",
       "      <th>2613</th>\n",
       "      <td>2</td>\n",
       "      <td>0</td>\n",
       "      <td>0</td>\n",
       "      <td>2</td>\n",
       "      <td>17</td>\n",
       "      <td>6</td>\n",
       "      <td>NaN</td>\n",
       "      <td>NaN</td>\n",
       "    </tr>\n",
       "    <tr>\n",
       "      <th>6809</th>\n",
       "      <td>2</td>\n",
       "      <td>0</td>\n",
       "      <td>0</td>\n",
       "      <td>2</td>\n",
       "      <td>18</td>\n",
       "      <td>12</td>\n",
       "      <td>NaN</td>\n",
       "      <td>NaN</td>\n",
       "    </tr>\n",
       "    <tr>\n",
       "      <th>6810</th>\n",
       "      <td>2</td>\n",
       "      <td>0</td>\n",
       "      <td>0</td>\n",
       "      <td>2</td>\n",
       "      <td>19</td>\n",
       "      <td>12</td>\n",
       "      <td>NaN</td>\n",
       "      <td>NaN</td>\n",
       "    </tr>\n",
       "    <tr>\n",
       "      <th>7266</th>\n",
       "      <td>2</td>\n",
       "      <td>0</td>\n",
       "      <td>0</td>\n",
       "      <td>2</td>\n",
       "      <td>19</td>\n",
       "      <td>12</td>\n",
       "      <td>NaN</td>\n",
       "      <td>NaN</td>\n",
       "    </tr>\n",
       "    <tr>\n",
       "      <th>7267</th>\n",
       "      <td>2</td>\n",
       "      <td>0</td>\n",
       "      <td>0</td>\n",
       "      <td>2</td>\n",
       "      <td>18</td>\n",
       "      <td>10</td>\n",
       "      <td>NaN</td>\n",
       "      <td>NaN</td>\n",
       "    </tr>\n",
       "    <tr>\n",
       "      <th>15808</th>\n",
       "      <td>3</td>\n",
       "      <td>0</td>\n",
       "      <td>0</td>\n",
       "      <td>3</td>\n",
       "      <td>19</td>\n",
       "      <td>6</td>\n",
       "      <td>NaN</td>\n",
       "      <td>NaN</td>\n",
       "    </tr>\n",
       "    <tr>\n",
       "      <th>15809</th>\n",
       "      <td>3</td>\n",
       "      <td>0</td>\n",
       "      <td>0</td>\n",
       "      <td>3</td>\n",
       "      <td>18</td>\n",
       "      <td>8</td>\n",
       "      <td>NaN</td>\n",
       "      <td>NaN</td>\n",
       "    </tr>\n",
       "    <tr>\n",
       "      <th>16097</th>\n",
       "      <td>2</td>\n",
       "      <td>0</td>\n",
       "      <td>0</td>\n",
       "      <td>2</td>\n",
       "      <td>18</td>\n",
       "      <td>7</td>\n",
       "      <td>NaN</td>\n",
       "      <td>NaN</td>\n",
       "    </tr>\n",
       "    <tr>\n",
       "      <th>16291</th>\n",
       "      <td>1</td>\n",
       "      <td>0</td>\n",
       "      <td>0</td>\n",
       "      <td>1</td>\n",
       "      <td>17</td>\n",
       "      <td>9</td>\n",
       "      <td>NaN</td>\n",
       "      <td>NaN</td>\n",
       "    </tr>\n",
       "    <tr>\n",
       "      <th>19421</th>\n",
       "      <td>1</td>\n",
       "      <td>0</td>\n",
       "      <td>0</td>\n",
       "      <td>1</td>\n",
       "      <td>18</td>\n",
       "      <td>11</td>\n",
       "      <td>NaN</td>\n",
       "      <td>NaN</td>\n",
       "    </tr>\n",
       "    <tr>\n",
       "      <th>19985</th>\n",
       "      <td>1</td>\n",
       "      <td>0</td>\n",
       "      <td>0</td>\n",
       "      <td>1</td>\n",
       "      <td>19</td>\n",
       "      <td>10</td>\n",
       "      <td>NaN</td>\n",
       "      <td>NaN</td>\n",
       "    </tr>\n",
       "    <tr>\n",
       "      <th>21136</th>\n",
       "      <td>2</td>\n",
       "      <td>0</td>\n",
       "      <td>0</td>\n",
       "      <td>2</td>\n",
       "      <td>18</td>\n",
       "      <td>6</td>\n",
       "      <td>NaN</td>\n",
       "      <td>NaN</td>\n",
       "    </tr>\n",
       "    <tr>\n",
       "      <th>21644</th>\n",
       "      <td>2</td>\n",
       "      <td>0</td>\n",
       "      <td>0</td>\n",
       "      <td>2</td>\n",
       "      <td>17</td>\n",
       "      <td>9</td>\n",
       "      <td>NaN</td>\n",
       "      <td>NaN</td>\n",
       "    </tr>\n",
       "    <tr>\n",
       "      <th>21824</th>\n",
       "      <td>2</td>\n",
       "      <td>0</td>\n",
       "      <td>0</td>\n",
       "      <td>2</td>\n",
       "      <td>15</td>\n",
       "      <td>7</td>\n",
       "      <td>NaN</td>\n",
       "      <td>NaN</td>\n",
       "    </tr>\n",
       "    <tr>\n",
       "      <th>21825</th>\n",
       "      <td>2</td>\n",
       "      <td>0</td>\n",
       "      <td>0</td>\n",
       "      <td>2</td>\n",
       "      <td>18</td>\n",
       "      <td>9</td>\n",
       "      <td>NaN</td>\n",
       "      <td>NaN</td>\n",
       "    </tr>\n",
       "    <tr>\n",
       "      <th>21827</th>\n",
       "      <td>2</td>\n",
       "      <td>0</td>\n",
       "      <td>0</td>\n",
       "      <td>2</td>\n",
       "      <td>18</td>\n",
       "      <td>6</td>\n",
       "      <td>NaN</td>\n",
       "      <td>NaN</td>\n",
       "    </tr>\n",
       "    <tr>\n",
       "      <th>22126</th>\n",
       "      <td>2</td>\n",
       "      <td>0</td>\n",
       "      <td>0</td>\n",
       "      <td>2</td>\n",
       "      <td>18</td>\n",
       "      <td>9</td>\n",
       "      <td>NaN</td>\n",
       "      <td>NaN</td>\n",
       "    </tr>\n",
       "    <tr>\n",
       "      <th>22336</th>\n",
       "      <td>3</td>\n",
       "      <td>0</td>\n",
       "      <td>0</td>\n",
       "      <td>3</td>\n",
       "      <td>18</td>\n",
       "      <td>7</td>\n",
       "      <td>NaN</td>\n",
       "      <td>NaN</td>\n",
       "    </tr>\n",
       "    <tr>\n",
       "      <th>22338</th>\n",
       "      <td>3</td>\n",
       "      <td>0</td>\n",
       "      <td>0</td>\n",
       "      <td>3</td>\n",
       "      <td>18</td>\n",
       "      <td>6</td>\n",
       "      <td>NaN</td>\n",
       "      <td>NaN</td>\n",
       "    </tr>\n",
       "  </tbody>\n",
       "</table>\n",
       "</div>"
      ],
      "text/plain": [
       "       hogar_nin  hogar_adul  hogar_mayor  hogar_total  age  escolari  \\\n",
       "1291           1           0            0            1   18        10   \n",
       "1840           2           0            0            2   18         6   \n",
       "1841           2           0            0            2   18         4   \n",
       "2049           2           0            0            2   19        12   \n",
       "2050           2           0            0            2   19        12   \n",
       "4              1           0            0            1   18        11   \n",
       "535            1           0            0            1   18        11   \n",
       "536            2           0            0            2   19        12   \n",
       "537            2           0            0            2   19        12   \n",
       "2612           2           0            0            2   19         8   \n",
       "2613           2           0            0            2   17         6   \n",
       "6809           2           0            0            2   18        12   \n",
       "6810           2           0            0            2   19        12   \n",
       "7266           2           0            0            2   19        12   \n",
       "7267           2           0            0            2   18        10   \n",
       "15808          3           0            0            3   19         6   \n",
       "15809          3           0            0            3   18         8   \n",
       "16097          2           0            0            2   18         7   \n",
       "16291          1           0            0            1   17         9   \n",
       "19421          1           0            0            1   18        11   \n",
       "19985          1           0            0            1   19        10   \n",
       "21136          2           0            0            2   18         6   \n",
       "21644          2           0            0            2   17         9   \n",
       "21824          2           0            0            2   15         7   \n",
       "21825          2           0            0            2   18         9   \n",
       "21827          2           0            0            2   18         6   \n",
       "22126          2           0            0            2   18         9   \n",
       "22336          3           0            0            3   18         7   \n",
       "22338          3           0            0            3   18         6   \n",
       "\n",
       "       meaneduc  SQBmeaned  \n",
       "1291        NaN        NaN  \n",
       "1840        NaN        NaN  \n",
       "1841        NaN        NaN  \n",
       "2049        NaN        NaN  \n",
       "2050        NaN        NaN  \n",
       "4           NaN        NaN  \n",
       "535         NaN        NaN  \n",
       "536         NaN        NaN  \n",
       "537         NaN        NaN  \n",
       "2612        NaN        NaN  \n",
       "2613        NaN        NaN  \n",
       "6809        NaN        NaN  \n",
       "6810        NaN        NaN  \n",
       "7266        NaN        NaN  \n",
       "7267        NaN        NaN  \n",
       "15808       NaN        NaN  \n",
       "15809       NaN        NaN  \n",
       "16097       NaN        NaN  \n",
       "16291       NaN        NaN  \n",
       "19421       NaN        NaN  \n",
       "19985       NaN        NaN  \n",
       "21136       NaN        NaN  \n",
       "21644       NaN        NaN  \n",
       "21824       NaN        NaN  \n",
       "21825       NaN        NaN  \n",
       "21827       NaN        NaN  \n",
       "22126       NaN        NaN  \n",
       "22336       NaN        NaN  \n",
       "22338       NaN        NaN  "
      ]
     },
     "execution_count": 37,
     "metadata": {},
     "output_type": "execute_result"
    }
   ],
   "source": [
    "df_all[df_all['meaneduc'].isnull()][['hogar_nin', 'hogar_adul', 'hogar_mayor', 'hogar_total','age', 'escolari', 'meaneduc',  'SQBmeaned']]"
   ]
  },
  {
   "cell_type": "markdown",
   "metadata": {
    "papermill": {
     "duration": 0.079014,
     "end_time": "2021-03-29T15:21:51.728422",
     "exception": false,
     "start_time": "2021-03-29T15:21:51.649408",
     "status": "completed"
    },
    "tags": []
   },
   "source": [
    "* como 'hogar_adul' é 0 em todos os casos que o 'meaneduc' é NA, 'meaneduc' é 0 nessas linhas e consequentemente 'SQBmeaned' é 0 nessas linhas\n",
    "* o dicionário de dados está errado ao falar que 'SQBmeaned' é de adultos >= 18, na verdade adulto pra base é > 18"
   ]
  },
  {
   "cell_type": "code",
   "execution_count": 38,
   "metadata": {
    "execution": {
     "iopub.execute_input": "2021-03-29T15:21:51.893780Z",
     "iopub.status.busy": "2021-03-29T15:21:51.893114Z",
     "iopub.status.idle": "2021-03-29T15:21:51.897327Z",
     "shell.execute_reply": "2021-03-29T15:21:51.896739Z"
    },
    "papermill": {
     "duration": 0.089936,
     "end_time": "2021-03-29T15:21:51.897471",
     "exception": false,
     "start_time": "2021-03-29T15:21:51.807535",
     "status": "completed"
    },
    "tags": []
   },
   "outputs": [],
   "source": [
    "df_all['SQBmeaned'].fillna(0, inplace=True)\n",
    "df_all['meaneduc'].fillna(0, inplace=True)"
   ]
  },
  {
   "cell_type": "code",
   "execution_count": 39,
   "metadata": {
    "execution": {
     "iopub.execute_input": "2021-03-29T15:21:52.060581Z",
     "iopub.status.busy": "2021-03-29T15:21:52.059875Z",
     "iopub.status.idle": "2021-03-29T15:21:52.098771Z",
     "shell.execute_reply": "2021-03-29T15:21:52.099293Z"
    },
    "papermill": {
     "duration": 0.122464,
     "end_time": "2021-03-29T15:21:52.099466",
     "exception": false,
     "start_time": "2021-03-29T15:21:51.977002",
     "status": "completed"
    },
    "tags": []
   },
   "outputs": [
    {
     "name": "stdout",
     "output_type": "stream",
     "text": [
      "<class 'pandas.core.frame.DataFrame'>\n",
      "Int64Index: 33413 entries, 0 to 23855\n",
      "Data columns (total 143 columns):\n",
      " #    Column           Non-Null Count  Dtype  \n",
      "---   ------           --------------  -----  \n",
      " 0    Id               33413 non-null  object \n",
      " 1    v2a1             9150 non-null   float64\n",
      " 2    hacdor           33413 non-null  int64  \n",
      " 3    rooms            33413 non-null  int64  \n",
      " 4    hacapo           33413 non-null  int64  \n",
      " 5    v14a             33413 non-null  int64  \n",
      " 6    refrig           33413 non-null  int64  \n",
      " 7    v18q             33413 non-null  int64  \n",
      " 8    v18q1            33413 non-null  float64\n",
      " 9    r4h1             33413 non-null  int64  \n",
      " 10   r4h2             33413 non-null  int64  \n",
      " 11   r4h3             33413 non-null  int64  \n",
      " 12   r4m1             33413 non-null  int64  \n",
      " 13   r4m2             33413 non-null  int64  \n",
      " 14   r4m3             33413 non-null  int64  \n",
      " 15   r4t1             33413 non-null  int64  \n",
      " 16   r4t2             33413 non-null  int64  \n",
      " 17   r4t3             33413 non-null  int64  \n",
      " 18   tamhog           33413 non-null  int64  \n",
      " 19   tamviv           33413 non-null  int64  \n",
      " 20   escolari         33413 non-null  int64  \n",
      " 21   rez_esc          5832 non-null   float64\n",
      " 22   hhsize           33413 non-null  int64  \n",
      " 23   paredblolad      33413 non-null  int64  \n",
      " 24   paredzocalo      33413 non-null  int64  \n",
      " 25   paredpreb        33413 non-null  int64  \n",
      " 26   pareddes         33413 non-null  int64  \n",
      " 27   paredmad         33413 non-null  int64  \n",
      " 28   paredzinc        33413 non-null  int64  \n",
      " 29   paredfibras      33413 non-null  int64  \n",
      " 30   paredother       33413 non-null  int64  \n",
      " 31   pisomoscer       33413 non-null  int64  \n",
      " 32   pisocemento      33413 non-null  int64  \n",
      " 33   pisoother        33413 non-null  int64  \n",
      " 34   pisonatur        33413 non-null  int64  \n",
      " 35   pisonotiene      33413 non-null  int64  \n",
      " 36   pisomadera       33413 non-null  int64  \n",
      " 37   techozinc        33413 non-null  int64  \n",
      " 38   techoentrepiso   33413 non-null  int64  \n",
      " 39   techocane        33413 non-null  int64  \n",
      " 40   techootro        33413 non-null  int64  \n",
      " 41   cielorazo        33413 non-null  int64  \n",
      " 42   abastaguadentro  33413 non-null  int64  \n",
      " 43   abastaguafuera   33413 non-null  int64  \n",
      " 44   abastaguano      33413 non-null  int64  \n",
      " 45   public           33413 non-null  int64  \n",
      " 46   planpri          33413 non-null  int64  \n",
      " 47   noelec           33413 non-null  int64  \n",
      " 48   coopele          33413 non-null  int64  \n",
      " 49   sanitario1       33413 non-null  int64  \n",
      " 50   sanitario2       33413 non-null  int64  \n",
      " 51   sanitario3       33413 non-null  int64  \n",
      " 52   sanitario5       33413 non-null  int64  \n",
      " 53   sanitario6       33413 non-null  int64  \n",
      " 54   energcocinar1    33413 non-null  int64  \n",
      " 55   energcocinar2    33413 non-null  int64  \n",
      " 56   energcocinar3    33413 non-null  int64  \n",
      " 57   energcocinar4    33413 non-null  int64  \n",
      " 58   elimbasu1        33413 non-null  int64  \n",
      " 59   elimbasu2        33413 non-null  int64  \n",
      " 60   elimbasu3        33413 non-null  int64  \n",
      " 61   elimbasu4        33413 non-null  int64  \n",
      " 62   elimbasu5        33413 non-null  int64  \n",
      " 63   elimbasu6        33413 non-null  int64  \n",
      " 64   epared1          33413 non-null  int64  \n",
      " 65   epared2          33413 non-null  int64  \n",
      " 66   epared3          33413 non-null  int64  \n",
      " 67   etecho1          33413 non-null  int64  \n",
      " 68   etecho2          33413 non-null  int64  \n",
      " 69   etecho3          33413 non-null  int64  \n",
      " 70   eviv1            33413 non-null  int64  \n",
      " 71   eviv2            33413 non-null  int64  \n",
      " 72   eviv3            33413 non-null  int64  \n",
      " 73   dis              33413 non-null  int64  \n",
      " 74   male             33413 non-null  int64  \n",
      " 75   female           33413 non-null  int64  \n",
      " 76   estadocivil1     33413 non-null  int64  \n",
      " 77   estadocivil2     33413 non-null  int64  \n",
      " 78   estadocivil3     33413 non-null  int64  \n",
      " 79   estadocivil4     33413 non-null  int64  \n",
      " 80   estadocivil5     33413 non-null  int64  \n",
      " 81   estadocivil6     33413 non-null  int64  \n",
      " 82   estadocivil7     33413 non-null  int64  \n",
      " 83   parentesco1      33413 non-null  int64  \n",
      " 84   parentesco2      33413 non-null  int64  \n",
      " 85   parentesco3      33413 non-null  int64  \n",
      " 86   parentesco4      33413 non-null  int64  \n",
      " 87   parentesco5      33413 non-null  int64  \n",
      " 88   parentesco6      33413 non-null  int64  \n",
      " 89   parentesco7      33413 non-null  int64  \n",
      " 90   parentesco8      33413 non-null  int64  \n",
      " 91   parentesco9      33413 non-null  int64  \n",
      " 92   parentesco10     33413 non-null  int64  \n",
      " 93   parentesco11     33413 non-null  int64  \n",
      " 94   parentesco12     33413 non-null  int64  \n",
      " 95   idhogar          33413 non-null  object \n",
      " 96   hogar_nin        33413 non-null  int64  \n",
      " 97   hogar_adul       33413 non-null  int64  \n",
      " 98   hogar_mayor      33413 non-null  int64  \n",
      " 99   hogar_total      33413 non-null  int64  \n",
      " 100  dependency       33413 non-null  float64\n",
      " 101  edjefe           33413 non-null  int64  \n",
      " 102  edjefa           33413 non-null  int64  \n",
      " 103  meaneduc         33413 non-null  float64\n",
      " 104  instlevel1       33413 non-null  int64  \n",
      " 105  instlevel2       33413 non-null  int64  \n",
      " 106  instlevel3       33413 non-null  int64  \n",
      " 107  instlevel4       33413 non-null  int64  \n",
      " 108  instlevel5       33413 non-null  int64  \n",
      " 109  instlevel6       33413 non-null  int64  \n",
      " 110  instlevel7       33413 non-null  int64  \n",
      " 111  instlevel8       33413 non-null  int64  \n",
      " 112  instlevel9       33413 non-null  int64  \n",
      " 113  bedrooms         33413 non-null  int64  \n",
      " 114  overcrowding     33413 non-null  float64\n",
      " 115  tipovivi1        33413 non-null  int64  \n",
      " 116  tipovivi2        33413 non-null  int64  \n",
      " 117  tipovivi3        33413 non-null  int64  \n",
      " 118  tipovivi4        33413 non-null  int64  \n",
      " 119  tipovivi5        33413 non-null  int64  \n",
      " 120  computer         33413 non-null  int64  \n",
      " 121  television       33413 non-null  int64  \n",
      " 122  mobilephone      33413 non-null  int64  \n",
      " 123  qmobilephone     33413 non-null  int64  \n",
      " 124  lugar1           33413 non-null  int64  \n",
      " 125  lugar2           33413 non-null  int64  \n",
      " 126  lugar3           33413 non-null  int64  \n",
      " 127  lugar4           33413 non-null  int64  \n",
      " 128  lugar5           33413 non-null  int64  \n",
      " 129  lugar6           33413 non-null  int64  \n",
      " 130  area1            33413 non-null  int64  \n",
      " 131  area2            33413 non-null  int64  \n",
      " 132  age              33413 non-null  int64  \n",
      " 133  SQBescolari      33413 non-null  int64  \n",
      " 134  SQBage           33413 non-null  int64  \n",
      " 135  SQBhogar_total   33413 non-null  int64  \n",
      " 136  SQBedjefe        33413 non-null  int64  \n",
      " 137  SQBhogar_nin     33413 non-null  int64  \n",
      " 138  SQBovercrowding  33413 non-null  float64\n",
      " 139  SQBdependency    33413 non-null  float64\n",
      " 140  SQBmeaned        33413 non-null  float64\n",
      " 141  agesq            33413 non-null  int64  \n",
      " 142  Target           9557 non-null   float64\n",
      "dtypes: float64(10), int64(131), object(2)\n",
      "memory usage: 36.7+ MB\n"
     ]
    }
   ],
   "source": [
    "df_all.info(max_cols=145)"
   ]
  },
  {
   "cell_type": "code",
   "execution_count": 40,
   "metadata": {
    "execution": {
     "iopub.execute_input": "2021-03-29T15:21:52.270084Z",
     "iopub.status.busy": "2021-03-29T15:21:52.269431Z",
     "iopub.status.idle": "2021-03-29T15:21:52.300446Z",
     "shell.execute_reply": "2021-03-29T15:21:52.299748Z"
    },
    "papermill": {
     "duration": 0.120049,
     "end_time": "2021-03-29T15:21:52.300603",
     "exception": false,
     "start_time": "2021-03-29T15:21:52.180554",
     "status": "completed"
    },
    "tags": []
   },
   "outputs": [
    {
     "data": {
      "text/plain": [
       "lugar1  lugar2  lugar3  lugar4  lugar5  lugar6\n",
       "1       0       0       0       0       0         13242\n",
       "0       0       0       0       1       0          2693\n",
       "                        1       0       0          2289\n",
       "        1       0       0       0       0          2263\n",
       "        0       0       0       0       1          2005\n",
       "                1       0       0       0          1771\n",
       "dtype: int64"
      ]
     },
     "execution_count": 40,
     "metadata": {},
     "output_type": "execute_result"
    }
   ],
   "source": [
    "# vendo a dis†ribuição de lugares em que o valor do aluguel 'v2a1' é NA\n",
    "\n",
    "df_all[df_all['v2a1'].isnull()][['lugar1', 'lugar2', 'lugar3', 'lugar4', 'lugar5', 'lugar6']].value_counts()"
   ]
  },
  {
   "cell_type": "code",
   "execution_count": 41,
   "metadata": {
    "execution": {
     "iopub.execute_input": "2021-03-29T15:21:52.468336Z",
     "iopub.status.busy": "2021-03-29T15:21:52.467636Z",
     "iopub.status.idle": "2021-03-29T15:21:52.486122Z",
     "shell.execute_reply": "2021-03-29T15:21:52.485479Z"
    },
    "papermill": {
     "duration": 0.104671,
     "end_time": "2021-03-29T15:21:52.486309",
     "exception": false,
     "start_time": "2021-03-29T15:21:52.381638",
     "status": "completed"
    },
    "tags": []
   },
   "outputs": [
    {
     "data": {
      "text/plain": [
       "lugar1  lugar2  lugar3  lugar4  lugar5  lugar6\n",
       "1       0       0       0       0       0         6226\n",
       "0       0       0       0       0       1          611\n",
       "        1       0       0       0       0          597\n",
       "        0       0       0       1       0          581\n",
       "                1       0       0       0          569\n",
       "                0       1       0       0          566\n",
       "dtype: int64"
      ]
     },
     "execution_count": 41,
     "metadata": {},
     "output_type": "execute_result"
    }
   ],
   "source": [
    "# vendo a dis†ribuição de lugares em que o valor do aluguel 'v2a1' não é NA\n",
    "\n",
    "df_all[df_all['v2a1'].notnull()][['lugar1', 'lugar2', 'lugar3', 'lugar4', 'lugar5', 'lugar6']].value_counts()"
   ]
  },
  {
   "cell_type": "code",
   "execution_count": 42,
   "metadata": {
    "execution": {
     "iopub.execute_input": "2021-03-29T15:21:52.653477Z",
     "iopub.status.busy": "2021-03-29T15:21:52.652812Z",
     "iopub.status.idle": "2021-03-29T15:21:52.681392Z",
     "shell.execute_reply": "2021-03-29T15:21:52.681864Z"
    },
    "papermill": {
     "duration": 0.113509,
     "end_time": "2021-03-29T15:21:52.682044",
     "exception": false,
     "start_time": "2021-03-29T15:21:52.568535",
     "status": "completed"
    },
    "tags": []
   },
   "outputs": [
    {
     "data": {
      "text/html": [
       "<div>\n",
       "<style scoped>\n",
       "    .dataframe tbody tr th:only-of-type {\n",
       "        vertical-align: middle;\n",
       "    }\n",
       "\n",
       "    .dataframe tbody tr th {\n",
       "        vertical-align: top;\n",
       "    }\n",
       "\n",
       "    .dataframe thead th {\n",
       "        text-align: right;\n",
       "    }\n",
       "</style>\n",
       "<table border=\"1\" class=\"dataframe\">\n",
       "  <thead>\n",
       "    <tr style=\"text-align: right;\">\n",
       "      <th></th>\n",
       "      <th></th>\n",
       "      <th></th>\n",
       "      <th></th>\n",
       "      <th></th>\n",
       "      <th></th>\n",
       "      <th>v2a1</th>\n",
       "    </tr>\n",
       "    <tr>\n",
       "      <th>lugar1</th>\n",
       "      <th>lugar2</th>\n",
       "      <th>lugar3</th>\n",
       "      <th>lugar4</th>\n",
       "      <th>lugar5</th>\n",
       "      <th>lugar6</th>\n",
       "      <th></th>\n",
       "    </tr>\n",
       "  </thead>\n",
       "  <tbody>\n",
       "    <tr>\n",
       "      <th rowspan=\"5\" valign=\"top\">0</th>\n",
       "      <th rowspan=\"4\" valign=\"top\">0</th>\n",
       "      <th rowspan=\"3\" valign=\"top\">0</th>\n",
       "      <th rowspan=\"2\" valign=\"top\">0</th>\n",
       "      <th>0</th>\n",
       "      <th>1</th>\n",
       "      <td>70000.0</td>\n",
       "    </tr>\n",
       "    <tr>\n",
       "      <th>1</th>\n",
       "      <th>0</th>\n",
       "      <td>65000.0</td>\n",
       "    </tr>\n",
       "    <tr>\n",
       "      <th>1</th>\n",
       "      <th>0</th>\n",
       "      <th>0</th>\n",
       "      <td>80000.0</td>\n",
       "    </tr>\n",
       "    <tr>\n",
       "      <th>1</th>\n",
       "      <th>0</th>\n",
       "      <th>0</th>\n",
       "      <th>0</th>\n",
       "      <td>100000.0</td>\n",
       "    </tr>\n",
       "    <tr>\n",
       "      <th>1</th>\n",
       "      <th>0</th>\n",
       "      <th>0</th>\n",
       "      <th>0</th>\n",
       "      <th>0</th>\n",
       "      <td>100000.0</td>\n",
       "    </tr>\n",
       "    <tr>\n",
       "      <th>1</th>\n",
       "      <th>0</th>\n",
       "      <th>0</th>\n",
       "      <th>0</th>\n",
       "      <th>0</th>\n",
       "      <th>0</th>\n",
       "      <td>155000.0</td>\n",
       "    </tr>\n",
       "  </tbody>\n",
       "</table>\n",
       "</div>"
      ],
      "text/plain": [
       "                                               v2a1\n",
       "lugar1 lugar2 lugar3 lugar4 lugar5 lugar6          \n",
       "0      0      0      0      0      1        70000.0\n",
       "                            1      0        65000.0\n",
       "                     1      0      0        80000.0\n",
       "              1      0      0      0       100000.0\n",
       "       1      0      0      0      0       100000.0\n",
       "1      0      0      0      0      0       155000.0"
      ]
     },
     "execution_count": 42,
     "metadata": {},
     "output_type": "execute_result"
    }
   ],
   "source": [
    "# vendo a dis†ribuição de lugares em que o valor do aluguel 'v2a1' não é NA\n",
    "df_s =df_all[df_all['v2a1'].notnull()]\n",
    "\n",
    "df_s.groupby(['lugar1', 'lugar2', 'lugar3', 'lugar4', 'lugar5', 'lugar6'])[['v2a1']].median()"
   ]
  },
  {
   "cell_type": "code",
   "execution_count": 43,
   "metadata": {
    "execution": {
     "iopub.execute_input": "2021-03-29T15:21:52.850770Z",
     "iopub.status.busy": "2021-03-29T15:21:52.849750Z",
     "iopub.status.idle": "2021-03-29T15:21:52.869090Z",
     "shell.execute_reply": "2021-03-29T15:21:52.868527Z"
    },
    "papermill": {
     "duration": 0.104975,
     "end_time": "2021-03-29T15:21:52.869260",
     "exception": false,
     "start_time": "2021-03-29T15:21:52.764285",
     "status": "completed"
    },
    "tags": []
   },
   "outputs": [],
   "source": [
    "mask_lugar1 = (df_all['v2a1'].isnull()) & (df_all['lugar1'] == 1)\n",
    "mask_lugar2 = (df_all['v2a1'].isnull()) & (df_all['lugar2'] == 1)\n",
    "mask_lugar3 = (df_all['v2a1'].isnull()) & (df_all['lugar3'] == 1)\n",
    "mask_lugar4 = (df_all['v2a1'].isnull()) & (df_all['lugar4'] == 1)\n",
    "mask_lugar5 = (df_all['v2a1'].isnull()) & (df_all['lugar5'] == 1)\n",
    "mask_lugar6 = (df_all['v2a1'].isnull()) & (df_all['lugar6'] == 1)\n",
    "\n",
    "df_all.loc[mask_lugar1, 'v2a1'] = 155000.0\n",
    "df_all.loc[mask_lugar2, 'v2a1'] = 100000.0\n",
    "df_all.loc[mask_lugar3, 'v2a1'] = 100000.0\n",
    "df_all.loc[mask_lugar4, 'v2a1'] = 80000.0\n",
    "df_all.loc[mask_lugar5, 'v2a1'] = 65000.0\n",
    "df_all.loc[mask_lugar6, 'v2a1'] = 70000.0"
   ]
  },
  {
   "cell_type": "markdown",
   "metadata": {
    "papermill": {
     "duration": 0.08511,
     "end_time": "2021-03-29T15:21:53.037185",
     "exception": false,
     "start_time": "2021-03-29T15:21:52.952075",
     "status": "completed"
    },
    "tags": []
   },
   "source": [
    "* vou imputar com -1 os NAs de 'rez_esc' por nao conseguir calcular a partir dos dados q tenho"
   ]
  },
  {
   "cell_type": "code",
   "execution_count": 44,
   "metadata": {
    "execution": {
     "iopub.execute_input": "2021-03-29T15:21:53.209579Z",
     "iopub.status.busy": "2021-03-29T15:21:53.208764Z",
     "iopub.status.idle": "2021-03-29T15:21:53.212153Z",
     "shell.execute_reply": "2021-03-29T15:21:53.212717Z"
    },
    "papermill": {
     "duration": 0.092579,
     "end_time": "2021-03-29T15:21:53.212971",
     "exception": false,
     "start_time": "2021-03-29T15:21:53.120392",
     "status": "completed"
    },
    "tags": []
   },
   "outputs": [],
   "source": [
    "df_all['rez_esc'].fillna(-1, inplace=True)"
   ]
  },
  {
   "cell_type": "code",
   "execution_count": 45,
   "metadata": {
    "execution": {
     "iopub.execute_input": "2021-03-29T15:21:53.387042Z",
     "iopub.status.busy": "2021-03-29T15:21:53.386388Z",
     "iopub.status.idle": "2021-03-29T15:21:53.423643Z",
     "shell.execute_reply": "2021-03-29T15:21:53.424233Z"
    },
    "papermill": {
     "duration": 0.126313,
     "end_time": "2021-03-29T15:21:53.424509",
     "exception": false,
     "start_time": "2021-03-29T15:21:53.298196",
     "status": "completed"
    },
    "tags": []
   },
   "outputs": [
    {
     "name": "stdout",
     "output_type": "stream",
     "text": [
      "<class 'pandas.core.frame.DataFrame'>\n",
      "Int64Index: 33413 entries, 0 to 23855\n",
      "Data columns (total 143 columns):\n",
      " #    Column           Non-Null Count  Dtype  \n",
      "---   ------           --------------  -----  \n",
      " 0    Id               33413 non-null  object \n",
      " 1    v2a1             33413 non-null  float64\n",
      " 2    hacdor           33413 non-null  int64  \n",
      " 3    rooms            33413 non-null  int64  \n",
      " 4    hacapo           33413 non-null  int64  \n",
      " 5    v14a             33413 non-null  int64  \n",
      " 6    refrig           33413 non-null  int64  \n",
      " 7    v18q             33413 non-null  int64  \n",
      " 8    v18q1            33413 non-null  float64\n",
      " 9    r4h1             33413 non-null  int64  \n",
      " 10   r4h2             33413 non-null  int64  \n",
      " 11   r4h3             33413 non-null  int64  \n",
      " 12   r4m1             33413 non-null  int64  \n",
      " 13   r4m2             33413 non-null  int64  \n",
      " 14   r4m3             33413 non-null  int64  \n",
      " 15   r4t1             33413 non-null  int64  \n",
      " 16   r4t2             33413 non-null  int64  \n",
      " 17   r4t3             33413 non-null  int64  \n",
      " 18   tamhog           33413 non-null  int64  \n",
      " 19   tamviv           33413 non-null  int64  \n",
      " 20   escolari         33413 non-null  int64  \n",
      " 21   rez_esc          33413 non-null  float64\n",
      " 22   hhsize           33413 non-null  int64  \n",
      " 23   paredblolad      33413 non-null  int64  \n",
      " 24   paredzocalo      33413 non-null  int64  \n",
      " 25   paredpreb        33413 non-null  int64  \n",
      " 26   pareddes         33413 non-null  int64  \n",
      " 27   paredmad         33413 non-null  int64  \n",
      " 28   paredzinc        33413 non-null  int64  \n",
      " 29   paredfibras      33413 non-null  int64  \n",
      " 30   paredother       33413 non-null  int64  \n",
      " 31   pisomoscer       33413 non-null  int64  \n",
      " 32   pisocemento      33413 non-null  int64  \n",
      " 33   pisoother        33413 non-null  int64  \n",
      " 34   pisonatur        33413 non-null  int64  \n",
      " 35   pisonotiene      33413 non-null  int64  \n",
      " 36   pisomadera       33413 non-null  int64  \n",
      " 37   techozinc        33413 non-null  int64  \n",
      " 38   techoentrepiso   33413 non-null  int64  \n",
      " 39   techocane        33413 non-null  int64  \n",
      " 40   techootro        33413 non-null  int64  \n",
      " 41   cielorazo        33413 non-null  int64  \n",
      " 42   abastaguadentro  33413 non-null  int64  \n",
      " 43   abastaguafuera   33413 non-null  int64  \n",
      " 44   abastaguano      33413 non-null  int64  \n",
      " 45   public           33413 non-null  int64  \n",
      " 46   planpri          33413 non-null  int64  \n",
      " 47   noelec           33413 non-null  int64  \n",
      " 48   coopele          33413 non-null  int64  \n",
      " 49   sanitario1       33413 non-null  int64  \n",
      " 50   sanitario2       33413 non-null  int64  \n",
      " 51   sanitario3       33413 non-null  int64  \n",
      " 52   sanitario5       33413 non-null  int64  \n",
      " 53   sanitario6       33413 non-null  int64  \n",
      " 54   energcocinar1    33413 non-null  int64  \n",
      " 55   energcocinar2    33413 non-null  int64  \n",
      " 56   energcocinar3    33413 non-null  int64  \n",
      " 57   energcocinar4    33413 non-null  int64  \n",
      " 58   elimbasu1        33413 non-null  int64  \n",
      " 59   elimbasu2        33413 non-null  int64  \n",
      " 60   elimbasu3        33413 non-null  int64  \n",
      " 61   elimbasu4        33413 non-null  int64  \n",
      " 62   elimbasu5        33413 non-null  int64  \n",
      " 63   elimbasu6        33413 non-null  int64  \n",
      " 64   epared1          33413 non-null  int64  \n",
      " 65   epared2          33413 non-null  int64  \n",
      " 66   epared3          33413 non-null  int64  \n",
      " 67   etecho1          33413 non-null  int64  \n",
      " 68   etecho2          33413 non-null  int64  \n",
      " 69   etecho3          33413 non-null  int64  \n",
      " 70   eviv1            33413 non-null  int64  \n",
      " 71   eviv2            33413 non-null  int64  \n",
      " 72   eviv3            33413 non-null  int64  \n",
      " 73   dis              33413 non-null  int64  \n",
      " 74   male             33413 non-null  int64  \n",
      " 75   female           33413 non-null  int64  \n",
      " 76   estadocivil1     33413 non-null  int64  \n",
      " 77   estadocivil2     33413 non-null  int64  \n",
      " 78   estadocivil3     33413 non-null  int64  \n",
      " 79   estadocivil4     33413 non-null  int64  \n",
      " 80   estadocivil5     33413 non-null  int64  \n",
      " 81   estadocivil6     33413 non-null  int64  \n",
      " 82   estadocivil7     33413 non-null  int64  \n",
      " 83   parentesco1      33413 non-null  int64  \n",
      " 84   parentesco2      33413 non-null  int64  \n",
      " 85   parentesco3      33413 non-null  int64  \n",
      " 86   parentesco4      33413 non-null  int64  \n",
      " 87   parentesco5      33413 non-null  int64  \n",
      " 88   parentesco6      33413 non-null  int64  \n",
      " 89   parentesco7      33413 non-null  int64  \n",
      " 90   parentesco8      33413 non-null  int64  \n",
      " 91   parentesco9      33413 non-null  int64  \n",
      " 92   parentesco10     33413 non-null  int64  \n",
      " 93   parentesco11     33413 non-null  int64  \n",
      " 94   parentesco12     33413 non-null  int64  \n",
      " 95   idhogar          33413 non-null  object \n",
      " 96   hogar_nin        33413 non-null  int64  \n",
      " 97   hogar_adul       33413 non-null  int64  \n",
      " 98   hogar_mayor      33413 non-null  int64  \n",
      " 99   hogar_total      33413 non-null  int64  \n",
      " 100  dependency       33413 non-null  float64\n",
      " 101  edjefe           33413 non-null  int64  \n",
      " 102  edjefa           33413 non-null  int64  \n",
      " 103  meaneduc         33413 non-null  float64\n",
      " 104  instlevel1       33413 non-null  int64  \n",
      " 105  instlevel2       33413 non-null  int64  \n",
      " 106  instlevel3       33413 non-null  int64  \n",
      " 107  instlevel4       33413 non-null  int64  \n",
      " 108  instlevel5       33413 non-null  int64  \n",
      " 109  instlevel6       33413 non-null  int64  \n",
      " 110  instlevel7       33413 non-null  int64  \n",
      " 111  instlevel8       33413 non-null  int64  \n",
      " 112  instlevel9       33413 non-null  int64  \n",
      " 113  bedrooms         33413 non-null  int64  \n",
      " 114  overcrowding     33413 non-null  float64\n",
      " 115  tipovivi1        33413 non-null  int64  \n",
      " 116  tipovivi2        33413 non-null  int64  \n",
      " 117  tipovivi3        33413 non-null  int64  \n",
      " 118  tipovivi4        33413 non-null  int64  \n",
      " 119  tipovivi5        33413 non-null  int64  \n",
      " 120  computer         33413 non-null  int64  \n",
      " 121  television       33413 non-null  int64  \n",
      " 122  mobilephone      33413 non-null  int64  \n",
      " 123  qmobilephone     33413 non-null  int64  \n",
      " 124  lugar1           33413 non-null  int64  \n",
      " 125  lugar2           33413 non-null  int64  \n",
      " 126  lugar3           33413 non-null  int64  \n",
      " 127  lugar4           33413 non-null  int64  \n",
      " 128  lugar5           33413 non-null  int64  \n",
      " 129  lugar6           33413 non-null  int64  \n",
      " 130  area1            33413 non-null  int64  \n",
      " 131  area2            33413 non-null  int64  \n",
      " 132  age              33413 non-null  int64  \n",
      " 133  SQBescolari      33413 non-null  int64  \n",
      " 134  SQBage           33413 non-null  int64  \n",
      " 135  SQBhogar_total   33413 non-null  int64  \n",
      " 136  SQBedjefe        33413 non-null  int64  \n",
      " 137  SQBhogar_nin     33413 non-null  int64  \n",
      " 138  SQBovercrowding  33413 non-null  float64\n",
      " 139  SQBdependency    33413 non-null  float64\n",
      " 140  SQBmeaned        33413 non-null  float64\n",
      " 141  agesq            33413 non-null  int64  \n",
      " 142  Target           9557 non-null   float64\n",
      "dtypes: float64(10), int64(131), object(2)\n",
      "memory usage: 36.7+ MB\n"
     ]
    }
   ],
   "source": [
    "df_all.info(max_cols=145)"
   ]
  },
  {
   "cell_type": "markdown",
   "metadata": {
    "papermill": {
     "duration": 0.083477,
     "end_time": "2021-03-29T15:21:53.591629",
     "exception": false,
     "start_time": "2021-03-29T15:21:53.508152",
     "status": "completed"
    },
    "tags": []
   },
   "source": [
    "## Análise de Dados"
   ]
  },
  {
   "cell_type": "code",
   "execution_count": 46,
   "metadata": {
    "execution": {
     "iopub.execute_input": "2021-03-29T15:21:53.764170Z",
     "iopub.status.busy": "2021-03-29T15:21:53.763520Z",
     "iopub.status.idle": "2021-03-29T15:21:54.712431Z",
     "shell.execute_reply": "2021-03-29T15:21:54.711729Z"
    },
    "papermill": {
     "duration": 1.037102,
     "end_time": "2021-03-29T15:21:54.712655",
     "exception": false,
     "start_time": "2021-03-29T15:21:53.675553",
     "status": "completed"
    },
    "tags": []
   },
   "outputs": [],
   "source": [
    "import matplotlib.pyplot as plt\n",
    "import seaborn as sns\n",
    "%matplotlib inline \n",
    "sns.set_palette('RdBu')"
   ]
  },
  {
   "cell_type": "markdown",
   "metadata": {
    "papermill": {
     "duration": 0.083035,
     "end_time": "2021-03-29T15:21:54.879266",
     "exception": false,
     "start_time": "2021-03-29T15:21:54.796231",
     "status": "completed"
    },
    "tags": []
   },
   "source": [
    "### classes do dataset\n"
   ]
  },
  {
   "cell_type": "code",
   "execution_count": 47,
   "metadata": {
    "execution": {
     "iopub.execute_input": "2021-03-29T15:21:55.061890Z",
     "iopub.status.busy": "2021-03-29T15:21:55.061190Z",
     "iopub.status.idle": "2021-03-29T15:21:55.321617Z",
     "shell.execute_reply": "2021-03-29T15:21:55.320922Z"
    },
    "papermill": {
     "duration": 0.359931,
     "end_time": "2021-03-29T15:21:55.321767",
     "exception": false,
     "start_time": "2021-03-29T15:21:54.961836",
     "status": "completed"
    },
    "tags": []
   },
   "outputs": [
    {
     "data": {
      "image/png": "[encoded data removed]",
      "text/plain": [
       "<Figure size 432x288 with 1 Axes>"
      ]
     },
     "metadata": {
      "needs_background": "light"
     },
     "output_type": "display_data"
    }
   ],
   "source": [
    "target= sns.countplot(x='Target',data=df_all)\n",
    "\n",
    "target.set_title('Contagem de Classes da variável Target')\n",
    "plt.xticks(np.arange(4), ['Extreme Poverty', 'Moderate Poverty', 'Vulnerable Household', 'Non-Vulnerable Household'], rotation=90)\n",
    "plt.show()"
   ]
  },
  {
   "cell_type": "markdown",
   "metadata": {
    "papermill": {
     "duration": 0.086323,
     "end_time": "2021-03-29T15:21:55.492804",
     "exception": false,
     "start_time": "2021-03-29T15:21:55.406481",
     "status": "completed"
    },
    "tags": []
   },
   "source": [
    "### sobre as pessoas do dataset"
   ]
  },
  {
   "cell_type": "code",
   "execution_count": 48,
   "metadata": {
    "execution": {
     "iopub.execute_input": "2021-03-29T15:21:55.666860Z",
     "iopub.status.busy": "2021-03-29T15:21:55.666094Z",
     "iopub.status.idle": "2021-03-29T15:21:55.797678Z",
     "shell.execute_reply": "2021-03-29T15:21:55.797092Z"
    },
    "papermill": {
     "duration": 0.22084,
     "end_time": "2021-03-29T15:21:55.797825",
     "exception": false,
     "start_time": "2021-03-29T15:21:55.576985",
     "status": "completed"
    },
    "tags": []
   },
   "outputs": [
    {
     "data": {
      "image/png": "[encoded data removed]",
      "text/plain": [
       "<Figure size 432x288 with 1 Axes>"
      ]
     },
     "metadata": {
      "needs_background": "light"
     },
     "output_type": "display_data"
    }
   ],
   "source": [
    "sex= sns.countplot(x='male',data=df_all)\n",
    "sex.set_title('Sexo')\n",
    "plt.xticks(np.arange(2), ['Feminino', 'Masculino'])\n",
    "plt.show()"
   ]
  },
  {
   "cell_type": "code",
   "execution_count": 49,
   "metadata": {
    "execution": {
     "iopub.execute_input": "2021-03-29T15:21:55.977213Z",
     "iopub.status.busy": "2021-03-29T15:21:55.976473Z",
     "iopub.status.idle": "2021-03-29T15:21:56.096420Z",
     "shell.execute_reply": "2021-03-29T15:21:56.095893Z"
    },
    "papermill": {
     "duration": 0.211641,
     "end_time": "2021-03-29T15:21:56.096568",
     "exception": false,
     "start_time": "2021-03-29T15:21:55.884927",
     "status": "completed"
    },
    "tags": []
   },
   "outputs": [
    {
     "data": {
      "image/png": "[encoded data removed]",
      "text/plain": [
       "<Figure size 432x288 with 1 Axes>"
      ]
     },
     "metadata": {
      "needs_background": "light"
     },
     "output_type": "display_data"
    }
   ],
   "source": [
    "sex= sns.countplot(x='dis',data=df_all, order=[1,0])\n",
    "sex.set_title('Pessoa com Deficiência')\n",
    "plt.xticks(np.arange(2), [ 'Sim', 'Não'])\n",
    "plt.show()"
   ]
  },
  {
   "cell_type": "code",
   "execution_count": 50,
   "metadata": {
    "execution": {
     "iopub.execute_input": "2021-03-29T15:21:56.276017Z",
     "iopub.status.busy": "2021-03-29T15:21:56.275370Z",
     "iopub.status.idle": "2021-03-29T15:21:56.477322Z",
     "shell.execute_reply": "2021-03-29T15:21:56.477882Z"
    },
    "papermill": {
     "duration": 0.295725,
     "end_time": "2021-03-29T15:21:56.478058",
     "exception": false,
     "start_time": "2021-03-29T15:21:56.182333",
     "status": "completed"
    },
    "tags": []
   },
   "outputs": [
    {
     "data": {
      "image/png": "[encoded data removed]",
      "text/plain": [
       "<Figure size 432x288 with 1 Axes>"
      ]
     },
     "metadata": {
      "needs_background": "light"
     },
     "output_type": "display_data"
    }
   ],
   "source": [
    "age=sns.histplot(df_all, x=\"age\", bins=30 )\n",
    "age.set_title('Distribuição das idades no dataset')\n",
    "plt.show()"
   ]
  },
  {
   "cell_type": "code",
   "execution_count": 51,
   "metadata": {
    "execution": {
     "iopub.execute_input": "2021-03-29T15:21:56.657386Z",
     "iopub.status.busy": "2021-03-29T15:21:56.656515Z",
     "iopub.status.idle": "2021-03-29T15:21:57.018508Z",
     "shell.execute_reply": "2021-03-29T15:21:57.018971Z"
    },
    "papermill": {
     "duration": 0.453947,
     "end_time": "2021-03-29T15:21:57.019154",
     "exception": false,
     "start_time": "2021-03-29T15:21:56.565207",
     "status": "completed"
    },
    "tags": []
   },
   "outputs": [
    {
     "data": {
      "image/png": "[encoded data removed]",
      "text/plain": [
       "<Figure size 432x288 with 1 Axes>"
      ]
     },
     "metadata": {
      "needs_background": "light"
     },
     "output_type": "display_data"
    }
   ],
   "source": [
    "ph=sns.countplot(x='hogar_total', hue='Target',data=df_all)\n",
    "ph.set_title('Contagem de pessoas em casa por classes')\n",
    "labels= ['Extreme Poverty', 'Moderate Poverty', 'Vulnerable Household', 'Non-Vulnerable Household']\n",
    "\n",
    "plt.legend(loc='upper left', labels=labels)\n",
    "plt.show()\n"
   ]
  },
  {
   "cell_type": "code",
   "execution_count": 52,
   "metadata": {
    "execution": {
     "iopub.execute_input": "2021-03-29T15:21:57.199554Z",
     "iopub.status.busy": "2021-03-29T15:21:57.198915Z",
     "iopub.status.idle": "2021-03-29T15:21:57.497315Z",
     "shell.execute_reply": "2021-03-29T15:21:57.496786Z"
    },
    "papermill": {
     "duration": 0.388646,
     "end_time": "2021-03-29T15:21:57.497468",
     "exception": false,
     "start_time": "2021-03-29T15:21:57.108822",
     "status": "completed"
    },
    "tags": []
   },
   "outputs": [
    {
     "data": {
      "image/png": "[encoded data removed]",
      "text/plain": [
       "<Figure size 432x288 with 1 Axes>"
      ]
     },
     "metadata": {
      "needs_background": "light"
     },
     "output_type": "display_data"
    }
   ],
   "source": [
    "ph=sns.countplot(x='hogar_adul', hue='Target',data=df_all)\n",
    "ph.set_title('Contagem de pessoas adultas(+19) em casa por classes')\n",
    "labels= ['Extreme Poverty', 'Moderate Poverty', 'Vulnerable Household', 'Non-Vulnerable Household']\n",
    "\n",
    "plt.legend(loc='upper left', labels=labels)\n",
    "plt.show()\n"
   ]
  },
  {
   "cell_type": "code",
   "execution_count": 53,
   "metadata": {
    "execution": {
     "iopub.execute_input": "2021-03-29T15:21:57.682596Z",
     "iopub.status.busy": "2021-03-29T15:21:57.681591Z",
     "iopub.status.idle": "2021-03-29T15:21:57.992786Z",
     "shell.execute_reply": "2021-03-29T15:21:57.992087Z"
    },
    "papermill": {
     "duration": 0.406398,
     "end_time": "2021-03-29T15:21:57.992934",
     "exception": false,
     "start_time": "2021-03-29T15:21:57.586536",
     "status": "completed"
    },
    "tags": []
   },
   "outputs": [
    {
     "data": {
      "image/png": "[encoded data removed]",
      "text/plain": [
       "<Figure size 432x288 with 1 Axes>"
      ]
     },
     "metadata": {
      "needs_background": "light"
     },
     "output_type": "display_data"
    }
   ],
   "source": [
    "ph=sns.countplot(x='hogar_nin', hue='Target',data=df_all)\n",
    "ph.set_title('Contagem de pessoas entre 0-19 anos em casa por classes')\n",
    "labels= ['Extreme Poverty', 'Moderate Poverty', 'Vulnerable Household', 'Non-Vulnerable Household']\n",
    "\n",
    "plt.legend(loc='upper left', labels=labels)\n",
    "plt.show()\n"
   ]
  },
  {
   "cell_type": "code",
   "execution_count": 54,
   "metadata": {
    "execution": {
     "iopub.execute_input": "2021-03-29T15:21:58.209144Z",
     "iopub.status.busy": "2021-03-29T15:21:58.205687Z",
     "iopub.status.idle": "2021-03-29T15:21:58.446500Z",
     "shell.execute_reply": "2021-03-29T15:21:58.445832Z"
    },
    "papermill": {
     "duration": 0.343227,
     "end_time": "2021-03-29T15:21:58.446694",
     "exception": false,
     "start_time": "2021-03-29T15:21:58.103467",
     "status": "completed"
    },
    "tags": []
   },
   "outputs": [
    {
     "data": {
      "image/png": "[encoded data removed]",
      "text/plain": [
       "<Figure size 432x288 with 1 Axes>"
      ]
     },
     "metadata": {
      "needs_background": "light"
     },
     "output_type": "display_data"
    }
   ],
   "source": [
    "ph=sns.countplot(x='hogar_mayor', hue='Target',data=df_all)\n",
    "ph.set_title('Contagem de pessoas idosos(+65) em casa por classes')\n",
    "labels= ['Extreme Poverty', 'Moderate Poverty', 'Vulnerable Household', 'Non-Vulnerable Household']\n",
    "\n",
    "plt.legend(loc='upper left', labels=labels)\n",
    "plt.show()"
   ]
  },
  {
   "cell_type": "code",
   "execution_count": 55,
   "metadata": {
    "execution": {
     "iopub.execute_input": "2021-03-29T15:21:58.643001Z",
     "iopub.status.busy": "2021-03-29T15:21:58.641952Z",
     "iopub.status.idle": "2021-03-29T15:21:59.635815Z",
     "shell.execute_reply": "2021-03-29T15:21:59.635262Z"
    },
    "papermill": {
     "duration": 1.095659,
     "end_time": "2021-03-29T15:21:59.635971",
     "exception": false,
     "start_time": "2021-03-29T15:21:58.540312",
     "status": "completed"
    },
    "tags": []
   },
   "outputs": [
    {
     "data": {
      "image/png": "[encoded data removed]",
      "text/plain": [
       "<Figure size 432x288 with 1 Axes>"
      ]
     },
     "metadata": {
      "needs_background": "light"
     },
     "output_type": "display_data"
    },
    {
     "data": {
      "image/png": "[encoded data removed]",
      "text/plain": [
       "<Figure size 432x288 with 1 Axes>"
      ]
     },
     "metadata": {
      "needs_background": "light"
     },
     "output_type": "display_data"
    },
    {
     "data": {
      "image/png": "[encoded data removed]",
      "text/plain": [
       "<Figure size 432x288 with 1 Axes>"
      ]
     },
     "metadata": {
      "needs_background": "light"
     },
     "output_type": "display_data"
    },
    {
     "data": {
      "image/png": "[encoded data removed]",
      "text/plain": [
       "<Figure size 432x288 with 1 Axes>"
      ]
     },
     "metadata": {
      "needs_background": "light"
     },
     "output_type": "display_data"
    }
   ],
   "source": [
    "\n",
    "hep=sns.histplot(df_all[df_all['Target'] == 1], x=\"escolari\", bins=30 )\n",
    "hep.set_title('Anos de Escolaridade quando é Extrema Pobreza')\n",
    "plt.show()\n",
    "\n",
    "hp=sns.histplot(df_all[df_all['Target'] == 2], x=\"escolari\", bins=30 )\n",
    "hp.set_title('Anos de Escolaridade quando é Pobreza Moderada')\n",
    "plt.show()\n",
    "\n",
    "hcv=sns.histplot(df_all[df_all['Target'] == 3], x=\"escolari\", bins=30 )\n",
    "hcv.set_title('Anos de Escolaridade quando é Família Vulnerável')\n",
    "plt.show()\n",
    "\n",
    "hcnv=sns.histplot(df_all[df_all['Target'] == 4], x=\"escolari\", bins=30 )\n",
    "hcnv.set_title('Anos de Escolaridade quando é Família Não Vulnerável')\n",
    "plt.show()"
   ]
  },
  {
   "cell_type": "code",
   "execution_count": 56,
   "metadata": {
    "execution": {
     "iopub.execute_input": "2021-03-29T15:21:59.830669Z",
     "iopub.status.busy": "2021-03-29T15:21:59.829902Z",
     "iopub.status.idle": "2021-03-29T15:22:00.034117Z",
     "shell.execute_reply": "2021-03-29T15:22:00.033560Z"
    },
    "papermill": {
     "duration": 0.304806,
     "end_time": "2021-03-29T15:22:00.034302",
     "exception": false,
     "start_time": "2021-03-29T15:21:59.729496",
     "status": "completed"
    },
    "tags": []
   },
   "outputs": [
    {
     "data": {
      "image/png": "[encoded data removed]",
      "text/plain": [
       "<Figure size 432x288 with 1 Axes>"
      ]
     },
     "metadata": {
      "needs_background": "light"
     },
     "output_type": "display_data"
    }
   ],
   "source": [
    "tablet=sns.countplot(x=\"Target\",hue=\"v18q\",hue_order=[1,0], data=df_all)\n",
    "tablet.set_title('Tem Tablet ou Não?')\n",
    "plt.xticks(np.arange(4), ['Extreme Poverty', 'Moderate Poverty', 'Vulnerable Household', 'Non-Vulnerable Household'], rotation=90)\n",
    "\n",
    "#legenda\n",
    "plt.legend(title='Tablet', loc='upper left', labels=['Sim', 'Não'])\n",
    "plt.show()"
   ]
  },
  {
   "cell_type": "code",
   "execution_count": 57,
   "metadata": {
    "execution": {
     "iopub.execute_input": "2021-03-29T15:22:00.234001Z",
     "iopub.status.busy": "2021-03-29T15:22:00.233344Z",
     "iopub.status.idle": "2021-03-29T15:22:00.418841Z",
     "shell.execute_reply": "2021-03-29T15:22:00.417993Z"
    },
    "papermill": {
     "duration": 0.287452,
     "end_time": "2021-03-29T15:22:00.419024",
     "exception": false,
     "start_time": "2021-03-29T15:22:00.131572",
     "status": "completed"
    },
    "tags": []
   },
   "outputs": [
    {
     "data": {
      "image/png": "[encoded data removed]",
      "text/plain": [
       "<Figure size 432x288 with 1 Axes>"
      ]
     },
     "metadata": {
      "needs_background": "light"
     },
     "output_type": "display_data"
    }
   ],
   "source": [
    "cel=sns.countplot(x=\"Target\",hue=\"mobilephone\",hue_order=[1,0], data=df_all)\n",
    "cel.set_title('Tem Celular ou Não?')\n",
    "plt.xticks(np.arange(4), ['Extreme Poverty', 'Moderate Poverty', 'Vulnerable Household', 'Non-Vulnerable Household'], rotation=90)\n",
    "\n",
    "#legenda\n",
    "plt.legend(title='Celular', loc='upper left', labels=['Sim', 'Não'])\n",
    "plt.show()"
   ]
  },
  {
   "cell_type": "markdown",
   "metadata": {
    "papermill": {
     "duration": 0.096322,
     "end_time": "2021-03-29T15:22:00.611382",
     "exception": false,
     "start_time": "2021-03-29T15:22:00.515060",
     "status": "completed"
    },
    "tags": []
   },
   "source": [
    "### sobre localização das casas"
   ]
  },
  {
   "cell_type": "code",
   "execution_count": 58,
   "metadata": {
    "execution": {
     "iopub.execute_input": "2021-03-29T15:22:00.813204Z",
     "iopub.status.busy": "2021-03-29T15:22:00.812194Z",
     "iopub.status.idle": "2021-03-29T15:22:00.929599Z",
     "shell.execute_reply": "2021-03-29T15:22:00.929012Z"
    },
    "papermill": {
     "duration": 0.221267,
     "end_time": "2021-03-29T15:22:00.929754",
     "exception": false,
     "start_time": "2021-03-29T15:22:00.708487",
     "status": "completed"
    },
    "tags": []
   },
   "outputs": [
    {
     "data": {
      "image/png": "[encoded data removed]",
      "text/plain": [
       "<Figure size 432x288 with 1 Axes>"
      ]
     },
     "metadata": {
      "needs_background": "light"
     },
     "output_type": "display_data"
    }
   ],
   "source": [
    "area= sns.countplot(x='area1',data=df_all)\n",
    "area.set_title('Zona da casa')\n",
    "plt.xticks(np.arange(2), [ 'Zona Rural', 'Zona Urbana'])\n",
    "plt.show()"
   ]
  },
  {
   "cell_type": "code",
   "execution_count": 59,
   "metadata": {
    "execution": {
     "iopub.execute_input": "2021-03-29T15:22:01.144210Z",
     "iopub.status.busy": "2021-03-29T15:22:01.143530Z",
     "iopub.status.idle": "2021-03-29T15:22:02.171747Z",
     "shell.execute_reply": "2021-03-29T15:22:02.172331Z"
    },
    "papermill": {
     "duration": 1.142776,
     "end_time": "2021-03-29T15:22:02.172524",
     "exception": false,
     "start_time": "2021-03-29T15:22:01.029748",
     "status": "completed"
    },
    "tags": []
   },
   "outputs": [
    {
     "data": {
      "image/png": "[encoded data removed]",
      "text/plain": [
       "<Figure size 432x288 with 1 Axes>"
      ]
     },
     "metadata": {
      "needs_background": "light"
     },
     "output_type": "display_data"
    },
    {
     "data": {
      "image/png": "[encoded data removed]",
      "text/plain": [
       "<Figure size 432x288 with 1 Axes>"
      ]
     },
     "metadata": {
      "needs_background": "light"
     },
     "output_type": "display_data"
    },
    {
     "data": {
      "image/png": "[encoded data removed]",
      "text/plain": [
       "<Figure size 432x288 with 1 Axes>"
      ]
     },
     "metadata": {
      "needs_background": "light"
     },
     "output_type": "display_data"
    },
    {
     "data": {
      "image/png": "[encoded data removed]",
      "text/plain": [
       "<Figure size 432x288 with 1 Axes>"
      ]
     },
     "metadata": {
      "needs_background": "light"
     },
     "output_type": "display_data"
    },
    {
     "data": {
      "image/png": "[encoded data removed]",
      "text/plain": [
       "<Figure size 432x288 with 1 Axes>"
      ]
     },
     "metadata": {
      "needs_background": "light"
     },
     "output_type": "display_data"
    },
    {
     "data": {
      "image/png": "[encoded data removed]",
      "text/plain": [
       "<Figure size 432x288 with 1 Axes>"
      ]
     },
     "metadata": {
      "needs_background": "light"
     },
     "output_type": "display_data"
    }
   ],
   "source": [
    "target= sns.countplot(x='lugar1', hue='Target',data=df_all[df_all['lugar1']==1])\n",
    "\n",
    "target.set_title('Classes da variável Target por região')\n",
    "plt.xticks(np.arange(1), ['Região Central'])\n",
    "labels= ['Extreme Poverty', 'Moderate Poverty', 'Vulnerable Household', 'Non-Vulnerable Household']\n",
    "\n",
    "plt.legend(loc='upper left', labels=labels)\n",
    "plt.show()\n",
    "\n",
    "#lugar2\n",
    "\n",
    "target= sns.countplot(x='lugar2', hue='Target',data=df_all[df_all['lugar2']==1])\n",
    "\n",
    "target.set_title('Classes da variável Target por região')\n",
    "plt.xticks(np.arange(1), ['Região Chorotega'])\n",
    "labels= ['Extreme Poverty', 'Moderate Poverty', 'Vulnerable Household', 'Non-Vulnerable Household']\n",
    "\n",
    "plt.legend(loc='upper left', labels=labels)\n",
    "plt.show()\n",
    "\n",
    "# lugar3\n",
    "\n",
    "target= sns.countplot(x='lugar3', hue='Target',data=df_all[df_all['lugar3']==1])\n",
    "\n",
    "target.set_title('Classes da variável Target por região')\n",
    "plt.xticks(np.arange(1), ['Região Pacífico Central'])\n",
    "labels= ['Extreme Poverty', 'Moderate Poverty', 'Vulnerable Household', 'Non-Vulnerable Household']\n",
    "\n",
    "plt.legend(loc='upper left', labels=labels)\n",
    "plt.show()\n",
    "\n",
    "#lugar4\n",
    "\n",
    "target= sns.countplot(x='lugar4', hue='Target',data=df_all[df_all['lugar4']==1])\n",
    "\n",
    "target.set_title('Classes da variável Target por região')\n",
    "plt.xticks(np.arange(1), ['Região Brunca'])\n",
    "labels= ['Extreme Poverty', 'Moderate Poverty', 'Vulnerable Household', 'Non-Vulnerable Household']\n",
    "\n",
    "plt.legend(loc='upper left', labels=labels)\n",
    "plt.show()\n",
    "\n",
    "#lugar5\n",
    "\n",
    "target= sns.countplot(x='lugar5', hue='Target',data=df_all[df_all['lugar5']==1])\n",
    "\n",
    "target.set_title('Classes da variável Target por região')\n",
    "plt.xticks(np.arange(1), ['Região Huetar Atlântica'])\n",
    "labels= ['Extreme Poverty', 'Moderate Poverty', 'Vulnerable Household', 'Non-Vulnerable Household']\n",
    "\n",
    "plt.legend(loc='upper left', labels=labels)\n",
    "plt.show()\n",
    "\n",
    "#lugar6\n",
    "\n",
    "target= sns.countplot(x='lugar6', hue='Target',data=df_all[df_all['lugar6']==1])\n",
    "\n",
    "target.set_title('Classes da variável Target por região')\n",
    "plt.xticks(np.arange(1), ['Região Huetar Norte'])\n",
    "labels= ['Extreme Poverty', 'Moderate Poverty', 'Vulnerable Household', 'Non-Vulnerable Household']\n",
    "\n",
    "plt.legend(loc='upper left', labels=labels)\n",
    "plt.show()"
   ]
  },
  {
   "cell_type": "markdown",
   "metadata": {
    "papermill": {
     "duration": 0.104135,
     "end_time": "2021-03-29T15:22:02.380539",
     "exception": false,
     "start_time": "2021-03-29T15:22:02.276404",
     "status": "completed"
    },
    "tags": []
   },
   "source": [
    "### sobre as casas"
   ]
  },
  {
   "cell_type": "code",
   "execution_count": 60,
   "metadata": {
    "execution": {
     "iopub.execute_input": "2021-03-29T15:22:02.592366Z",
     "iopub.status.busy": "2021-03-29T15:22:02.591685Z",
     "iopub.status.idle": "2021-03-29T15:22:02.778650Z",
     "shell.execute_reply": "2021-03-29T15:22:02.779154Z"
    },
    "papermill": {
     "duration": 0.294454,
     "end_time": "2021-03-29T15:22:02.779434",
     "exception": false,
     "start_time": "2021-03-29T15:22:02.484980",
     "status": "completed"
    },
    "tags": []
   },
   "outputs": [
    {
     "data": {
      "image/png": "[encoded data removed]",
      "text/plain": [
       "<Figure size 432x288 with 1 Axes>"
      ]
     },
     "metadata": {
      "needs_background": "light"
     },
     "output_type": "display_data"
    }
   ],
   "source": [
    "ref=sns.countplot(x=\"Target\",hue=\"refrig\",hue_order=[1,0], data=df_all)\n",
    "ref.set_title('Tem Geladeira ou Não?')\n",
    "plt.xticks(np.arange(4), ['Extreme Poverty', 'Moderate Poverty', 'Vulnerable Household', 'Non-Vulnerable Household'], rotation=90)\n",
    "\n",
    "#legenda\n",
    "plt.legend(title='Geladeira', loc='upper left', labels=['Sim', 'Não'])\n",
    "plt.show()"
   ]
  },
  {
   "cell_type": "code",
   "execution_count": 61,
   "metadata": {
    "execution": {
     "iopub.execute_input": "2021-03-29T15:22:02.992491Z",
     "iopub.status.busy": "2021-03-29T15:22:02.991661Z",
     "iopub.status.idle": "2021-03-29T15:22:03.187833Z",
     "shell.execute_reply": "2021-03-29T15:22:03.188353Z"
    },
    "papermill": {
     "duration": 0.303954,
     "end_time": "2021-03-29T15:22:03.188527",
     "exception": false,
     "start_time": "2021-03-29T15:22:02.884573",
     "status": "completed"
    },
    "tags": []
   },
   "outputs": [
    {
     "data": {
      "image/png": "[encoded data removed]",
      "text/plain": [
       "<Figure size 432x288 with 1 Axes>"
      ]
     },
     "metadata": {
      "needs_background": "light"
     },
     "output_type": "display_data"
    }
   ],
   "source": [
    "ref=sns.countplot(x=\"Target\",hue=\"v14a\",hue_order=[1,0], data=df_all)\n",
    "ref.set_title('Tem Sanitário na casa ou Não?')\n",
    "plt.xticks(np.arange(4), ['Extreme Poverty', 'Moderate Poverty', 'Vulnerable Household', 'Non-Vulnerable Household'], rotation=90)\n",
    "\n",
    "#legenda\n",
    "plt.legend(title='Sanitário', loc='upper left', labels=['Sim', 'Não'])\n",
    "plt.show()"
   ]
  },
  {
   "cell_type": "code",
   "execution_count": 62,
   "metadata": {
    "execution": {
     "iopub.execute_input": "2021-03-29T15:22:03.406722Z",
     "iopub.status.busy": "2021-03-29T15:22:03.405647Z",
     "iopub.status.idle": "2021-03-29T15:22:03.603592Z",
     "shell.execute_reply": "2021-03-29T15:22:03.602899Z"
    },
    "papermill": {
     "duration": 0.308695,
     "end_time": "2021-03-29T15:22:03.603745",
     "exception": false,
     "start_time": "2021-03-29T15:22:03.295050",
     "status": "completed"
    },
    "tags": []
   },
   "outputs": [
    {
     "data": {
      "image/png": "[encoded data removed]",
      "text/plain": [
       "<Figure size 432x288 with 1 Axes>"
      ]
     },
     "metadata": {
      "needs_background": "light"
     },
     "output_type": "display_data"
    }
   ],
   "source": [
    "cama=sns.countplot(x=\"Target\",hue=\"hacdor\",hue_order=[1,0], data=df_all)\n",
    "cama.set_title('Tem superlotação de camas ou Não?')\n",
    "plt.xticks(np.arange(4), ['Extreme Poverty', 'Moderate Poverty', 'Vulnerable Household', 'Non-Vulnerable Household'], rotation=90)\n",
    "\n",
    "#legenda\n",
    "plt.legend(title='Superlotação', loc='upper left', labels=['Sim', 'Não'])\n",
    "plt.show()"
   ]
  },
  {
   "cell_type": "code",
   "execution_count": 63,
   "metadata": {
    "execution": {
     "iopub.execute_input": "2021-03-29T15:22:03.826225Z",
     "iopub.status.busy": "2021-03-29T15:22:03.825537Z",
     "iopub.status.idle": "2021-03-29T15:22:04.133699Z",
     "shell.execute_reply": "2021-03-29T15:22:04.134323Z"
    },
    "papermill": {
     "duration": 0.425157,
     "end_time": "2021-03-29T15:22:04.134517",
     "exception": false,
     "start_time": "2021-03-29T15:22:03.709360",
     "status": "completed"
    },
    "tags": []
   },
   "outputs": [
    {
     "data": {
      "image/png": "[encoded data removed]",
      "text/plain": [
       "<Figure size 432x288 with 1 Axes>"
      ]
     },
     "metadata": {
      "needs_background": "light"
     },
     "output_type": "display_data"
    }
   ],
   "source": [
    "quartos=sns.countplot(x=\"Target\",hue=\"hacapo\",hue_order=[1,0], data=df_all)\n",
    "quartos.set_title('Tem superlotação de quartos ou Não?')\n",
    "plt.xticks(np.arange(4), ['Extreme Poverty', 'Moderate Poverty', 'Vulnerable Household', 'Non-Vulnerable Household'], rotation=90)\n",
    "\n",
    "#legenda\n",
    "plt.legend(title='Superlotação', loc='upper left', labels=['Sim', 'Não'])\n",
    "plt.show()"
   ]
  },
  {
   "cell_type": "code",
   "execution_count": 64,
   "metadata": {
    "execution": {
     "iopub.execute_input": "2021-03-29T15:22:04.354593Z",
     "iopub.status.busy": "2021-03-29T15:22:04.353902Z",
     "iopub.status.idle": "2021-03-29T15:22:04.541859Z",
     "shell.execute_reply": "2021-03-29T15:22:04.542415Z"
    },
    "papermill": {
     "duration": 0.301133,
     "end_time": "2021-03-29T15:22:04.542598",
     "exception": false,
     "start_time": "2021-03-29T15:22:04.241465",
     "status": "completed"
    },
    "tags": []
   },
   "outputs": [
    {
     "data": {
      "image/png": "[encoded data removed]",
      "text/plain": [
       "<Figure size 432x288 with 1 Axes>"
      ]
     },
     "metadata": {
      "needs_background": "light"
     },
     "output_type": "display_data"
    }
   ],
   "source": [
    "comp=sns.countplot(x=\"Target\",hue=\"computer\",hue_order=[1,0], data=df_all)\n",
    "comp.set_title('Tem computador ou Não?')\n",
    "plt.xticks(np.arange(4), ['Extreme Poverty', 'Moderate Poverty', 'Vulnerable Household', 'Non-Vulnerable Household'], rotation=90)\n",
    "\n",
    "#legenda\n",
    "plt.legend(title='Computador', loc='upper left', labels=['Sim', 'Não'])\n",
    "plt.show()"
   ]
  },
  {
   "cell_type": "code",
   "execution_count": 65,
   "metadata": {
    "execution": {
     "iopub.execute_input": "2021-03-29T15:22:04.764555Z",
     "iopub.status.busy": "2021-03-29T15:22:04.763909Z",
     "iopub.status.idle": "2021-03-29T15:22:04.962172Z",
     "shell.execute_reply": "2021-03-29T15:22:04.962793Z"
    },
    "papermill": {
     "duration": 0.311278,
     "end_time": "2021-03-29T15:22:04.962964",
     "exception": false,
     "start_time": "2021-03-29T15:22:04.651686",
     "status": "completed"
    },
    "tags": []
   },
   "outputs": [
    {
     "data": {
      "image/png": "[encoded data removed]",
      "text/plain": [
       "<Figure size 432x288 with 1 Axes>"
      ]
     },
     "metadata": {
      "needs_background": "light"
     },
     "output_type": "display_data"
    }
   ],
   "source": [
    "tv=sns.countplot(x=\"Target\",hue=\"television\",hue_order=[1,0], data=df_all)\n",
    "tv.set_title('Tem Televisão ou Não?')\n",
    "plt.xticks(np.arange(4), ['Extreme Poverty', 'Moderate Poverty', 'Vulnerable Household', 'Non-Vulnerable Household'], rotation=90)\n",
    "\n",
    "#legenda\n",
    "plt.legend(title='Televisão', loc='upper left', labels=['Sim', 'Não'])\n",
    "plt.show()"
   ]
  },
  {
   "cell_type": "code",
   "execution_count": 66,
   "metadata": {
    "execution": {
     "iopub.execute_input": "2021-03-29T15:22:05.196920Z",
     "iopub.status.busy": "2021-03-29T15:22:05.196227Z",
     "iopub.status.idle": "2021-03-29T15:22:06.077819Z",
     "shell.execute_reply": "2021-03-29T15:22:06.078312Z"
    },
    "papermill": {
     "duration": 0.995372,
     "end_time": "2021-03-29T15:22:06.078496",
     "exception": false,
     "start_time": "2021-03-29T15:22:05.083124",
     "status": "completed"
    },
    "tags": []
   },
   "outputs": [
    {
     "data": {
      "image/png": "[encoded data removed]",
      "text/plain": [
       "<Figure size 432x288 with 1 Axes>"
      ]
     },
     "metadata": {
      "needs_background": "light"
     },
     "output_type": "display_data"
    },
    {
     "data": {
      "image/png": "[encoded data removed]",
      "text/plain": [
       "<Figure size 432x288 with 1 Axes>"
      ]
     },
     "metadata": {
      "needs_background": "light"
     },
     "output_type": "display_data"
    },
    {
     "data": {
      "image/png": "[encoded data removed]",
      "text/plain": [
       "<Figure size 432x288 with 1 Axes>"
      ]
     },
     "metadata": {
      "needs_background": "light"
     },
     "output_type": "display_data"
    },
    {
     "data": {
      "image/png": "[encoded data removed]",
      "text/plain": [
       "<Figure size 432x288 with 1 Axes>"
      ]
     },
     "metadata": {
      "needs_background": "light"
     },
     "output_type": "display_data"
    }
   ],
   "source": [
    "\n",
    "hep=sns.histplot(df_all[df_all['Target'] == 1], x=\"overcrowding\", bins=30 )\n",
    "hep.set_title('Distribuição de pessoas por quarto quando é Extrema Pobreza')\n",
    "plt.show()\n",
    "\n",
    "hp=sns.histplot(df_all[df_all['Target'] == 2], x=\"overcrowding\", bins=30 )\n",
    "hp.set_title('Distribuição de pessoas por quarto quando é Pobreza Moderada')\n",
    "plt.show()\n",
    "\n",
    "hcv=sns.histplot(df_all[df_all['Target'] == 3], x=\"overcrowding\", bins=30 )\n",
    "hcv.set_title('Distribuição de pessoas por quarto quando é Família Vulnerável')\n",
    "plt.show()\n",
    "\n",
    "hcnv=sns.histplot(df_all[df_all['Target'] == 4], x=\"overcrowding\", bins=30 )\n",
    "hcnv.set_title('Distribuição de pessoas por quarto quando é Família Não Vulnerável')\n",
    "plt.show()"
   ]
  },
  {
   "cell_type": "markdown",
   "metadata": {
    "papermill": {
     "duration": 0.112676,
     "end_time": "2021-03-29T15:22:06.304621",
     "exception": false,
     "start_time": "2021-03-29T15:22:06.191945",
     "status": "completed"
    },
    "tags": []
   },
   "source": [
    "### Preços de Alugueis"
   ]
  },
  {
   "cell_type": "code",
   "execution_count": 67,
   "metadata": {
    "execution": {
     "iopub.execute_input": "2021-03-29T15:22:06.539052Z",
     "iopub.status.busy": "2021-03-29T15:22:06.538368Z",
     "iopub.status.idle": "2021-03-29T15:22:07.363275Z",
     "shell.execute_reply": "2021-03-29T15:22:07.363756Z"
    },
    "papermill": {
     "duration": 0.945426,
     "end_time": "2021-03-29T15:22:07.363951",
     "exception": false,
     "start_time": "2021-03-29T15:22:06.418525",
     "status": "completed"
    },
    "tags": []
   },
   "outputs": [
    {
     "data": {
      "image/png": "[encoded data removed]",
      "text/plain": [
       "<Figure size 432x288 with 1 Axes>"
      ]
     },
     "metadata": {
      "needs_background": "light"
     },
     "output_type": "display_data"
    },
    {
     "data": {
      "image/png": "[encoded data removed]",
      "text/plain": [
       "<Figure size 432x288 with 1 Axes>"
      ]
     },
     "metadata": {
      "needs_background": "light"
     },
     "output_type": "display_data"
    },
    {
     "data": {
      "image/png": "[encoded data removed]",
      "text/plain": [
       "<Figure size 432x288 with 1 Axes>"
      ]
     },
     "metadata": {
      "needs_background": "light"
     },
     "output_type": "display_data"
    },
    {
     "data": {
      "image/png": "[encoded data removed]",
      "text/plain": [
       "<Figure size 432x288 with 1 Axes>"
      ]
     },
     "metadata": {
      "needs_background": "light"
     },
     "output_type": "display_data"
    }
   ],
   "source": [
    "hep=sns.histplot(df_all[df_all['Target'] == 1], x=\"v2a1\", bins=30 )\n",
    "hep.set_title('Preços de alugueis quando é Extrema Pobreza')\n",
    "plt.show()\n",
    "\n",
    "hp=sns.histplot(df_all[df_all['Target'] == 2], x=\"v2a1\", bins=30 )\n",
    "hp.set_title('Preços de alugueis quando é Pobreza Moderada')\n",
    "plt.show()\n",
    "\n",
    "hcv=sns.histplot(df_all[df_all['Target'] == 3], x=\"v2a1\", bins=30 )\n",
    "hcv.set_title('Preços de alugueis quando é Família Vulnerável')\n",
    "plt.show()\n",
    "\n",
    "hcnv=sns.histplot(df_all[df_all['Target'] == 4], x=\"v2a1\", bins=30 )\n",
    "hcnv.set_title('Preços de alugueis quando é Família Não Vulnerável')\n",
    "plt.show()"
   ]
  },
  {
   "cell_type": "markdown",
   "metadata": {
    "papermill": {
     "duration": 0.116348,
     "end_time": "2021-03-29T15:22:07.597693",
     "exception": false,
     "start_time": "2021-03-29T15:22:07.481345",
     "status": "completed"
    },
    "tags": []
   },
   "source": [
    "## Separando entre treino e teste"
   ]
  },
  {
   "cell_type": "code",
   "execution_count": 68,
   "metadata": {
    "execution": {
     "iopub.execute_input": "2021-03-29T15:22:07.836683Z",
     "iopub.status.busy": "2021-03-29T15:22:07.836015Z",
     "iopub.status.idle": "2021-03-29T15:22:07.862601Z",
     "shell.execute_reply": "2021-03-29T15:22:07.863090Z"
    },
    "papermill": {
     "duration": 0.147196,
     "end_time": "2021-03-29T15:22:07.863279",
     "exception": false,
     "start_time": "2021-03-29T15:22:07.716083",
     "status": "completed"
    },
    "tags": []
   },
   "outputs": [
    {
     "data": {
      "text/plain": [
       "((9557, 143), (23856, 143))"
      ]
     },
     "execution_count": 68,
     "metadata": {},
     "output_type": "execute_result"
    }
   ],
   "source": [
    "train, test = df_all[~df_all['Target'].isnull()], df_all[df_all['Target'].isnull()]\n",
    "\n",
    "train.shape, test.shape"
   ]
  },
  {
   "cell_type": "markdown",
   "metadata": {
    "papermill": {
     "duration": 0.119216,
     "end_time": "2021-03-29T15:22:08.103269",
     "exception": false,
     "start_time": "2021-03-29T15:22:07.984053",
     "status": "completed"
    },
    "tags": []
   },
   "source": [
    "## Tratamento de classes desbalanceadas"
   ]
  },
  {
   "cell_type": "code",
   "execution_count": 69,
   "metadata": {
    "execution": {
     "iopub.execute_input": "2021-03-29T15:22:08.341120Z",
     "iopub.status.busy": "2021-03-29T15:22:08.339912Z",
     "iopub.status.idle": "2021-03-29T15:22:09.162914Z",
     "shell.execute_reply": "2021-03-29T15:22:09.162364Z"
    },
    "papermill": {
     "duration": 0.943358,
     "end_time": "2021-03-29T15:22:09.163063",
     "exception": false,
     "start_time": "2021-03-29T15:22:08.219705",
     "status": "completed"
    },
    "tags": []
   },
   "outputs": [],
   "source": [
    "# Importando a biblioteca\n",
    "import imblearn"
   ]
  },
  {
   "cell_type": "code",
   "execution_count": 70,
   "metadata": {
    "execution": {
     "iopub.execute_input": "2021-03-29T15:22:09.408769Z",
     "iopub.status.busy": "2021-03-29T15:22:09.405687Z",
     "iopub.status.idle": "2021-03-29T15:22:09.413798Z",
     "shell.execute_reply": "2021-03-29T15:22:09.412920Z"
    },
    "papermill": {
     "duration": 0.13304,
     "end_time": "2021-03-29T15:22:09.414133",
     "exception": false,
     "start_time": "2021-03-29T15:22:09.281093",
     "status": "completed"
    },
    "tags": []
   },
   "outputs": [
    {
     "data": {
      "text/plain": [
       "4.0    5996\n",
       "2.0    1597\n",
       "3.0    1209\n",
       "1.0     755\n",
       "Name: Target, dtype: int64"
      ]
     },
     "execution_count": 70,
     "metadata": {},
     "output_type": "execute_result"
    }
   ],
   "source": [
    "train['Target'].value_counts()"
   ]
  },
  {
   "cell_type": "code",
   "execution_count": 71,
   "metadata": {
    "execution": {
     "iopub.execute_input": "2021-03-29T15:22:09.658334Z",
     "iopub.status.busy": "2021-03-29T15:22:09.657334Z",
     "iopub.status.idle": "2021-03-29T15:22:09.665986Z",
     "shell.execute_reply": "2021-03-29T15:22:09.665336Z"
    },
    "papermill": {
     "duration": 0.132216,
     "end_time": "2021-03-29T15:22:09.666133",
     "exception": false,
     "start_time": "2021-03-29T15:22:09.533917",
     "status": "completed"
    },
    "tags": []
   },
   "outputs": [
    {
     "data": {
      "text/plain": [
       "4.0    0.627394\n",
       "2.0    0.167103\n",
       "3.0    0.126504\n",
       "1.0    0.079000\n",
       "Name: Target, dtype: float64"
      ]
     },
     "execution_count": 71,
     "metadata": {},
     "output_type": "execute_result"
    }
   ],
   "source": [
    "train['Target'].value_counts(normalize=True)"
   ]
  },
  {
   "cell_type": "code",
   "execution_count": 72,
   "metadata": {
    "execution": {
     "iopub.execute_input": "2021-03-29T15:22:09.909766Z",
     "iopub.status.busy": "2021-03-29T15:22:09.908856Z",
     "iopub.status.idle": "2021-03-29T15:22:09.912525Z",
     "shell.execute_reply": "2021-03-29T15:22:09.911881Z"
    },
    "papermill": {
     "duration": 0.12788,
     "end_time": "2021-03-29T15:22:09.912668",
     "exception": false,
     "start_time": "2021-03-29T15:22:09.784788",
     "status": "completed"
    },
    "tags": []
   },
   "outputs": [],
   "source": [
    "feats = [c for c in train.columns if c not in ['Id', 'idhogar', 'Target']]"
   ]
  },
  {
   "cell_type": "code",
   "execution_count": 73,
   "metadata": {
    "execution": {
     "iopub.execute_input": "2021-03-29T15:22:10.164198Z",
     "iopub.status.busy": "2021-03-29T15:22:10.163213Z",
     "iopub.status.idle": "2021-03-29T15:22:10.166412Z",
     "shell.execute_reply": "2021-03-29T15:22:10.165778Z"
    },
    "papermill": {
     "duration": 0.135687,
     "end_time": "2021-03-29T15:22:10.166556",
     "exception": false,
     "start_time": "2021-03-29T15:22:10.030869",
     "status": "completed"
    },
    "tags": []
   },
   "outputs": [],
   "source": [
    "# Separando os dados de entrada e o target da base de treino\n",
    "X, y = train[feats], train[['Target']]"
   ]
  },
  {
   "cell_type": "code",
   "execution_count": 74,
   "metadata": {
    "execution": {
     "iopub.execute_input": "2021-03-29T15:22:10.408045Z",
     "iopub.status.busy": "2021-03-29T15:22:10.407022Z",
     "iopub.status.idle": "2021-03-29T15:22:11.021275Z",
     "shell.execute_reply": "2021-03-29T15:22:11.020732Z"
    },
    "papermill": {
     "duration": 0.736411,
     "end_time": "2021-03-29T15:22:11.021432",
     "exception": false,
     "start_time": "2021-03-29T15:22:10.285021",
     "status": "completed"
    },
    "tags": []
   },
   "outputs": [
    {
     "data": {
      "text/plain": [
       "4.0    5996\n",
       "2.0    5996\n",
       "3.0    5996\n",
       "1.0    5996\n",
       "Name: Target, dtype: int64"
      ]
     },
     "execution_count": 74,
     "metadata": {},
     "output_type": "execute_result"
    }
   ],
   "source": [
    "from imblearn.over_sampling import SMOTE\n",
    "\n",
    "# Fazendo o SMOTE\n",
    "sm = SMOTE()\n",
    "X_sm, y_sm = sm.fit_resample(X,y)\n",
    "\n",
    "# Verificando os dados\n",
    "y_sm['Target'].value_counts()"
   ]
  },
  {
   "cell_type": "code",
   "execution_count": 75,
   "metadata": {
    "execution": {
     "iopub.execute_input": "2021-03-29T15:22:11.276727Z",
     "iopub.status.busy": "2021-03-29T15:22:11.275616Z",
     "iopub.status.idle": "2021-03-29T15:22:11.283077Z",
     "shell.execute_reply": "2021-03-29T15:22:11.283594Z"
    },
    "papermill": {
     "duration": 0.141836,
     "end_time": "2021-03-29T15:22:11.283779",
     "exception": false,
     "start_time": "2021-03-29T15:22:11.141943",
     "status": "completed"
    },
    "tags": []
   },
   "outputs": [
    {
     "data": {
      "text/plain": [
       "((23984, 141),\n",
       " 4.0    0.25\n",
       " 2.0    0.25\n",
       " 3.0    0.25\n",
       " 1.0    0.25\n",
       " Name: Target, dtype: float64)"
      ]
     },
     "execution_count": 75,
     "metadata": {},
     "output_type": "execute_result"
    }
   ],
   "source": [
    "# Juntando os dados\n",
    "train = pd.concat([X_sm, y_sm], axis=1)\n",
    "train.shape, train['Target'].value_counts(normalize=True)"
   ]
  },
  {
   "cell_type": "markdown",
   "metadata": {
    "papermill": {
     "duration": 0.121353,
     "end_time": "2021-03-29T15:22:11.524753",
     "exception": false,
     "start_time": "2021-03-29T15:22:11.403400",
     "status": "completed"
    },
    "tags": []
   },
   "source": [
    "## Random Forest"
   ]
  },
  {
   "cell_type": "code",
   "execution_count": 76,
   "metadata": {
    "execution": {
     "iopub.execute_input": "2021-03-29T15:22:11.765492Z",
     "iopub.status.busy": "2021-03-29T15:22:11.764532Z",
     "iopub.status.idle": "2021-03-29T15:22:11.769992Z",
     "shell.execute_reply": "2021-03-29T15:22:11.770512Z"
    },
    "papermill": {
     "duration": 0.127767,
     "end_time": "2021-03-29T15:22:11.770698",
     "exception": false,
     "start_time": "2021-03-29T15:22:11.642931",
     "status": "completed"
    },
    "tags": []
   },
   "outputs": [],
   "source": [
    "from sklearn.ensemble import RandomForestClassifier\n",
    "\n",
    "# Importando a métrica\n",
    "from sklearn.metrics import accuracy_score\n",
    "\n",
    "rf = RandomForestClassifier(n_estimators=200, n_jobs=-1, random_state=42, oob_score=True,\n",
    "                           min_samples_leaf=5, min_samples_split=20, max_depth=10)"
   ]
  },
  {
   "cell_type": "code",
   "execution_count": 77,
   "metadata": {
    "execution": {
     "iopub.execute_input": "2021-03-29T15:22:12.011282Z",
     "iopub.status.busy": "2021-03-29T15:22:12.010324Z",
     "iopub.status.idle": "2021-03-29T15:22:12.014577Z",
     "shell.execute_reply": "2021-03-29T15:22:12.015065Z"
    },
    "papermill": {
     "duration": 0.126933,
     "end_time": "2021-03-29T15:22:12.015269",
     "exception": false,
     "start_time": "2021-03-29T15:22:11.888336",
     "status": "completed"
    },
    "tags": []
   },
   "outputs": [],
   "source": [
    "# Separando as colunas para treinamento\n",
    "feats2 = [c for c in df_all.columns if c not in ['Id', 'idhogar', 'Target']]"
   ]
  },
  {
   "cell_type": "code",
   "execution_count": 78,
   "metadata": {
    "execution": {
     "iopub.execute_input": "2021-03-29T15:22:12.261272Z",
     "iopub.status.busy": "2021-03-29T15:22:12.260615Z",
     "iopub.status.idle": "2021-03-29T15:22:16.279815Z",
     "shell.execute_reply": "2021-03-29T15:22:16.278553Z"
    },
    "papermill": {
     "duration": 4.144959,
     "end_time": "2021-03-29T15:22:16.280063",
     "exception": false,
     "start_time": "2021-03-29T15:22:12.135104",
     "status": "completed"
    },
    "tags": []
   },
   "outputs": [
    {
     "data": {
      "text/plain": [
       "RandomForestClassifier(max_depth=10, min_samples_leaf=5, min_samples_split=20,\n",
       "                       n_estimators=200, n_jobs=-1, oob_score=True,\n",
       "                       random_state=42)"
      ]
     },
     "execution_count": 78,
     "metadata": {},
     "output_type": "execute_result"
    }
   ],
   "source": [
    "# Treinando o modelo\n",
    "rf.fit(train[feats], train['Target'])"
   ]
  },
  {
   "cell_type": "code",
   "execution_count": 79,
   "metadata": {
    "execution": {
     "iopub.execute_input": "2021-03-29T15:22:16.537925Z",
     "iopub.status.busy": "2021-03-29T15:22:16.537258Z",
     "iopub.status.idle": "2021-03-29T15:22:16.860998Z",
     "shell.execute_reply": "2021-03-29T15:22:16.859514Z"
    },
    "papermill": {
     "duration": 0.458665,
     "end_time": "2021-03-29T15:22:16.861298",
     "exception": false,
     "start_time": "2021-03-29T15:22:16.402633",
     "status": "completed"
    },
    "tags": []
   },
   "outputs": [
    {
     "name": "stderr",
     "output_type": "stream",
     "text": [
      "/opt/conda/lib/python3.7/site-packages/ipykernel_launcher.py:2: SettingWithCopyWarning: \n",
      "A value is trying to be set on a copy of a slice from a DataFrame.\n",
      "Try using .loc[row_indexer,col_indexer] = value instead\n",
      "\n",
      "See the caveats in the documentation: https://pandas.pydata.org/pandas-docs/stable/user_guide/indexing.html#returning-a-view-versus-a-copy\n",
      "  \n"
     ]
    }
   ],
   "source": [
    "# Prever o Target do Dataframe de teste\n",
    "test['Target'] = rf.predict(test[feats2]).astype(int)"
   ]
  },
  {
   "cell_type": "code",
   "execution_count": 80,
   "metadata": {
    "execution": {
     "iopub.execute_input": "2021-03-29T15:22:17.115993Z",
     "iopub.status.busy": "2021-03-29T15:22:17.113390Z",
     "iopub.status.idle": "2021-03-29T15:22:17.119421Z",
     "shell.execute_reply": "2021-03-29T15:22:17.119937Z"
    },
    "papermill": {
     "duration": 0.135749,
     "end_time": "2021-03-29T15:22:17.120123",
     "exception": false,
     "start_time": "2021-03-29T15:22:16.984374",
     "status": "completed"
    },
    "tags": []
   },
   "outputs": [
    {
     "data": {
      "text/plain": [
       "4    0.661511\n",
       "2    0.147175\n",
       "3    0.121647\n",
       "1    0.069668\n",
       "Name: Target, dtype: float64"
      ]
     },
     "execution_count": 80,
     "metadata": {},
     "output_type": "execute_result"
    }
   ],
   "source": [
    "# Verificando as previsões\n",
    "test['Target'].value_counts(normalize=True)"
   ]
  },
  {
   "cell_type": "code",
   "execution_count": 81,
   "metadata": {
    "execution": {
     "iopub.execute_input": "2021-03-29T15:22:17.364368Z",
     "iopub.status.busy": "2021-03-29T15:22:17.363729Z",
     "iopub.status.idle": "2021-03-29T15:22:17.441031Z",
     "shell.execute_reply": "2021-03-29T15:22:17.440512Z"
    },
    "papermill": {
     "duration": 0.201603,
     "end_time": "2021-03-29T15:22:17.441189",
     "exception": false,
     "start_time": "2021-03-29T15:22:17.239586",
     "status": "completed"
    },
    "tags": []
   },
   "outputs": [],
   "source": [
    "# Criando o arquivo para submissão\n",
    "test[['Id', 'Target']].to_csv('submission.csv', index=False) "
   ]
  },
  {
   "cell_type": "markdown",
   "metadata": {
    "papermill": {
     "duration": 0.120485,
     "end_time": "2021-03-29T15:22:17.682080",
     "exception": false,
     "start_time": "2021-03-29T15:22:17.561595",
     "status": "completed"
    },
    "tags": []
   },
   "source": [
    "## GBM"
   ]
  },
  {
   "cell_type": "code",
   "execution_count": 82,
   "metadata": {
    "execution": {
     "iopub.execute_input": "2021-03-29T15:22:17.944466Z",
     "iopub.status.busy": "2021-03-29T15:22:17.943105Z",
     "iopub.status.idle": "2021-03-29T15:24:48.535894Z",
     "shell.execute_reply": "2021-03-29T15:24:48.536499Z"
    },
    "papermill": {
     "duration": 150.732934,
     "end_time": "2021-03-29T15:24:48.536702",
     "exception": false,
     "start_time": "2021-03-29T15:22:17.803768",
     "status": "completed"
    },
    "tags": []
   },
   "outputs": [
    {
     "data": {
      "text/plain": [
       "GradientBoostingClassifier(learning_rate=1.0, max_depth=4, n_estimators=200,\n",
       "                           random_state=42, subsample=1)"
      ]
     },
     "execution_count": 82,
     "metadata": {},
     "output_type": "execute_result"
    }
   ],
   "source": [
    "# Trabalhando com GBM\n",
    "from sklearn.ensemble import GradientBoostingClassifier\n",
    "\n",
    "gbm = GradientBoostingClassifier(n_estimators=200, learning_rate=1.0, max_depth=4, random_state=42, min_samples_split=2, min_samples_leaf=1, subsample=1)\n",
    "gbm.fit(train[feats], train['Target'])"
   ]
  },
  {
   "cell_type": "code",
   "execution_count": 83,
   "metadata": {
    "execution": {
     "iopub.execute_input": "2021-03-29T15:24:48.847067Z",
     "iopub.status.busy": "2021-03-29T15:24:48.846338Z",
     "iopub.status.idle": "2021-03-29T15:24:49.333060Z",
     "shell.execute_reply": "2021-03-29T15:24:49.333603Z"
    },
    "papermill": {
     "duration": 0.623171,
     "end_time": "2021-03-29T15:24:49.333799",
     "exception": false,
     "start_time": "2021-03-29T15:24:48.710628",
     "status": "completed"
    },
    "tags": []
   },
   "outputs": [
    {
     "name": "stderr",
     "output_type": "stream",
     "text": [
      "/opt/conda/lib/python3.7/site-packages/ipykernel_launcher.py:2: SettingWithCopyWarning: \n",
      "A value is trying to be set on a copy of a slice from a DataFrame.\n",
      "Try using .loc[row_indexer,col_indexer] = value instead\n",
      "\n",
      "See the caveats in the documentation: https://pandas.pydata.org/pandas-docs/stable/user_guide/indexing.html#returning-a-view-versus-a-copy\n",
      "  \n"
     ]
    }
   ],
   "source": [
    "\n",
    "# Prever o Target do Dataframe de teste\n",
    "test['Target'] = gbm.predict(test[feats2]).astype(int)"
   ]
  },
  {
   "cell_type": "code",
   "execution_count": 84,
   "metadata": {
    "execution": {
     "iopub.execute_input": "2021-03-29T15:24:49.589295Z",
     "iopub.status.busy": "2021-03-29T15:24:49.588643Z",
     "iopub.status.idle": "2021-03-29T15:24:49.592744Z",
     "shell.execute_reply": "2021-03-29T15:24:49.592205Z"
    },
    "papermill": {
     "duration": 0.133858,
     "end_time": "2021-03-29T15:24:49.592886",
     "exception": false,
     "start_time": "2021-03-29T15:24:49.459028",
     "status": "completed"
    },
    "tags": []
   },
   "outputs": [
    {
     "data": {
      "text/plain": [
       "4    0.679787\n",
       "2    0.157948\n",
       "3    0.102951\n",
       "1    0.059314\n",
       "Name: Target, dtype: float64"
      ]
     },
     "execution_count": 84,
     "metadata": {},
     "output_type": "execute_result"
    }
   ],
   "source": [
    "# Verificando as previsões\n",
    "test['Target'].value_counts(normalize=True)"
   ]
  },
  {
   "cell_type": "markdown",
   "metadata": {
    "papermill": {
     "duration": 0.120372,
     "end_time": "2021-03-29T15:24:49.837007",
     "exception": false,
     "start_time": "2021-03-29T15:24:49.716635",
     "status": "completed"
    },
    "tags": []
   },
   "source": [
    "## XGboost"
   ]
  },
  {
   "cell_type": "code",
   "execution_count": 85,
   "metadata": {
    "execution": {
     "iopub.execute_input": "2021-03-29T15:24:50.085627Z",
     "iopub.status.busy": "2021-03-29T15:24:50.084968Z",
     "iopub.status.idle": "2021-03-29T15:25:39.040468Z",
     "shell.execute_reply": "2021-03-29T15:25:39.041004Z"
    },
    "papermill": {
     "duration": 49.083269,
     "end_time": "2021-03-29T15:25:39.041201",
     "exception": false,
     "start_time": "2021-03-29T15:24:49.957932",
     "status": "completed"
    },
    "tags": []
   },
   "outputs": [
    {
     "name": "stderr",
     "output_type": "stream",
     "text": [
      "/opt/conda/lib/python3.7/site-packages/xgboost/sklearn.py:888: UserWarning: The use of label encoder in XGBClassifier is deprecated and will be removed in a future release. To remove this warning, do the following: 1) Pass option use_label_encoder=False when constructing XGBClassifier object; and 2) Encode your labels (y) as integers starting with 0, i.e. 0, 1, 2, ..., [num_class - 1].\n",
      "  warnings.warn(label_encoder_deprecation_msg, UserWarning)\n"
     ]
    },
    {
     "name": "stdout",
     "output_type": "stream",
     "text": [
      "[15:24:50] WARNING: ../src/learner.cc:1061: Starting in XGBoost 1.3.0, the default evaluation metric used with the objective 'multi:softprob' was changed from 'merror' to 'mlogloss'. Explicitly set eval_metric if you'd like to restore the old behavior.\n"
     ]
    },
    {
     "data": {
      "text/plain": [
       "XGBClassifier(base_score=0.5, booster='gbtree', colsample_bylevel=1,\n",
       "              colsample_bynode=1, colsample_bytree=1, gamma=0, gpu_id=-1,\n",
       "              importance_type='gain', interaction_constraints='',\n",
       "              learning_rate=0.09, max_delta_step=0, max_depth=6,\n",
       "              min_child_weight=1, missing=nan, monotone_constraints='()',\n",
       "              n_estimators=200, n_jobs=4, num_parallel_tree=1,\n",
       "              objective='multi:softprob', random_state=42, reg_alpha=0,\n",
       "              reg_lambda=1, scale_pos_weight=None, subsample=1,\n",
       "              tree_method='exact', validate_parameters=1, verbosity=None)"
      ]
     },
     "execution_count": 85,
     "metadata": {},
     "output_type": "execute_result"
    }
   ],
   "source": [
    "# Trabalhando com XGBoost\n",
    "from xgboost import XGBClassifier\n",
    "\n",
    "xgb = XGBClassifier(n_estimators=200, learning_rate=0.09, random_state=42)\n",
    "xgb.fit(train[feats], train['Target'])"
   ]
  },
  {
   "cell_type": "code",
   "execution_count": 86,
   "metadata": {
    "execution": {
     "iopub.execute_input": "2021-03-29T15:25:39.303844Z",
     "iopub.status.busy": "2021-03-29T15:25:39.303142Z",
     "iopub.status.idle": "2021-03-29T15:25:39.570695Z",
     "shell.execute_reply": "2021-03-29T15:25:39.569848Z"
    },
    "papermill": {
     "duration": 0.405797,
     "end_time": "2021-03-29T15:25:39.570925",
     "exception": false,
     "start_time": "2021-03-29T15:25:39.165128",
     "status": "completed"
    },
    "tags": []
   },
   "outputs": [
    {
     "name": "stderr",
     "output_type": "stream",
     "text": [
      "/opt/conda/lib/python3.7/site-packages/ipykernel_launcher.py:2: SettingWithCopyWarning: \n",
      "A value is trying to be set on a copy of a slice from a DataFrame.\n",
      "Try using .loc[row_indexer,col_indexer] = value instead\n",
      "\n",
      "See the caveats in the documentation: https://pandas.pydata.org/pandas-docs/stable/user_guide/indexing.html#returning-a-view-versus-a-copy\n",
      "  \n"
     ]
    }
   ],
   "source": [
    "# Prever o Target do Dataframe de teste\n",
    "test['Target'] = xgb.predict(test[feats2]).astype(int)"
   ]
  },
  {
   "cell_type": "code",
   "execution_count": 87,
   "metadata": {
    "execution": {
     "iopub.execute_input": "2021-03-29T15:25:39.830811Z",
     "iopub.status.busy": "2021-03-29T15:25:39.830138Z",
     "iopub.status.idle": "2021-03-29T15:25:39.836699Z",
     "shell.execute_reply": "2021-03-29T15:25:39.837157Z"
    },
    "papermill": {
     "duration": 0.139608,
     "end_time": "2021-03-29T15:25:39.837358",
     "exception": false,
     "start_time": "2021-03-29T15:25:39.697750",
     "status": "completed"
    },
    "tags": []
   },
   "outputs": [
    {
     "data": {
      "text/plain": [
       "4    0.739562\n",
       "2    0.144492\n",
       "3    0.064219\n",
       "1    0.051727\n",
       "Name: Target, dtype: float64"
      ]
     },
     "execution_count": 87,
     "metadata": {},
     "output_type": "execute_result"
    }
   ],
   "source": [
    "# Verificando as previsões\n",
    "test['Target'].value_counts(normalize=True)"
   ]
  },
  {
   "cell_type": "markdown",
   "metadata": {
    "papermill": {
     "duration": 0.128723,
     "end_time": "2021-03-29T15:25:40.089078",
     "exception": false,
     "start_time": "2021-03-29T15:25:39.960355",
     "status": "completed"
    },
    "tags": []
   },
   "source": [
    "## Adaboost"
   ]
  },
  {
   "cell_type": "code",
   "execution_count": 88,
   "metadata": {
    "execution": {
     "iopub.execute_input": "2021-03-29T15:25:40.350822Z",
     "iopub.status.busy": "2021-03-29T15:25:40.349851Z",
     "iopub.status.idle": "2021-03-29T15:25:54.151056Z",
     "shell.execute_reply": "2021-03-29T15:25:54.151571Z"
    },
    "papermill": {
     "duration": 13.935207,
     "end_time": "2021-03-29T15:25:54.151809",
     "exception": false,
     "start_time": "2021-03-29T15:25:40.216602",
     "status": "completed"
    },
    "tags": []
   },
   "outputs": [
    {
     "data": {
      "text/plain": [
       "AdaBoostClassifier(n_estimators=200, random_state=42)"
      ]
     },
     "execution_count": 88,
     "metadata": {},
     "output_type": "execute_result"
    }
   ],
   "source": [
    "# Trabalhando com AdaBoost\n",
    "from sklearn.ensemble import AdaBoostClassifier\n",
    "\n",
    "abc = AdaBoostClassifier(n_estimators=200, learning_rate=1.0, random_state=42)\n",
    "abc.fit(train[feats], train['Target'])"
   ]
  },
  {
   "cell_type": "code",
   "execution_count": 89,
   "metadata": {
    "execution": {
     "iopub.execute_input": "2021-03-29T15:25:54.423767Z",
     "iopub.status.busy": "2021-03-29T15:25:54.422485Z",
     "iopub.status.idle": "2021-03-29T15:25:56.707548Z",
     "shell.execute_reply": "2021-03-29T15:25:56.706796Z"
    },
    "papermill": {
     "duration": 2.428992,
     "end_time": "2021-03-29T15:25:56.707714",
     "exception": false,
     "start_time": "2021-03-29T15:25:54.278722",
     "status": "completed"
    },
    "tags": []
   },
   "outputs": [
    {
     "name": "stderr",
     "output_type": "stream",
     "text": [
      "/opt/conda/lib/python3.7/site-packages/ipykernel_launcher.py:2: SettingWithCopyWarning: \n",
      "A value is trying to be set on a copy of a slice from a DataFrame.\n",
      "Try using .loc[row_indexer,col_indexer] = value instead\n",
      "\n",
      "See the caveats in the documentation: https://pandas.pydata.org/pandas-docs/stable/user_guide/indexing.html#returning-a-view-versus-a-copy\n",
      "  \n"
     ]
    }
   ],
   "source": [
    "# Prever o Target do Dataframe de teste\n",
    "test['Target'] = abc.predict(test[feats2]).astype(int)"
   ]
  },
  {
   "cell_type": "code",
   "execution_count": 90,
   "metadata": {
    "execution": {
     "iopub.execute_input": "2021-03-29T15:25:56.965191Z",
     "iopub.status.busy": "2021-03-29T15:25:56.962473Z",
     "iopub.status.idle": "2021-03-29T15:25:56.969414Z",
     "shell.execute_reply": "2021-03-29T15:25:56.968758Z"
    },
    "papermill": {
     "duration": 0.134818,
     "end_time": "2021-03-29T15:25:56.969558",
     "exception": false,
     "start_time": "2021-03-29T15:25:56.834740",
     "status": "completed"
    },
    "tags": []
   },
   "outputs": [
    {
     "data": {
      "text/plain": [
       "4    0.682721\n",
       "2    0.157948\n",
       "3    0.088573\n",
       "1    0.070758\n",
       "Name: Target, dtype: float64"
      ]
     },
     "execution_count": 90,
     "metadata": {},
     "output_type": "execute_result"
    }
   ],
   "source": [
    "# Verificando as previsões\n",
    "test['Target'].value_counts(normalize=True)"
   ]
  },
  {
   "cell_type": "markdown",
   "metadata": {
    "papermill": {
     "duration": 0.125133,
     "end_time": "2021-03-29T15:25:57.220791",
     "exception": false,
     "start_time": "2021-03-29T15:25:57.095658",
     "status": "completed"
    },
    "tags": []
   },
   "source": [
    "### O modelo random Forest teve maior score, foi o melhor modelo!!!"
   ]
  },
  {
   "cell_type": "code",
   "execution_count": null,
   "metadata": {
    "papermill": {
     "duration": 0.127601,
     "end_time": "2021-03-29T15:25:57.473302",
     "exception": false,
     "start_time": "2021-03-29T15:25:57.345701",
     "status": "completed"
    },
    "tags": []
   },
   "outputs": [],
   "source": []
  }
 ],
 "metadata": {
  "kernelspec": {
   "display_name": "Python 3",
   "language": "python",
   "name": "python3"
  },
  "language_info": {
   "codemirror_mode": {
    "name": "ipython",
    "version": 3
   },
   "file_extension": ".py",
   "mimetype": "text/x-python",
   "name": "python",
   "nbconvert_exporter": "python",
   "pygments_lexer": "ipython3",
   "version": "3.7.9"
  },
  "papermill": {
   "default_parameters": {},
   "duration": 261.150091,
   "end_time": "2021-03-29T15:25:58.413828",
   "environment_variables": {},
   "exception": null,
   "input_path": "__notebook__.ipynb",
   "output_path": "__notebook__.ipynb",
   "parameters": {},
   "start_time": "2021-03-29T15:21:37.263737",
   "version": "2.2.2"
  }
 },
 "nbformat": 4,
 "nbformat_minor": 4
}
